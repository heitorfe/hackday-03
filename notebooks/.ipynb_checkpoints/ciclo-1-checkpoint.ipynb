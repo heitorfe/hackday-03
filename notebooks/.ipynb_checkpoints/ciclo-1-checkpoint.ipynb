{
 "cells": [
  {
   "cell_type": "markdown",
   "id": "764ae29e",
   "metadata": {},
   "source": [
    "### Imports"
   ]
  },
  {
   "cell_type": "code",
   "execution_count": 1,
   "id": "cf5617da",
   "metadata": {
    "ExecuteTime": {
     "end_time": "2022-10-22T14:00:52.134466Z",
     "start_time": "2022-10-22T14:00:46.491004Z"
    }
   },
   "outputs": [
    {
     "name": "stderr",
     "output_type": "stream",
     "text": [
      "C:\\Users\\Heithor\\anaconda3\\lib\\site-packages\\dask\\dataframe\\utils.py:369: FutureWarning: pandas.Int64Index is deprecated and will be removed from pandas in a future version. Use pandas.Index with the appropriate dtype instead.\n",
      "  _numeric_index_types = (pd.Int64Index, pd.Float64Index, pd.UInt64Index)\n",
      "C:\\Users\\Heithor\\anaconda3\\lib\\site-packages\\dask\\dataframe\\utils.py:369: FutureWarning: pandas.Float64Index is deprecated and will be removed from pandas in a future version. Use pandas.Index with the appropriate dtype instead.\n",
      "  _numeric_index_types = (pd.Int64Index, pd.Float64Index, pd.UInt64Index)\n",
      "C:\\Users\\Heithor\\anaconda3\\lib\\site-packages\\dask\\dataframe\\utils.py:369: FutureWarning: pandas.UInt64Index is deprecated and will be removed from pandas in a future version. Use pandas.Index with the appropriate dtype instead.\n",
      "  _numeric_index_types = (pd.Int64Index, pd.Float64Index, pd.UInt64Index)\n"
     ]
    }
   ],
   "source": [
    "import pandas as pd\n",
    "import numpy as np\n",
    "from sklearn import preprocessing as pp\n",
    "from matplotlib import pyplot as plt\n",
    "from sklearn.linear_model import LogisticRegression\n",
    "from sklearn.ensemble import RandomForestClassifier, ExtraTreesClassifier\n",
    "from sklearn.metrics import  f1_score, precision_score, recall_score\n",
    "from sklearn.model_selection import train_test_split, StratifiedKFold, KFold\n",
    "import seaborn as sns\n",
    "import plotly.express as px\n",
    "import sweetviz as sv\n",
    "import pickle\n",
    "from boruta import BorutaPy\n",
    "from lightgbm import LGBMClassifier\n",
    "from xgboost import XGBClassifier\n",
    "from sklearn.svm import SVR\n",
    "\n",
    "pd.set_option('display.max_rows', 100)\n",
    "pd.set_option('display.max_columns', 100)"
   ]
  },
  {
   "cell_type": "markdown",
   "id": "2ed657fe",
   "metadata": {},
   "source": [
    "### Helper Functions"
   ]
  },
  {
   "cell_type": "code",
   "execution_count": null,
   "id": "3e87d0cd",
   "metadata": {
    "ExecuteTime": {
     "end_time": "2022-10-22T14:00:52.197177Z",
     "start_time": "2022-10-22T14:00:52.167167Z"
    }
   },
   "outputs": [],
   "source": [
    "def simple_model_test(model, nome):\n",
    "    #model definition\n",
    "\n",
    "    # model fit\n",
    "    model.fit(X_train, y_train)\n",
    "\n",
    "    #model predict\n",
    "    y_hat = model.predict(X_test)\n",
    "    \n",
    "    # evaluate\n",
    "    f1 = np.round(f1_score( y_test_, y_hat_ ), 2)\n",
    "    \n",
    "    print('{}\\n f1: {}'.format(model_name, f1))\n",
    "    return f1\n",
    "\n",
    "def send_model(model):\n",
    "     # model fit\n",
    "    model.fit(X_train[cols_selected], y_train)\n",
    "    pickle.dump(model, open('../parameters/model.pkl', 'wb'))\n",
    "    print('Model submited')\n",
    "    return None\n",
    "\n",
    "def target_encoding(df, column)\n",
    "    target = df.groupby(column)[alvo].mean()\n",
    "    df[column] = df[column].map(target)\n",
    "    pickle.dump(target, open(f'../parameters/{column}_encode.pkl', 'wb'))\n",
    "    print(f'Target Encode to {column}')\n",
    "    \n",
    "def frequency_encoding(df, column)\n",
    "    frequency = df.groupby(column)[alvo].count() / len(df)\n",
    "    df[column] = df[column].map(frequency)\n",
    "    pickle.dump(target, open(f'../parameters/{column}_encode.pkl', 'wb'))\n",
    "    print(f'Frequency Encode to {column}')\n",
    "    "
   ]
  },
  {
   "cell_type": "code",
   "execution_count": 53,
   "id": "26bdb126",
   "metadata": {
    "ExecuteTime": {
     "end_time": "2022-10-22T14:18:24.253178Z",
     "start_time": "2022-10-22T14:18:24.232176Z"
    }
   },
   "outputs": [],
   "source": [
    "def data_preparation(df, teste=True):\n",
    "    num_cols = df.select_dtypes('number').drop('id_cliente', axis=1).columns\n",
    "    mms = pp.MinMaxScaler()\n",
    "\n",
    "    df[num_cols] = mms.fit_transform(df[num_cols])\n",
    "\n",
    "    map_bool = {'Sim': 1, 'Não': 0}\n",
    "    map_alvo = {'Conceder': 1, 'Negar': 0}\n",
    "    string_cols = ['investe_exterior', 'pessoa_polit_exp']\n",
    "\n",
    "    df['investe_exterior'] = df['investe_exterior'].map(map_bool)\n",
    "    df['pessoa_polit_exp'] = df['pessoa_polit_exp'].map(map_bool)\n",
    "    \n",
    "    if teste==False:\n",
    "        df[alvo] = df[alvo].map(map_alvo)\n",
    "    return df\n",
    "    "
   ]
  },
  {
   "cell_type": "markdown",
   "id": "0273a2ba",
   "metadata": {},
   "source": [
    "### Load Data "
   ]
  },
  {
   "cell_type": "code",
   "execution_count": 51,
   "id": "f186b688",
   "metadata": {
    "ExecuteTime": {
     "end_time": "2022-10-22T14:17:56.445737Z",
     "start_time": "2022-10-22T14:17:56.382399Z"
    }
   },
   "outputs": [],
   "source": [
    "path = '../data/train.csv'\n",
    "\n",
    "df_raw = pd.read_csv(path)\n",
    "df_test = pd.read_csv('../data/test.csv')"
   ]
  },
  {
   "cell_type": "markdown",
   "id": "c8eacb90",
   "metadata": {},
   "source": [
    "### Data Description"
   ]
  },
  {
   "cell_type": "code",
   "execution_count": 4,
   "id": "5ed534dd",
   "metadata": {
    "ExecuteTime": {
     "end_time": "2022-10-22T14:00:58.972502Z",
     "start_time": "2022-10-22T14:00:58.957501Z"
    }
   },
   "outputs": [],
   "source": [
    "df1 = df_raw.copy()"
   ]
  },
  {
   "cell_type": "code",
   "execution_count": 6,
   "id": "61510fd8",
   "metadata": {
    "ExecuteTime": {
     "end_time": "2022-10-22T14:01:08.007258Z",
     "start_time": "2022-10-22T14:01:07.990259Z"
    }
   },
   "outputs": [],
   "source": [
    "# set target\n",
    "alvo = 'limite_adicional'"
   ]
  },
  {
   "cell_type": "markdown",
   "id": "eca465ae",
   "metadata": {},
   "source": [
    "#### Nulls"
   ]
  },
  {
   "cell_type": "code",
   "execution_count": null,
   "id": "50efe28f",
   "metadata": {},
   "outputs": [],
   "source": [
    "df1.isna().sum()"
   ]
  },
  {
   "cell_type": "markdown",
   "id": "2f18985d",
   "metadata": {},
   "source": [
    "#### Dtypes"
   ]
  },
  {
   "cell_type": "code",
   "execution_count": null,
   "id": "b6199e91",
   "metadata": {},
   "outputs": [],
   "source": [
    "df1.dtypes"
   ]
  },
  {
   "cell_type": "markdown",
   "id": "6768c20c",
   "metadata": {},
   "source": [
    "### Data Filtering"
   ]
  },
  {
   "cell_type": "code",
   "execution_count": 7,
   "id": "39a88c5d",
   "metadata": {
    "ExecuteTime": {
     "end_time": "2022-10-22T14:01:20.626734Z",
     "start_time": "2022-10-22T14:01:20.607739Z"
    }
   },
   "outputs": [],
   "source": [
    "df2 = df1.copy()"
   ]
  },
  {
   "cell_type": "markdown",
   "id": "40e9fc27",
   "metadata": {},
   "source": [
    "### Feature Engineering"
   ]
  },
  {
   "cell_type": "code",
   "execution_count": 8,
   "id": "0efcbddd",
   "metadata": {
    "ExecuteTime": {
     "end_time": "2022-10-22T14:01:21.031419Z",
     "start_time": "2022-10-22T14:01:21.014373Z"
    }
   },
   "outputs": [],
   "source": [
    "df3 = df2.copy()"
   ]
  },
  {
   "cell_type": "markdown",
   "id": "f6e98336",
   "metadata": {},
   "source": [
    "### Colum Selection"
   ]
  },
  {
   "cell_type": "code",
   "execution_count": 9,
   "id": "2f9e3962",
   "metadata": {
    "ExecuteTime": {
     "end_time": "2022-10-22T14:01:23.129458Z",
     "start_time": "2022-10-22T14:01:23.112415Z"
    }
   },
   "outputs": [],
   "source": [
    "df4 = df3.copy()"
   ]
  },
  {
   "cell_type": "markdown",
   "id": "a9a5c1e5",
   "metadata": {},
   "source": [
    "### Data Preparation"
   ]
  },
  {
   "cell_type": "code",
   "execution_count": 11,
   "id": "3d8596c4",
   "metadata": {
    "ExecuteTime": {
     "end_time": "2022-10-22T14:01:29.267328Z",
     "start_time": "2022-10-22T14:01:29.255367Z"
    }
   },
   "outputs": [],
   "source": [
    "df5 = df4.copy()"
   ]
  },
  {
   "cell_type": "code",
   "execution_count": 18,
   "id": "3cacfa89",
   "metadata": {
    "ExecuteTime": {
     "end_time": "2022-10-22T14:04:24.090913Z",
     "start_time": "2022-10-22T14:04:24.050331Z"
    }
   },
   "outputs": [],
   "source": [
    "num_cols = df5.select_dtypes('number').drop('id_cliente', axis=1).columns\n",
    "mms = pp.MinMaxScaler()\n",
    "\n",
    "df5[num_cols] = mms.fit_transform(df5[num_cols])\n",
    "\n",
    "\n",
    "map_bool = {'Sim': 1, 'Não': 0}\n",
    "map_alvo = {'Conceder': 1, 'Negar': 0}\n",
    "string_cols = ['investe_exterior', 'pessoa_polit_exp']\n",
    "\n",
    "df5['investe_exterior'] = df5['investe_exterior'].map(map_bool)\n",
    "df5['pessoa_polit_exp'] = df5['pessoa_polit_exp'].map(map_bool)\n",
    "df5[alvo] = df5[alvo].map(map_alvo)"
   ]
  },
  {
   "cell_type": "markdown",
   "id": "62566d51",
   "metadata": {},
   "source": [
    "### Model Train"
   ]
  },
  {
   "cell_type": "code",
   "execution_count": 21,
   "id": "ac3e712b",
   "metadata": {
    "ExecuteTime": {
     "end_time": "2022-10-22T14:05:54.646757Z",
     "start_time": "2022-10-22T14:05:54.630763Z"
    }
   },
   "outputs": [],
   "source": [
    "X = df5.drop(['id_cliente', alvo], axis=1)\n",
    "y = df5[alvo]"
   ]
  },
  {
   "cell_type": "code",
   "execution_count": 22,
   "id": "e54fc5b3",
   "metadata": {
    "ExecuteTime": {
     "end_time": "2022-10-22T14:06:16.415563Z",
     "start_time": "2022-10-22T14:06:03.616681Z"
    }
   },
   "outputs": [
    {
     "name": "stderr",
     "output_type": "stream",
     "text": [
      "100%|██████████████████████████████████████████████████████████████████████████████████| 29/29 [00:11<00:00,  2.56it/s]\n"
     ]
    },
    {
     "data": {
      "text/html": [
       "<div>\n",
       "<style scoped>\n",
       "    .dataframe tbody tr th:only-of-type {\n",
       "        vertical-align: middle;\n",
       "    }\n",
       "\n",
       "    .dataframe tbody tr th {\n",
       "        vertical-align: top;\n",
       "    }\n",
       "\n",
       "    .dataframe thead th {\n",
       "        text-align: right;\n",
       "    }\n",
       "</style>\n",
       "<table border=\"1\" class=\"dataframe\">\n",
       "  <thead>\n",
       "    <tr style=\"text-align: right;\">\n",
       "      <th></th>\n",
       "      <th>Accuracy</th>\n",
       "      <th>Balanced Accuracy</th>\n",
       "      <th>ROC AUC</th>\n",
       "      <th>F1 Score</th>\n",
       "      <th>Time Taken</th>\n",
       "    </tr>\n",
       "    <tr>\n",
       "      <th>Model</th>\n",
       "      <th></th>\n",
       "      <th></th>\n",
       "      <th></th>\n",
       "      <th></th>\n",
       "      <th></th>\n",
       "    </tr>\n",
       "  </thead>\n",
       "  <tbody>\n",
       "    <tr>\n",
       "      <th>NearestCentroid</th>\n",
       "      <td>0.68</td>\n",
       "      <td>0.75</td>\n",
       "      <td>0.75</td>\n",
       "      <td>0.72</td>\n",
       "      <td>0.03</td>\n",
       "    </tr>\n",
       "    <tr>\n",
       "      <th>GaussianNB</th>\n",
       "      <td>0.72</td>\n",
       "      <td>0.74</td>\n",
       "      <td>0.74</td>\n",
       "      <td>0.75</td>\n",
       "      <td>0.02</td>\n",
       "    </tr>\n",
       "    <tr>\n",
       "      <th>QuadraticDiscriminantAnalysis</th>\n",
       "      <td>0.73</td>\n",
       "      <td>0.73</td>\n",
       "      <td>0.73</td>\n",
       "      <td>0.76</td>\n",
       "      <td>0.04</td>\n",
       "    </tr>\n",
       "    <tr>\n",
       "      <th>LGBMClassifier</th>\n",
       "      <td>0.87</td>\n",
       "      <td>0.72</td>\n",
       "      <td>0.72</td>\n",
       "      <td>0.86</td>\n",
       "      <td>0.24</td>\n",
       "    </tr>\n",
       "    <tr>\n",
       "      <th>RandomForestClassifier</th>\n",
       "      <td>0.88</td>\n",
       "      <td>0.70</td>\n",
       "      <td>0.70</td>\n",
       "      <td>0.87</td>\n",
       "      <td>0.82</td>\n",
       "    </tr>\n",
       "    <tr>\n",
       "      <th>XGBClassifier</th>\n",
       "      <td>0.87</td>\n",
       "      <td>0.70</td>\n",
       "      <td>0.70</td>\n",
       "      <td>0.86</td>\n",
       "      <td>0.53</td>\n",
       "    </tr>\n",
       "    <tr>\n",
       "      <th>BaggingClassifier</th>\n",
       "      <td>0.87</td>\n",
       "      <td>0.70</td>\n",
       "      <td>0.70</td>\n",
       "      <td>0.86</td>\n",
       "      <td>0.27</td>\n",
       "    </tr>\n",
       "    <tr>\n",
       "      <th>DecisionTreeClassifier</th>\n",
       "      <td>0.83</td>\n",
       "      <td>0.70</td>\n",
       "      <td>0.70</td>\n",
       "      <td>0.84</td>\n",
       "      <td>0.08</td>\n",
       "    </tr>\n",
       "    <tr>\n",
       "      <th>AdaBoostClassifier</th>\n",
       "      <td>0.87</td>\n",
       "      <td>0.69</td>\n",
       "      <td>0.69</td>\n",
       "      <td>0.86</td>\n",
       "      <td>0.43</td>\n",
       "    </tr>\n",
       "    <tr>\n",
       "      <th>Perceptron</th>\n",
       "      <td>0.79</td>\n",
       "      <td>0.65</td>\n",
       "      <td>0.65</td>\n",
       "      <td>0.80</td>\n",
       "      <td>0.03</td>\n",
       "    </tr>\n",
       "    <tr>\n",
       "      <th>ExtraTreeClassifier</th>\n",
       "      <td>0.82</td>\n",
       "      <td>0.65</td>\n",
       "      <td>0.65</td>\n",
       "      <td>0.82</td>\n",
       "      <td>0.04</td>\n",
       "    </tr>\n",
       "    <tr>\n",
       "      <th>ExtraTreesClassifier</th>\n",
       "      <td>0.86</td>\n",
       "      <td>0.63</td>\n",
       "      <td>0.63</td>\n",
       "      <td>0.84</td>\n",
       "      <td>0.66</td>\n",
       "    </tr>\n",
       "    <tr>\n",
       "      <th>LabelPropagation</th>\n",
       "      <td>0.81</td>\n",
       "      <td>0.58</td>\n",
       "      <td>0.58</td>\n",
       "      <td>0.80</td>\n",
       "      <td>1.55</td>\n",
       "    </tr>\n",
       "    <tr>\n",
       "      <th>LabelSpreading</th>\n",
       "      <td>0.81</td>\n",
       "      <td>0.58</td>\n",
       "      <td>0.58</td>\n",
       "      <td>0.80</td>\n",
       "      <td>1.95</td>\n",
       "    </tr>\n",
       "    <tr>\n",
       "      <th>KNeighborsClassifier</th>\n",
       "      <td>0.82</td>\n",
       "      <td>0.57</td>\n",
       "      <td>0.57</td>\n",
       "      <td>0.80</td>\n",
       "      <td>0.82</td>\n",
       "    </tr>\n",
       "    <tr>\n",
       "      <th>LogisticRegression</th>\n",
       "      <td>0.84</td>\n",
       "      <td>0.57</td>\n",
       "      <td>0.57</td>\n",
       "      <td>0.81</td>\n",
       "      <td>0.04</td>\n",
       "    </tr>\n",
       "    <tr>\n",
       "      <th>PassiveAggressiveClassifier</th>\n",
       "      <td>0.80</td>\n",
       "      <td>0.57</td>\n",
       "      <td>0.57</td>\n",
       "      <td>0.78</td>\n",
       "      <td>0.03</td>\n",
       "    </tr>\n",
       "    <tr>\n",
       "      <th>CalibratedClassifierCV</th>\n",
       "      <td>0.84</td>\n",
       "      <td>0.56</td>\n",
       "      <td>0.56</td>\n",
       "      <td>0.80</td>\n",
       "      <td>1.21</td>\n",
       "    </tr>\n",
       "    <tr>\n",
       "      <th>LinearSVC</th>\n",
       "      <td>0.84</td>\n",
       "      <td>0.53</td>\n",
       "      <td>0.53</td>\n",
       "      <td>0.79</td>\n",
       "      <td>0.31</td>\n",
       "    </tr>\n",
       "    <tr>\n",
       "      <th>BernoulliNB</th>\n",
       "      <td>0.84</td>\n",
       "      <td>0.53</td>\n",
       "      <td>0.53</td>\n",
       "      <td>0.79</td>\n",
       "      <td>0.04</td>\n",
       "    </tr>\n",
       "    <tr>\n",
       "      <th>SGDClassifier</th>\n",
       "      <td>0.84</td>\n",
       "      <td>0.51</td>\n",
       "      <td>0.51</td>\n",
       "      <td>0.78</td>\n",
       "      <td>0.07</td>\n",
       "    </tr>\n",
       "    <tr>\n",
       "      <th>LinearDiscriminantAnalysis</th>\n",
       "      <td>0.84</td>\n",
       "      <td>0.51</td>\n",
       "      <td>0.51</td>\n",
       "      <td>0.77</td>\n",
       "      <td>0.08</td>\n",
       "    </tr>\n",
       "    <tr>\n",
       "      <th>DummyClassifier</th>\n",
       "      <td>0.84</td>\n",
       "      <td>0.50</td>\n",
       "      <td>0.50</td>\n",
       "      <td>0.77</td>\n",
       "      <td>0.02</td>\n",
       "    </tr>\n",
       "    <tr>\n",
       "      <th>RidgeClassifier</th>\n",
       "      <td>0.84</td>\n",
       "      <td>0.50</td>\n",
       "      <td>0.50</td>\n",
       "      <td>0.77</td>\n",
       "      <td>0.03</td>\n",
       "    </tr>\n",
       "    <tr>\n",
       "      <th>RidgeClassifierCV</th>\n",
       "      <td>0.84</td>\n",
       "      <td>0.50</td>\n",
       "      <td>0.50</td>\n",
       "      <td>0.77</td>\n",
       "      <td>0.03</td>\n",
       "    </tr>\n",
       "    <tr>\n",
       "      <th>SVC</th>\n",
       "      <td>0.84</td>\n",
       "      <td>0.50</td>\n",
       "      <td>0.50</td>\n",
       "      <td>0.77</td>\n",
       "      <td>1.93</td>\n",
       "    </tr>\n",
       "  </tbody>\n",
       "</table>\n",
       "</div>"
      ],
      "text/plain": [
       "                               Accuracy  Balanced Accuracy  ROC AUC  F1 Score  \\\n",
       "Model                                                                           \n",
       "NearestCentroid                    0.68               0.75     0.75      0.72   \n",
       "GaussianNB                         0.72               0.74     0.74      0.75   \n",
       "QuadraticDiscriminantAnalysis      0.73               0.73     0.73      0.76   \n",
       "LGBMClassifier                     0.87               0.72     0.72      0.86   \n",
       "RandomForestClassifier             0.88               0.70     0.70      0.87   \n",
       "XGBClassifier                      0.87               0.70     0.70      0.86   \n",
       "BaggingClassifier                  0.87               0.70     0.70      0.86   \n",
       "DecisionTreeClassifier             0.83               0.70     0.70      0.84   \n",
       "AdaBoostClassifier                 0.87               0.69     0.69      0.86   \n",
       "Perceptron                         0.79               0.65     0.65      0.80   \n",
       "ExtraTreeClassifier                0.82               0.65     0.65      0.82   \n",
       "ExtraTreesClassifier               0.86               0.63     0.63      0.84   \n",
       "LabelPropagation                   0.81               0.58     0.58      0.80   \n",
       "LabelSpreading                     0.81               0.58     0.58      0.80   \n",
       "KNeighborsClassifier               0.82               0.57     0.57      0.80   \n",
       "LogisticRegression                 0.84               0.57     0.57      0.81   \n",
       "PassiveAggressiveClassifier        0.80               0.57     0.57      0.78   \n",
       "CalibratedClassifierCV             0.84               0.56     0.56      0.80   \n",
       "LinearSVC                          0.84               0.53     0.53      0.79   \n",
       "BernoulliNB                        0.84               0.53     0.53      0.79   \n",
       "SGDClassifier                      0.84               0.51     0.51      0.78   \n",
       "LinearDiscriminantAnalysis         0.84               0.51     0.51      0.77   \n",
       "DummyClassifier                    0.84               0.50     0.50      0.77   \n",
       "RidgeClassifier                    0.84               0.50     0.50      0.77   \n",
       "RidgeClassifierCV                  0.84               0.50     0.50      0.77   \n",
       "SVC                                0.84               0.50     0.50      0.77   \n",
       "\n",
       "                               Time Taken  \n",
       "Model                                      \n",
       "NearestCentroid                      0.03  \n",
       "GaussianNB                           0.02  \n",
       "QuadraticDiscriminantAnalysis        0.04  \n",
       "LGBMClassifier                       0.24  \n",
       "RandomForestClassifier               0.82  \n",
       "XGBClassifier                        0.53  \n",
       "BaggingClassifier                    0.27  \n",
       "DecisionTreeClassifier               0.08  \n",
       "AdaBoostClassifier                   0.43  \n",
       "Perceptron                           0.03  \n",
       "ExtraTreeClassifier                  0.04  \n",
       "ExtraTreesClassifier                 0.66  \n",
       "LabelPropagation                     1.55  \n",
       "LabelSpreading                       1.95  \n",
       "KNeighborsClassifier                 0.82  \n",
       "LogisticRegression                   0.04  \n",
       "PassiveAggressiveClassifier          0.03  \n",
       "CalibratedClassifierCV               1.21  \n",
       "LinearSVC                            0.31  \n",
       "BernoulliNB                          0.04  \n",
       "SGDClassifier                        0.07  \n",
       "LinearDiscriminantAnalysis           0.08  \n",
       "DummyClassifier                      0.02  \n",
       "RidgeClassifier                      0.03  \n",
       "RidgeClassifierCV                    0.03  \n",
       "SVC                                  1.93  "
      ]
     },
     "execution_count": 22,
     "metadata": {},
     "output_type": "execute_result"
    }
   ],
   "source": [
    "from lazypredict.Supervised import LazyClassifier\n",
    "from sklearn.model_selection import train_test_split\n",
    "\n",
    "\n",
    "X_train, X_test, y_train, y_test = train_test_split(X, y,test_size=.5,random_state =123)\n",
    "clf = LazyClassifier(verbose=0,ignore_warnings=True, custom_metric=None)\n",
    "models,predictions = clf.fit(X_train, X_test, y_train, y_test)\n"
   ]
  },
  {
   "cell_type": "code",
   "execution_count": 27,
   "id": "19f2e926",
   "metadata": {
    "ExecuteTime": {
     "end_time": "2022-10-22T14:08:20.908882Z",
     "start_time": "2022-10-22T14:08:20.896881Z"
    }
   },
   "outputs": [],
   "source": [
    "rf = RandomForestClassifier()\n"
   ]
  },
  {
   "cell_type": "code",
   "execution_count": 28,
   "id": "c49a6853",
   "metadata": {
    "ExecuteTime": {
     "end_time": "2022-10-22T14:08:42.987853Z",
     "start_time": "2022-10-22T14:08:42.278836Z"
    }
   },
   "outputs": [
    {
     "data": {
      "text/html": [
       "<style>#sk-container-id-1 {color: black;background-color: white;}#sk-container-id-1 pre{padding: 0;}#sk-container-id-1 div.sk-toggleable {background-color: white;}#sk-container-id-1 label.sk-toggleable__label {cursor: pointer;display: block;width: 100%;margin-bottom: 0;padding: 0.3em;box-sizing: border-box;text-align: center;}#sk-container-id-1 label.sk-toggleable__label-arrow:before {content: \"▸\";float: left;margin-right: 0.25em;color: #696969;}#sk-container-id-1 label.sk-toggleable__label-arrow:hover:before {color: black;}#sk-container-id-1 div.sk-estimator:hover label.sk-toggleable__label-arrow:before {color: black;}#sk-container-id-1 div.sk-toggleable__content {max-height: 0;max-width: 0;overflow: hidden;text-align: left;background-color: #f0f8ff;}#sk-container-id-1 div.sk-toggleable__content pre {margin: 0.2em;color: black;border-radius: 0.25em;background-color: #f0f8ff;}#sk-container-id-1 input.sk-toggleable__control:checked~div.sk-toggleable__content {max-height: 200px;max-width: 100%;overflow: auto;}#sk-container-id-1 input.sk-toggleable__control:checked~label.sk-toggleable__label-arrow:before {content: \"▾\";}#sk-container-id-1 div.sk-estimator input.sk-toggleable__control:checked~label.sk-toggleable__label {background-color: #d4ebff;}#sk-container-id-1 div.sk-label input.sk-toggleable__control:checked~label.sk-toggleable__label {background-color: #d4ebff;}#sk-container-id-1 input.sk-hidden--visually {border: 0;clip: rect(1px 1px 1px 1px);clip: rect(1px, 1px, 1px, 1px);height: 1px;margin: -1px;overflow: hidden;padding: 0;position: absolute;width: 1px;}#sk-container-id-1 div.sk-estimator {font-family: monospace;background-color: #f0f8ff;border: 1px dotted black;border-radius: 0.25em;box-sizing: border-box;margin-bottom: 0.5em;}#sk-container-id-1 div.sk-estimator:hover {background-color: #d4ebff;}#sk-container-id-1 div.sk-parallel-item::after {content: \"\";width: 100%;border-bottom: 1px solid gray;flex-grow: 1;}#sk-container-id-1 div.sk-label:hover label.sk-toggleable__label {background-color: #d4ebff;}#sk-container-id-1 div.sk-serial::before {content: \"\";position: absolute;border-left: 1px solid gray;box-sizing: border-box;top: 0;bottom: 0;left: 50%;z-index: 0;}#sk-container-id-1 div.sk-serial {display: flex;flex-direction: column;align-items: center;background-color: white;padding-right: 0.2em;padding-left: 0.2em;position: relative;}#sk-container-id-1 div.sk-item {position: relative;z-index: 1;}#sk-container-id-1 div.sk-parallel {display: flex;align-items: stretch;justify-content: center;background-color: white;position: relative;}#sk-container-id-1 div.sk-item::before, #sk-container-id-1 div.sk-parallel-item::before {content: \"\";position: absolute;border-left: 1px solid gray;box-sizing: border-box;top: 0;bottom: 0;left: 50%;z-index: -1;}#sk-container-id-1 div.sk-parallel-item {display: flex;flex-direction: column;z-index: 1;position: relative;background-color: white;}#sk-container-id-1 div.sk-parallel-item:first-child::after {align-self: flex-end;width: 50%;}#sk-container-id-1 div.sk-parallel-item:last-child::after {align-self: flex-start;width: 50%;}#sk-container-id-1 div.sk-parallel-item:only-child::after {width: 0;}#sk-container-id-1 div.sk-dashed-wrapped {border: 1px dashed gray;margin: 0 0.4em 0.5em 0.4em;box-sizing: border-box;padding-bottom: 0.4em;background-color: white;}#sk-container-id-1 div.sk-label label {font-family: monospace;font-weight: bold;display: inline-block;line-height: 1.2em;}#sk-container-id-1 div.sk-label-container {text-align: center;}#sk-container-id-1 div.sk-container {/* jupyter's `normalize.less` sets `[hidden] { display: none; }` but bootstrap.min.css set `[hidden] { display: none !important; }` so we also need the `!important` here to be able to override the default hidden behavior on the sphinx rendered scikit-learn.org. See: https://github.com/scikit-learn/scikit-learn/issues/21755 */display: inline-block !important;position: relative;}#sk-container-id-1 div.sk-text-repr-fallback {display: none;}</style><div id=\"sk-container-id-1\" class=\"sk-top-container\"><div class=\"sk-text-repr-fallback\"><pre>RandomForestClassifier()</pre><b>In a Jupyter environment, please rerun this cell to show the HTML representation or trust the notebook. <br />On GitHub, the HTML representation is unable to render, please try loading this page with nbviewer.org.</b></div><div class=\"sk-container\" hidden><div class=\"sk-item\"><div class=\"sk-estimator sk-toggleable\"><input class=\"sk-toggleable__control sk-hidden--visually\" id=\"sk-estimator-id-1\" type=\"checkbox\" checked><label for=\"sk-estimator-id-1\" class=\"sk-toggleable__label sk-toggleable__label-arrow\">RandomForestClassifier</label><div class=\"sk-toggleable__content\"><pre>RandomForestClassifier()</pre></div></div></div></div></div>"
      ],
      "text/plain": [
       "RandomForestClassifier()"
      ]
     },
     "execution_count": 28,
     "metadata": {},
     "output_type": "execute_result"
    }
   ],
   "source": [
    "rf.fit(X_train, y_train)"
   ]
  },
  {
   "cell_type": "code",
   "execution_count": 36,
   "id": "591398e6",
   "metadata": {
    "ExecuteTime": {
     "end_time": "2022-10-22T14:11:16.714575Z",
     "start_time": "2022-10-22T14:11:16.702533Z"
    }
   },
   "outputs": [],
   "source": [
    "pipe = clf.models['RandomForestClassifier']\n",
    "\n",
    "pred = pipe.predict(X_test)\n",
    "\n",
    "f1_score(y_test, pred)"
   ]
  },
  {
   "cell_type": "code",
   "execution_count": 76,
   "id": "16d18c52",
   "metadata": {
    "ExecuteTime": {
     "end_time": "2022-10-22T14:30:42.466617Z",
     "start_time": "2022-10-22T14:30:42.341643Z"
    }
   },
   "outputs": [
    {
     "data": {
      "text/plain": [
       "0.5389507154213037"
      ]
     },
     "execution_count": 76,
     "metadata": {},
     "output_type": "execute_result"
    }
   ],
   "source": [
    "pred = pipe.predict(X_test)\n",
    "f1_score(y_test, pred)"
   ]
  },
  {
   "cell_type": "code",
   "execution_count": 77,
   "id": "928e9e12",
   "metadata": {
    "ExecuteTime": {
     "end_time": "2022-10-22T14:31:31.632205Z",
     "start_time": "2022-10-22T14:31:31.617207Z"
    }
   },
   "outputs": [],
   "source": [
    "types_f1 = ['micro', 'macro', 'samples', 'weighted', 'binary']"
   ]
  },
  {
   "cell_type": "code",
   "execution_count": 80,
   "id": "5430be3a",
   "metadata": {
    "ExecuteTime": {
     "end_time": "2022-10-22T14:33:46.212615Z",
     "start_time": "2022-10-22T14:33:46.185585Z"
    }
   },
   "outputs": [
    {
     "name": "stdout",
     "output_type": "stream",
     "text": [
      "micro 0.8778947368421053\n",
      "macro 0.7342897231559322\n",
      "Not possible samples\n",
      "weighted 0.8673669924252495\n",
      "binary 0.5389507154213037\n"
     ]
    }
   ],
   "source": [
    "for t in types_f1:\n",
    "    try:\n",
    "        print(t,f1_score(y_test, pred, average=t))\n",
    "    except ValueError:\n",
    "        print(f'Not possible {t}')"
   ]
  },
  {
   "cell_type": "markdown",
   "id": "d89ca43a",
   "metadata": {},
   "source": [
    "### Teste"
   ]
  },
  {
   "cell_type": "code",
   "execution_count": 57,
   "id": "d19a780a",
   "metadata": {
    "ExecuteTime": {
     "end_time": "2022-10-22T14:19:02.701732Z",
     "start_time": "2022-10-22T14:19:02.657737Z"
    }
   },
   "outputs": [],
   "source": [
    "df_test = pd.read_csv('../data/test.csv')\n",
    "df_test = data_preparation(df_test, teste=True)"
   ]
  },
  {
   "cell_type": "code",
   "execution_count": 62,
   "id": "d067a430",
   "metadata": {
    "ExecuteTime": {
     "end_time": "2022-10-22T14:21:05.737564Z",
     "start_time": "2022-10-22T14:21:05.715567Z"
    }
   },
   "outputs": [],
   "source": [
    "X_submission = df_test.drop('id_cliente', axis =1)\n",
    "ids = df_test['id_cliente']"
   ]
  },
  {
   "cell_type": "code",
   "execution_count": 64,
   "id": "22e2ba79",
   "metadata": {
    "ExecuteTime": {
     "end_time": "2022-10-22T14:21:17.084792Z",
     "start_time": "2022-10-22T14:21:17.009446Z"
    }
   },
   "outputs": [],
   "source": [
    "pred = pipe.predict(X_submission)"
   ]
  },
  {
   "cell_type": "code",
   "execution_count": 65,
   "id": "4e06b4b0",
   "metadata": {
    "ExecuteTime": {
     "end_time": "2022-10-22T14:21:27.034249Z",
     "start_time": "2022-10-22T14:21:27.023250Z"
    }
   },
   "outputs": [],
   "source": [
    "submission = pd.DataFrame()"
   ]
  },
  {
   "cell_type": "code",
   "execution_count": 66,
   "id": "845966e8",
   "metadata": {
    "ExecuteTime": {
     "end_time": "2022-10-22T14:21:48.106434Z",
     "start_time": "2022-10-22T14:21:48.087466Z"
    }
   },
   "outputs": [],
   "source": [
    "submission['id_cliente'] = ids\n",
    "submission['limite_adicional'] = pred"
   ]
  },
  {
   "cell_type": "code",
   "execution_count": 69,
   "id": "f22e64e0",
   "metadata": {
    "ExecuteTime": {
     "end_time": "2022-10-22T14:22:57.170847Z",
     "start_time": "2022-10-22T14:22:57.157847Z"
    }
   },
   "outputs": [],
   "source": [
    "map_resposta = {0: 'Negar', 1: 'Conceder'}"
   ]
  },
  {
   "cell_type": "code",
   "execution_count": 71,
   "id": "8ebdffad",
   "metadata": {
    "ExecuteTime": {
     "end_time": "2022-10-22T14:23:14.863965Z",
     "start_time": "2022-10-22T14:23:14.855962Z"
    }
   },
   "outputs": [],
   "source": [
    "submission['limite_adicional'] = submission['limite_adicional'].map(map_resposta)"
   ]
  },
  {
   "cell_type": "code",
   "execution_count": 73,
   "id": "d8eb9260",
   "metadata": {
    "ExecuteTime": {
     "end_time": "2022-10-22T14:23:43.235414Z",
     "start_time": "2022-10-22T14:23:43.209455Z"
    }
   },
   "outputs": [],
   "source": [
    "submission.to_csv('../data/submissao.csv', index=False)"
   ]
  },
  {
   "cell_type": "code",
   "execution_count": 74,
   "id": "00145459",
   "metadata": {
    "ExecuteTime": {
     "end_time": "2022-10-22T14:24:15.975469Z",
     "start_time": "2022-10-22T14:24:15.936126Z"
    }
   },
   "outputs": [
    {
     "data": {
      "text/html": [
       "<div>\n",
       "<style scoped>\n",
       "    .dataframe tbody tr th:only-of-type {\n",
       "        vertical-align: middle;\n",
       "    }\n",
       "\n",
       "    .dataframe tbody tr th {\n",
       "        vertical-align: top;\n",
       "    }\n",
       "\n",
       "    .dataframe thead th {\n",
       "        text-align: right;\n",
       "    }\n",
       "</style>\n",
       "<table border=\"1\" class=\"dataframe\">\n",
       "  <thead>\n",
       "    <tr style=\"text-align: right;\">\n",
       "      <th></th>\n",
       "      <th>id_cliente</th>\n",
       "      <th>limite_adicional</th>\n",
       "    </tr>\n",
       "  </thead>\n",
       "  <tbody>\n",
       "    <tr>\n",
       "      <th>0</th>\n",
       "      <td>2</td>\n",
       "      <td>Conceder</td>\n",
       "    </tr>\n",
       "    <tr>\n",
       "      <th>1</th>\n",
       "      <td>5</td>\n",
       "      <td>Negar</td>\n",
       "    </tr>\n",
       "    <tr>\n",
       "      <th>2</th>\n",
       "      <td>6</td>\n",
       "      <td>Negar</td>\n",
       "    </tr>\n",
       "    <tr>\n",
       "      <th>3</th>\n",
       "      <td>8</td>\n",
       "      <td>Negar</td>\n",
       "    </tr>\n",
       "    <tr>\n",
       "      <th>4</th>\n",
       "      <td>10</td>\n",
       "      <td>Conceder</td>\n",
       "    </tr>\n",
       "    <tr>\n",
       "      <th>...</th>\n",
       "      <td>...</td>\n",
       "      <td>...</td>\n",
       "    </tr>\n",
       "    <tr>\n",
       "      <th>2995</th>\n",
       "      <td>12484</td>\n",
       "      <td>Negar</td>\n",
       "    </tr>\n",
       "    <tr>\n",
       "      <th>2996</th>\n",
       "      <td>12487</td>\n",
       "      <td>Negar</td>\n",
       "    </tr>\n",
       "    <tr>\n",
       "      <th>2997</th>\n",
       "      <td>12489</td>\n",
       "      <td>Negar</td>\n",
       "    </tr>\n",
       "    <tr>\n",
       "      <th>2998</th>\n",
       "      <td>12495</td>\n",
       "      <td>Conceder</td>\n",
       "    </tr>\n",
       "    <tr>\n",
       "      <th>2999</th>\n",
       "      <td>12498</td>\n",
       "      <td>Negar</td>\n",
       "    </tr>\n",
       "  </tbody>\n",
       "</table>\n",
       "<p>3000 rows × 2 columns</p>\n",
       "</div>"
      ],
      "text/plain": [
       "      id_cliente limite_adicional\n",
       "0              2         Conceder\n",
       "1              5            Negar\n",
       "2              6            Negar\n",
       "3              8            Negar\n",
       "4             10         Conceder\n",
       "...          ...              ...\n",
       "2995       12484            Negar\n",
       "2996       12487            Negar\n",
       "2997       12489            Negar\n",
       "2998       12495         Conceder\n",
       "2999       12498            Negar\n",
       "\n",
       "[3000 rows x 2 columns]"
      ]
     },
     "execution_count": 74,
     "metadata": {},
     "output_type": "execute_result"
    }
   ],
   "source": [
    "pd.read_csv('../data/submissao.csv')"
   ]
  }
 ],
 "metadata": {
  "kernelspec": {
   "display_name": "Python 3",
   "language": "python",
   "name": "python3"
  },
  "language_info": {
   "codemirror_mode": {
    "name": "ipython",
    "version": 3
   },
   "file_extension": ".py",
   "mimetype": "text/x-python",
   "name": "python",
   "nbconvert_exporter": "python",
   "pygments_lexer": "ipython3",
   "version": "3.8.8"
  },
  "varInspector": {
   "cols": {
    "lenName": 16,
    "lenType": 16,
    "lenVar": 40
   },
   "kernels_config": {
    "python": {
     "delete_cmd_postfix": "",
     "delete_cmd_prefix": "del ",
     "library": "var_list.py",
     "varRefreshCmd": "print(var_dic_list())"
    },
    "r": {
     "delete_cmd_postfix": ") ",
     "delete_cmd_prefix": "rm(",
     "library": "var_list.r",
     "varRefreshCmd": "cat(var_dic_list()) "
    }
   },
   "types_to_exclude": [
    "module",
    "function",
    "builtin_function_or_method",
    "instance",
    "_Feature"
   ],
   "window_display": false
  },
  "vscode": {
   "interpreter": {
    "hash": "25221b6b9a4d399886f2cc4863e60b0fd11067ce172b33ecf50faf510e9d19c2"
   }
  }
 },
 "nbformat": 4,
 "nbformat_minor": 5
}
