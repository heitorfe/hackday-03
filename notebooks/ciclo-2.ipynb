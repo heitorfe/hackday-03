{
 "cells": [
  {
   "cell_type": "markdown",
   "id": "764ae29e",
   "metadata": {},
   "source": [
    "### Imports"
   ]
  },
  {
   "cell_type": "code",
   "execution_count": 1,
   "id": "cf5617da",
   "metadata": {
    "ExecuteTime": {
     "end_time": "2022-10-22T14:00:52.134466Z",
     "start_time": "2022-10-22T14:00:46.491004Z"
    }
   },
   "outputs": [],
   "source": [
    "import pandas as pd\n",
    "import numpy as np\n",
    "from sklearn import preprocessing as pp\n",
    "from matplotlib import pyplot as plt\n",
    "from sklearn.linear_model import LogisticRegression\n",
    "from sklearn.ensemble import RandomForestClassifier, ExtraTreesClassifier, IsolationForest\n",
    "from sklearn.metrics import  f1_score, precision_score, recall_score\n",
    "from sklearn.model_selection import train_test_split, StratifiedKFold, KFold\n",
    "import seaborn as sns\n",
    "import plotly.express as px\n",
    "import sweetviz as sv\n",
    "import pickle\n",
    "from boruta import BorutaPy\n",
    "from lightgbm import LGBMClassifier\n",
    "from xgboost import XGBClassifier\n",
    "from sklearn.svm import SVR\n",
    "\n",
    "pd.set_option('display.max_rows', 100)\n",
    "pd.set_option('display.max_columns', 100)"
   ]
  },
  {
   "cell_type": "markdown",
   "id": "2ed657fe",
   "metadata": {},
   "source": [
    "### Helper Functions"
   ]
  },
  {
   "cell_type": "code",
   "execution_count": 2,
   "id": "3e87d0cd",
   "metadata": {
    "ExecuteTime": {
     "end_time": "2022-10-22T14:00:52.197177Z",
     "start_time": "2022-10-22T14:00:52.167167Z"
    }
   },
   "outputs": [],
   "source": [
    "alvo='limite_adicional'\n",
    "\n",
    "def simple_model_test(model, nome):\n",
    "    #model definition\n",
    "\n",
    "    # model fit\n",
    "    model.fit(X_train, y_train)\n",
    "\n",
    "    #model predict\n",
    "    y_hat = model.predict(X_test)\n",
    "    \n",
    "    # evaluate\n",
    "    f1 = np.round(f1_score( y_test_, y_hat_ ), 2)\n",
    "    \n",
    "    print('{}\\n f1: {}'.format(model_name, f1))\n",
    "    return f1\n",
    "\n",
    "def send_model(model):\n",
    "     # model fit\n",
    "    model.fit(X_train[cols_selected], y_train)\n",
    "    pickle.dump(model, open('../parameters/model.pkl', 'wb'))\n",
    "    print('Model submited')\n",
    "    return None\n",
    "\n",
    "def target_encoding(df, column):\n",
    "    target = df.groupby(column)[alvo].mean()\n",
    "    df[column] = df[column].map(target)\n",
    "    pickle.dump(target, open(f'../parameters/{column}_encode.pkl', 'wb'))\n",
    "    print(f'Target Encode to {column}')\n",
    "    \n",
    "def frequency_encoding(df, column):\n",
    "    frequency = df.groupby(column)[alvo].count() / len(df)\n",
    "    df[column] = df[column].map(frequency)\n",
    "    pickle.dump(target, open(f'../parameters/{column}_encode.pkl', 'wb'))\n",
    "    print(f'Frequency Encode to {column}')\n",
    "    "
   ]
  },
  {
   "cell_type": "code",
   "execution_count": 4,
   "id": "cfb6259f",
   "metadata": {},
   "outputs": [],
   "source": [
    "def encodes_obrigatorios(df, teste=True):\n",
    "    num_cols = df.select_dtypes('number').drop('id_cliente', axis=1).columns\n",
    "\n",
    "\n",
    "    map_bool = {'Sim': 1, 'Não': 0}\n",
    "    map_alvo = {'Conceder': 1, 'Negar': 0}\n",
    "    string_cols = ['investe_exterior', 'pessoa_polit_exp']\n",
    "\n",
    "    df['investe_exterior'] = df['investe_exterior'].map(map_bool)\n",
    "    df['pessoa_polit_exp'] = df['pessoa_polit_exp'].map(map_bool)\n",
    "    \n",
    "    if teste==False:\n",
    "        df[alvo] = df[alvo].map(map_alvo)\n",
    "    return df"
   ]
  },
  {
   "cell_type": "markdown",
   "id": "0273a2ba",
   "metadata": {},
   "source": [
    "### Load Data "
   ]
  },
  {
   "cell_type": "code",
   "execution_count": 10,
   "id": "f186b688",
   "metadata": {
    "ExecuteTime": {
     "end_time": "2022-10-22T14:17:56.445737Z",
     "start_time": "2022-10-22T14:17:56.382399Z"
    }
   },
   "outputs": [],
   "source": [
    "path = '../data/train.csv'\n",
    "\n",
    "df_raw = pd.read_csv(path)\n",
    "df_raw=encodes_obrigatorios(df_raw, teste=False)\n",
    "\n",
    "df_test = pd.read_csv('../data/test.csv')\n",
    "df_test=encodes_obrigatorios(df_test, teste=True)"
   ]
  },
  {
   "cell_type": "markdown",
   "id": "c8eacb90",
   "metadata": {},
   "source": [
    "### Data Description"
   ]
  },
  {
   "cell_type": "code",
   "execution_count": 11,
   "id": "5ed534dd",
   "metadata": {
    "ExecuteTime": {
     "end_time": "2022-10-22T14:00:58.972502Z",
     "start_time": "2022-10-22T14:00:58.957501Z"
    }
   },
   "outputs": [],
   "source": [
    "df1 = df_raw.copy()"
   ]
  },
  {
   "cell_type": "markdown",
   "id": "eca465ae",
   "metadata": {},
   "source": [
    "#### Nulls"
   ]
  },
  {
   "cell_type": "code",
   "execution_count": 12,
   "id": "50efe28f",
   "metadata": {},
   "outputs": [
    {
     "data": {
      "text/plain": [
       "id_cliente                 0\n",
       "idade                      0\n",
       "saldo_atual                0\n",
       "divida_atual               0\n",
       "renda_anual                0\n",
       "valor_em_investimentos     0\n",
       "taxa_utilizacao_credito    0\n",
       "num_emprestimos            0\n",
       "num_contas_bancarias       0\n",
       "num_cartoes_credito        0\n",
       "dias_atraso_dt_venc        0\n",
       "num_pgtos_atrasados        0\n",
       "num_consultas_credito      0\n",
       "taxa_juros                 0\n",
       "investe_exterior           0\n",
       "pessoa_polit_exp           0\n",
       "limite_adicional           0\n",
       "dtype: int64"
      ]
     },
     "execution_count": 12,
     "metadata": {},
     "output_type": "execute_result"
    }
   ],
   "source": [
    "df1.isna().sum()"
   ]
  },
  {
   "cell_type": "markdown",
   "id": "2f18985d",
   "metadata": {},
   "source": [
    "#### Dtypes"
   ]
  },
  {
   "cell_type": "code",
   "execution_count": 13,
   "id": "b6199e91",
   "metadata": {},
   "outputs": [
    {
     "data": {
      "text/plain": [
       "id_cliente                   int64\n",
       "idade                        int64\n",
       "saldo_atual                float64\n",
       "divida_atual               float64\n",
       "renda_anual                float64\n",
       "valor_em_investimentos     float64\n",
       "taxa_utilizacao_credito    float64\n",
       "num_emprestimos              int64\n",
       "num_contas_bancarias         int64\n",
       "num_cartoes_credito          int64\n",
       "dias_atraso_dt_venc          int64\n",
       "num_pgtos_atrasados          int64\n",
       "num_consultas_credito        int64\n",
       "taxa_juros                   int64\n",
       "investe_exterior             int64\n",
       "pessoa_polit_exp             int64\n",
       "limite_adicional             int64\n",
       "dtype: object"
      ]
     },
     "execution_count": 13,
     "metadata": {},
     "output_type": "execute_result"
    }
   ],
   "source": [
    "df1.dtypes"
   ]
  },
  {
   "cell_type": "markdown",
   "id": "837a0e27",
   "metadata": {},
   "source": [
    "### Outliers inspection"
   ]
  },
  {
   "cell_type": "code",
   "execution_count": 147,
   "id": "66586afd",
   "metadata": {},
   "outputs": [
    {
     "data": {
      "text/plain": [
       "0    8917\n",
       "1     583\n",
       "Name: pessoa_polit_exp, dtype: int64"
      ]
     },
     "execution_count": 147,
     "metadata": {},
     "output_type": "execute_result"
    }
   ],
   "source": [
    "df1['pessoa_polit_exp'].value_counts()"
   ]
  },
  {
   "cell_type": "code",
   "execution_count": 145,
   "id": "4503276a",
   "metadata": {},
   "outputs": [
    {
     "data": {
      "text/plain": [
       "0    7995\n",
       "1    1505\n",
       "Name: limite_adicional, dtype: int64"
      ]
     },
     "execution_count": 145,
     "metadata": {},
     "output_type": "execute_result"
    }
   ],
   "source": [
    "df1['limite_adicional'].value_counts()"
   ]
  },
  {
   "cell_type": "code",
   "execution_count": 14,
   "id": "9a870f81",
   "metadata": {},
   "outputs": [
    {
     "data": {
      "application/vnd.jupyter.widget-view+json": {
       "model_id": "822139c6def64e8c955ec45d26c0293a",
       "version_major": 2,
       "version_minor": 0
      },
      "text/plain": [
       "                                             |          | [  0%]   00:00 -> (? left)"
      ]
     },
     "metadata": {},
     "output_type": "display_data"
    }
   ],
   "source": [
    "dashboard=sv.analyze(df1, target_feat='limite_adicional')"
   ]
  },
  {
   "cell_type": "code",
   "execution_count": 15,
   "metadata": {},
   "outputs": [
    {
     "name": "stdout",
     "output_type": "stream",
     "text": [
      "Report SWEETVIZ_REPORT.html was generated! NOTEBOOK/COLAB USERS: the web browser MAY not pop up, regardless, the report IS saved in your notebook/colab files.\n"
     ]
    }
   ],
   "source": [
    "dashboard.show_html()"
   ]
  },
  {
   "cell_type": "raw",
   "id": "8bc42fb4",
   "metadata": {},
   "source": [
    "iff=IsolationForest(n_estimators=200, n_jobs=1)\n",
    "x_iff=df1.drop('limite_adicional',axis=1)\n",
    "y_iff=df1['limite_adicional']\n",
    "x_iff['predict_outlier']=iff.fit_predict(x_iff,y_iff)\n",
    "x_iff.head()"
   ]
  },
  {
   "cell_type": "markdown",
   "id": "6768c20c",
   "metadata": {},
   "source": [
    "### Data Filtering"
   ]
  },
  {
   "cell_type": "code",
   "execution_count": 16,
   "id": "39a88c5d",
   "metadata": {
    "ExecuteTime": {
     "end_time": "2022-10-22T14:01:20.626734Z",
     "start_time": "2022-10-22T14:01:20.607739Z"
    }
   },
   "outputs": [],
   "source": [
    "df2 = df1.copy()"
   ]
  },
  {
   "cell_type": "markdown",
   "id": "40e9fc27",
   "metadata": {},
   "source": [
    "### Feature Engineering"
   ]
  },
  {
   "cell_type": "code",
   "execution_count": 191,
   "id": "0efcbddd",
   "metadata": {
    "ExecuteTime": {
     "end_time": "2022-10-22T14:01:21.031419Z",
     "start_time": "2022-10-22T14:01:21.014373Z"
    }
   },
   "outputs": [],
   "source": [
    "df3 = df2.copy()\n",
    "df3['comb_exterior_politic'] = df3['investe_exterior'] + df3['pessoa_polit_exp']\n",
    "df3 = df3.drop(['investe_exterior','pessoa_polit_exp'], axis=1)"
   ]
  },
  {
   "cell_type": "markdown",
   "id": "f6e98336",
   "metadata": {},
   "source": [
    "### Colum Selection"
   ]
  },
  {
   "cell_type": "code",
   "execution_count": 192,
   "id": "2f9e3962",
   "metadata": {
    "ExecuteTime": {
     "end_time": "2022-10-22T14:01:23.129458Z",
     "start_time": "2022-10-22T14:01:23.112415Z"
    }
   },
   "outputs": [],
   "source": [
    "df4 = df3.copy()"
   ]
  },
  {
   "cell_type": "markdown",
   "id": "a9a5c1e5",
   "metadata": {},
   "source": [
    "### Data Preparation"
   ]
  },
  {
   "cell_type": "code",
   "execution_count": 193,
   "id": "3d8596c4",
   "metadata": {
    "ExecuteTime": {
     "end_time": "2022-10-22T14:01:29.267328Z",
     "start_time": "2022-10-22T14:01:29.255367Z"
    }
   },
   "outputs": [],
   "source": [
    "df5 = df4.copy()"
   ]
  },
  {
   "cell_type": "code",
   "execution_count": 194,
   "id": "4abffa62",
   "metadata": {},
   "outputs": [],
   "source": [
    "variables_robust=['idade','taxa_juros','num_consultas_credito',\"num_pgtos_atrasados\",\"num_cartoes_credito\",\"num_contas_bancarias\"]\n",
    "num_cols = df5.select_dtypes('number').drop(['id_cliente','limite_adicional'], axis=1).columns\n",
    "\n",
    "#rs_idade=pp.RobustScaler(quantile_range=(0, 95.0))\n",
    "mms = pp.MinMaxScaler()\n",
    "\n",
    "df5[variables_robust]=rs_idade.fit_transform(df5[variables_robust])    \n",
    "df5[num_cols] = mms.fit_transform(df5[num_cols])\n",
    "\n",
    "for i in [rs_idade,mms]:\n",
    "    pickle.dump(i,open(f\"{i}.pkl\",\"wb\"))"
   ]
  },
  {
   "cell_type": "code",
   "execution_count": 186,
   "id": "43490613",
   "metadata": {},
   "outputs": [],
   "source": [
    "def data_preparation(df, teste=True):\n",
    "    #df[variables_robust]=rs_idade.transform(df[variables_robust])\n",
    "    df[num_cols]=mms.transform(df[num_cols])\n",
    "    return df"
   ]
  },
  {
   "cell_type": "markdown",
   "id": "62566d51",
   "metadata": {},
   "source": [
    "### Model Train"
   ]
  },
  {
   "cell_type": "code",
   "execution_count": 187,
   "id": "ac3e712b",
   "metadata": {
    "ExecuteTime": {
     "end_time": "2022-10-22T14:05:54.646757Z",
     "start_time": "2022-10-22T14:05:54.630763Z"
    }
   },
   "outputs": [],
   "source": [
    "X = df5.drop(['id_cliente', alvo], axis=1)\n",
    "y = df5[alvo]"
   ]
  },
  {
   "cell_type": "code",
   "execution_count": 188,
   "id": "e54fc5b3",
   "metadata": {
    "ExecuteTime": {
     "end_time": "2022-10-22T14:06:16.415563Z",
     "start_time": "2022-10-22T14:06:03.616681Z"
    }
   },
   "outputs": [
    {
     "name": "stderr",
     "output_type": "stream",
     "text": [
      "100%|██████████| 29/29 [00:11<00:00,  2.53it/s]\n"
     ]
    }
   ],
   "source": [
    "from lazypredict.Supervised import LazyClassifier\n",
    "from sklearn.model_selection import train_test_split\n",
    "\n",
    "\n",
    "X_train, X_test, y_train, y_test = train_test_split(X, y,test_size=.5,random_state =123)\n",
    "clf = LazyClassifier(verbose=0,ignore_warnings=True, custom_metric=None)\n",
    "models,predictions = clf.fit(X_train, X_test, y_train, y_test)\n"
   ]
  },
  {
   "cell_type": "code",
   "execution_count": 189,
   "id": "f3f5d0e1",
   "metadata": {},
   "outputs": [
    {
     "data": {
      "text/html": [
       "<div>\n",
       "<style scoped>\n",
       "    .dataframe tbody tr th:only-of-type {\n",
       "        vertical-align: middle;\n",
       "    }\n",
       "\n",
       "    .dataframe tbody tr th {\n",
       "        vertical-align: top;\n",
       "    }\n",
       "\n",
       "    .dataframe thead th {\n",
       "        text-align: right;\n",
       "    }\n",
       "</style>\n",
       "<table border=\"1\" class=\"dataframe\">\n",
       "  <thead>\n",
       "    <tr style=\"text-align: right;\">\n",
       "      <th></th>\n",
       "      <th>Accuracy</th>\n",
       "      <th>Balanced Accuracy</th>\n",
       "      <th>ROC AUC</th>\n",
       "      <th>F1 Score</th>\n",
       "      <th>Time Taken</th>\n",
       "    </tr>\n",
       "    <tr>\n",
       "      <th>Model</th>\n",
       "      <th></th>\n",
       "      <th></th>\n",
       "      <th></th>\n",
       "      <th></th>\n",
       "      <th></th>\n",
       "    </tr>\n",
       "  </thead>\n",
       "  <tbody>\n",
       "    <tr>\n",
       "      <th>LGBMClassifier</th>\n",
       "      <td>0.87</td>\n",
       "      <td>0.72</td>\n",
       "      <td>0.72</td>\n",
       "      <td>0.87</td>\n",
       "      <td>0.33</td>\n",
       "    </tr>\n",
       "    <tr>\n",
       "      <th>RandomForestClassifier</th>\n",
       "      <td>0.88</td>\n",
       "      <td>0.70</td>\n",
       "      <td>0.70</td>\n",
       "      <td>0.87</td>\n",
       "      <td>1.06</td>\n",
       "    </tr>\n",
       "    <tr>\n",
       "      <th>XGBClassifier</th>\n",
       "      <td>0.87</td>\n",
       "      <td>0.71</td>\n",
       "      <td>0.71</td>\n",
       "      <td>0.86</td>\n",
       "      <td>0.58</td>\n",
       "    </tr>\n",
       "    <tr>\n",
       "      <th>BaggingClassifier</th>\n",
       "      <td>0.87</td>\n",
       "      <td>0.70</td>\n",
       "      <td>0.70</td>\n",
       "      <td>0.86</td>\n",
       "      <td>0.40</td>\n",
       "    </tr>\n",
       "    <tr>\n",
       "      <th>AdaBoostClassifier</th>\n",
       "      <td>0.87</td>\n",
       "      <td>0.69</td>\n",
       "      <td>0.69</td>\n",
       "      <td>0.86</td>\n",
       "      <td>0.54</td>\n",
       "    </tr>\n",
       "    <tr>\n",
       "      <th>ExtraTreesClassifier</th>\n",
       "      <td>0.86</td>\n",
       "      <td>0.64</td>\n",
       "      <td>0.64</td>\n",
       "      <td>0.84</td>\n",
       "      <td>0.80</td>\n",
       "    </tr>\n",
       "    <tr>\n",
       "      <th>DecisionTreeClassifier</th>\n",
       "      <td>0.84</td>\n",
       "      <td>0.70</td>\n",
       "      <td>0.70</td>\n",
       "      <td>0.84</td>\n",
       "      <td>0.09</td>\n",
       "    </tr>\n",
       "    <tr>\n",
       "      <th>ExtraTreeClassifier</th>\n",
       "      <td>0.82</td>\n",
       "      <td>0.66</td>\n",
       "      <td>0.66</td>\n",
       "      <td>0.82</td>\n",
       "      <td>0.05</td>\n",
       "    </tr>\n",
       "    <tr>\n",
       "      <th>LogisticRegression</th>\n",
       "      <td>0.84</td>\n",
       "      <td>0.57</td>\n",
       "      <td>0.57</td>\n",
       "      <td>0.81</td>\n",
       "      <td>0.07</td>\n",
       "    </tr>\n",
       "    <tr>\n",
       "      <th>Perceptron</th>\n",
       "      <td>0.81</td>\n",
       "      <td>0.62</td>\n",
       "      <td>0.62</td>\n",
       "      <td>0.80</td>\n",
       "      <td>0.05</td>\n",
       "    </tr>\n",
       "    <tr>\n",
       "      <th>CalibratedClassifierCV</th>\n",
       "      <td>0.84</td>\n",
       "      <td>0.56</td>\n",
       "      <td>0.56</td>\n",
       "      <td>0.80</td>\n",
       "      <td>1.58</td>\n",
       "    </tr>\n",
       "    <tr>\n",
       "      <th>KNeighborsClassifier</th>\n",
       "      <td>0.82</td>\n",
       "      <td>0.57</td>\n",
       "      <td>0.57</td>\n",
       "      <td>0.80</td>\n",
       "      <td>1.00</td>\n",
       "    </tr>\n",
       "    <tr>\n",
       "      <th>BernoulliNB</th>\n",
       "      <td>0.82</td>\n",
       "      <td>0.57</td>\n",
       "      <td>0.57</td>\n",
       "      <td>0.80</td>\n",
       "      <td>0.05</td>\n",
       "    </tr>\n",
       "    <tr>\n",
       "      <th>LinearSVC</th>\n",
       "      <td>0.84</td>\n",
       "      <td>0.53</td>\n",
       "      <td>0.53</td>\n",
       "      <td>0.79</td>\n",
       "      <td>0.52</td>\n",
       "    </tr>\n",
       "    <tr>\n",
       "      <th>SGDClassifier</th>\n",
       "      <td>0.83</td>\n",
       "      <td>0.53</td>\n",
       "      <td>0.53</td>\n",
       "      <td>0.78</td>\n",
       "      <td>0.08</td>\n",
       "    </tr>\n",
       "    <tr>\n",
       "      <th>PassiveAggressiveClassifier</th>\n",
       "      <td>0.77</td>\n",
       "      <td>0.59</td>\n",
       "      <td>0.59</td>\n",
       "      <td>0.78</td>\n",
       "      <td>0.05</td>\n",
       "    </tr>\n",
       "    <tr>\n",
       "      <th>LinearDiscriminantAnalysis</th>\n",
       "      <td>0.84</td>\n",
       "      <td>0.51</td>\n",
       "      <td>0.51</td>\n",
       "      <td>0.77</td>\n",
       "      <td>0.04</td>\n",
       "    </tr>\n",
       "    <tr>\n",
       "      <th>RidgeClassifier</th>\n",
       "      <td>0.84</td>\n",
       "      <td>0.50</td>\n",
       "      <td>0.50</td>\n",
       "      <td>0.77</td>\n",
       "      <td>0.05</td>\n",
       "    </tr>\n",
       "    <tr>\n",
       "      <th>DummyClassifier</th>\n",
       "      <td>0.84</td>\n",
       "      <td>0.50</td>\n",
       "      <td>0.50</td>\n",
       "      <td>0.77</td>\n",
       "      <td>0.03</td>\n",
       "    </tr>\n",
       "    <tr>\n",
       "      <th>RidgeClassifierCV</th>\n",
       "      <td>0.84</td>\n",
       "      <td>0.50</td>\n",
       "      <td>0.50</td>\n",
       "      <td>0.77</td>\n",
       "      <td>0.04</td>\n",
       "    </tr>\n",
       "    <tr>\n",
       "      <th>SVC</th>\n",
       "      <td>0.84</td>\n",
       "      <td>0.50</td>\n",
       "      <td>0.50</td>\n",
       "      <td>0.77</td>\n",
       "      <td>1.98</td>\n",
       "    </tr>\n",
       "    <tr>\n",
       "      <th>QuadraticDiscriminantAnalysis</th>\n",
       "      <td>0.72</td>\n",
       "      <td>0.72</td>\n",
       "      <td>0.72</td>\n",
       "      <td>0.76</td>\n",
       "      <td>0.04</td>\n",
       "    </tr>\n",
       "    <tr>\n",
       "      <th>GaussianNB</th>\n",
       "      <td>0.72</td>\n",
       "      <td>0.74</td>\n",
       "      <td>0.74</td>\n",
       "      <td>0.75</td>\n",
       "      <td>0.03</td>\n",
       "    </tr>\n",
       "    <tr>\n",
       "      <th>NearestCentroid</th>\n",
       "      <td>0.68</td>\n",
       "      <td>0.75</td>\n",
       "      <td>0.75</td>\n",
       "      <td>0.72</td>\n",
       "      <td>0.04</td>\n",
       "    </tr>\n",
       "  </tbody>\n",
       "</table>\n",
       "</div>"
      ],
      "text/plain": [
       "                               Accuracy  Balanced Accuracy  ROC AUC  F1 Score  \\\n",
       "Model                                                                           \n",
       "LGBMClassifier                     0.87               0.72     0.72      0.87   \n",
       "RandomForestClassifier             0.88               0.70     0.70      0.87   \n",
       "XGBClassifier                      0.87               0.71     0.71      0.86   \n",
       "BaggingClassifier                  0.87               0.70     0.70      0.86   \n",
       "AdaBoostClassifier                 0.87               0.69     0.69      0.86   \n",
       "ExtraTreesClassifier               0.86               0.64     0.64      0.84   \n",
       "DecisionTreeClassifier             0.84               0.70     0.70      0.84   \n",
       "ExtraTreeClassifier                0.82               0.66     0.66      0.82   \n",
       "LogisticRegression                 0.84               0.57     0.57      0.81   \n",
       "Perceptron                         0.81               0.62     0.62      0.80   \n",
       "CalibratedClassifierCV             0.84               0.56     0.56      0.80   \n",
       "KNeighborsClassifier               0.82               0.57     0.57      0.80   \n",
       "BernoulliNB                        0.82               0.57     0.57      0.80   \n",
       "LinearSVC                          0.84               0.53     0.53      0.79   \n",
       "SGDClassifier                      0.83               0.53     0.53      0.78   \n",
       "PassiveAggressiveClassifier        0.77               0.59     0.59      0.78   \n",
       "LinearDiscriminantAnalysis         0.84               0.51     0.51      0.77   \n",
       "RidgeClassifier                    0.84               0.50     0.50      0.77   \n",
       "DummyClassifier                    0.84               0.50     0.50      0.77   \n",
       "RidgeClassifierCV                  0.84               0.50     0.50      0.77   \n",
       "SVC                                0.84               0.50     0.50      0.77   \n",
       "QuadraticDiscriminantAnalysis      0.72               0.72     0.72      0.76   \n",
       "GaussianNB                         0.72               0.74     0.74      0.75   \n",
       "NearestCentroid                    0.68               0.75     0.75      0.72   \n",
       "\n",
       "                               Time Taken  \n",
       "Model                                      \n",
       "LGBMClassifier                       0.33  \n",
       "RandomForestClassifier               1.06  \n",
       "XGBClassifier                        0.58  \n",
       "BaggingClassifier                    0.40  \n",
       "AdaBoostClassifier                   0.54  \n",
       "ExtraTreesClassifier                 0.80  \n",
       "DecisionTreeClassifier               0.09  \n",
       "ExtraTreeClassifier                  0.05  \n",
       "LogisticRegression                   0.07  \n",
       "Perceptron                           0.05  \n",
       "CalibratedClassifierCV               1.58  \n",
       "KNeighborsClassifier                 1.00  \n",
       "BernoulliNB                          0.05  \n",
       "LinearSVC                            0.52  \n",
       "SGDClassifier                        0.08  \n",
       "PassiveAggressiveClassifier          0.05  \n",
       "LinearDiscriminantAnalysis           0.04  \n",
       "RidgeClassifier                      0.05  \n",
       "DummyClassifier                      0.03  \n",
       "RidgeClassifierCV                    0.04  \n",
       "SVC                                  1.98  \n",
       "QuadraticDiscriminantAnalysis        0.04  \n",
       "GaussianNB                           0.03  \n",
       "NearestCentroid                      0.04  "
      ]
     },
     "execution_count": 189,
     "metadata": {},
     "output_type": "execute_result"
    }
   ],
   "source": [
    "models.sort_values('F1 Score', ascending=False)"
   ]
  },
  {
   "cell_type": "code",
   "execution_count": null,
   "id": "20b22e25",
   "metadata": {},
   "outputs": [],
   "source": [
    "fpnfo"
   ]
  },
  {
   "cell_type": "code",
   "execution_count": 172,
   "id": "591398e6",
   "metadata": {
    "ExecuteTime": {
     "end_time": "2022-10-22T14:11:16.714575Z",
     "start_time": "2022-10-22T14:11:16.702533Z"
    }
   },
   "outputs": [
    {
     "data": {
      "text/plain": [
       "0.8778947368421053"
      ]
     },
     "execution_count": 172,
     "metadata": {},
     "output_type": "execute_result"
    }
   ],
   "source": [
    "pipe = clf.models['RandomForestClassifier']\n",
    "pred = pipe.predict(X_test)\n",
    "\n",
    "f1_score(y_test, pred, average='micro')"
   ]
  },
  {
   "cell_type": "code",
   "execution_count": 173,
   "id": "5430be3a",
   "metadata": {
    "ExecuteTime": {
     "end_time": "2022-10-22T14:33:46.212615Z",
     "start_time": "2022-10-22T14:33:46.185585Z"
    }
   },
   "outputs": [
    {
     "name": "stdout",
     "output_type": "stream",
     "text": [
      "micro 0.8778947368421053\n",
      "macro 0.7342897231559322\n",
      "Not possible samples\n",
      "weighted 0.8673669924252495\n",
      "binary 0.5389507154213037\n"
     ]
    }
   ],
   "source": [
    "types_f1 = ['micro', 'macro', 'samples', 'weighted', 'binary']\n",
    "for t in types_f1:\n",
    "    try:\n",
    "        print(t,f1_score(y_test, pred, average=t))\n",
    "    except ValueError:\n",
    "        print(f'Not possible {t}')"
   ]
  },
  {
   "cell_type": "markdown",
   "id": "d89ca43a",
   "metadata": {},
   "source": [
    "### Teste"
   ]
  },
  {
   "cell_type": "code",
   "execution_count": 174,
   "id": "d067a430",
   "metadata": {
    "ExecuteTime": {
     "end_time": "2022-10-22T14:21:05.737564Z",
     "start_time": "2022-10-22T14:21:05.715567Z"
    }
   },
   "outputs": [],
   "source": [
    "X_submission=df_test.copy()\n",
    "X_submission = df_test.drop('id_cliente', axis =1)\n",
    "X_submission= data_preparation(X_submission)\n",
    "X_submission[variables_robust]=rs_idade.fit_transform(X_submission[variables_robust])    \n",
    "X_submission[num_cols] = mms.fit_transform(X_submission[num_cols])\n",
    "ids = df_test['id_cliente']"
   ]
  },
  {
   "cell_type": "code",
   "execution_count": 175,
   "id": "22e2ba79",
   "metadata": {
    "ExecuteTime": {
     "end_time": "2022-10-22T14:21:17.084792Z",
     "start_time": "2022-10-22T14:21:17.009446Z"
    }
   },
   "outputs": [],
   "source": [
    "pred = pipe.predict(X_submission)"
   ]
  },
  {
   "cell_type": "code",
   "execution_count": 176,
   "id": "4e06b4b0",
   "metadata": {
    "ExecuteTime": {
     "end_time": "2022-10-22T14:21:27.034249Z",
     "start_time": "2022-10-22T14:21:27.023250Z"
    }
   },
   "outputs": [],
   "source": [
    "submission = pd.DataFrame()"
   ]
  },
  {
   "cell_type": "code",
   "execution_count": 177,
   "id": "845966e8",
   "metadata": {
    "ExecuteTime": {
     "end_time": "2022-10-22T14:21:48.106434Z",
     "start_time": "2022-10-22T14:21:48.087466Z"
    }
   },
   "outputs": [],
   "source": [
    "submission['id_cliente'] = ids\n",
    "submission['limite_adicional'] = pred"
   ]
  },
  {
   "cell_type": "code",
   "execution_count": 178,
   "id": "f22e64e0",
   "metadata": {
    "ExecuteTime": {
     "end_time": "2022-10-22T14:22:57.170847Z",
     "start_time": "2022-10-22T14:22:57.157847Z"
    }
   },
   "outputs": [],
   "source": [
    "map_resposta = {0: 'Negar', 1: 'Conceder'}"
   ]
  },
  {
   "cell_type": "code",
   "execution_count": 179,
   "id": "8ebdffad",
   "metadata": {
    "ExecuteTime": {
     "end_time": "2022-10-22T14:23:14.863965Z",
     "start_time": "2022-10-22T14:23:14.855962Z"
    }
   },
   "outputs": [],
   "source": [
    "submission['limite_adicional'] = submission['limite_adicional'].map(map_resposta)"
   ]
  },
  {
   "cell_type": "code",
   "execution_count": 180,
   "id": "d8eb9260",
   "metadata": {
    "ExecuteTime": {
     "end_time": "2022-10-22T14:23:43.235414Z",
     "start_time": "2022-10-22T14:23:43.209455Z"
    }
   },
   "outputs": [],
   "source": [
    "submission.to_csv('../data/submissao.csv', index=False)"
   ]
  },
  {
   "cell_type": "code",
   "execution_count": 181,
   "id": "00145459",
   "metadata": {
    "ExecuteTime": {
     "end_time": "2022-10-22T14:24:15.975469Z",
     "start_time": "2022-10-22T14:24:15.936126Z"
    }
   },
   "outputs": [
    {
     "data": {
      "text/html": [
       "<div>\n",
       "<style scoped>\n",
       "    .dataframe tbody tr th:only-of-type {\n",
       "        vertical-align: middle;\n",
       "    }\n",
       "\n",
       "    .dataframe tbody tr th {\n",
       "        vertical-align: top;\n",
       "    }\n",
       "\n",
       "    .dataframe thead th {\n",
       "        text-align: right;\n",
       "    }\n",
       "</style>\n",
       "<table border=\"1\" class=\"dataframe\">\n",
       "  <thead>\n",
       "    <tr style=\"text-align: right;\">\n",
       "      <th></th>\n",
       "      <th>id_cliente</th>\n",
       "      <th>limite_adicional</th>\n",
       "    </tr>\n",
       "  </thead>\n",
       "  <tbody>\n",
       "    <tr>\n",
       "      <th>0</th>\n",
       "      <td>2</td>\n",
       "      <td>Conceder</td>\n",
       "    </tr>\n",
       "    <tr>\n",
       "      <th>1</th>\n",
       "      <td>5</td>\n",
       "      <td>Negar</td>\n",
       "    </tr>\n",
       "    <tr>\n",
       "      <th>2</th>\n",
       "      <td>6</td>\n",
       "      <td>Negar</td>\n",
       "    </tr>\n",
       "    <tr>\n",
       "      <th>3</th>\n",
       "      <td>8</td>\n",
       "      <td>Negar</td>\n",
       "    </tr>\n",
       "    <tr>\n",
       "      <th>4</th>\n",
       "      <td>10</td>\n",
       "      <td>Conceder</td>\n",
       "    </tr>\n",
       "    <tr>\n",
       "      <th>...</th>\n",
       "      <td>...</td>\n",
       "      <td>...</td>\n",
       "    </tr>\n",
       "    <tr>\n",
       "      <th>2995</th>\n",
       "      <td>12484</td>\n",
       "      <td>Negar</td>\n",
       "    </tr>\n",
       "    <tr>\n",
       "      <th>2996</th>\n",
       "      <td>12487</td>\n",
       "      <td>Negar</td>\n",
       "    </tr>\n",
       "    <tr>\n",
       "      <th>2997</th>\n",
       "      <td>12489</td>\n",
       "      <td>Negar</td>\n",
       "    </tr>\n",
       "    <tr>\n",
       "      <th>2998</th>\n",
       "      <td>12495</td>\n",
       "      <td>Conceder</td>\n",
       "    </tr>\n",
       "    <tr>\n",
       "      <th>2999</th>\n",
       "      <td>12498</td>\n",
       "      <td>Negar</td>\n",
       "    </tr>\n",
       "  </tbody>\n",
       "</table>\n",
       "<p>3000 rows × 2 columns</p>\n",
       "</div>"
      ],
      "text/plain": [
       "      id_cliente limite_adicional\n",
       "0              2         Conceder\n",
       "1              5            Negar\n",
       "2              6            Negar\n",
       "3              8            Negar\n",
       "4             10         Conceder\n",
       "...          ...              ...\n",
       "2995       12484            Negar\n",
       "2996       12487            Negar\n",
       "2997       12489            Negar\n",
       "2998       12495         Conceder\n",
       "2999       12498            Negar\n",
       "\n",
       "[3000 rows x 2 columns]"
      ]
     },
     "execution_count": 181,
     "metadata": {},
     "output_type": "execute_result"
    }
   ],
   "source": [
    "pd.read_csv('../data/submissao.csv')"
   ]
  },
  {
   "cell_type": "code",
   "execution_count": null,
   "id": "4d14be93",
   "metadata": {},
   "outputs": [],
   "source": []
  }
 ],
 "metadata": {
  "kernelspec": {
   "display_name": "Python 3",
   "language": "python",
   "name": "python3"
  },
  "language_info": {
   "codemirror_mode": {
    "name": "ipython",
    "version": 3
   },
   "file_extension": ".py",
   "mimetype": "text/x-python",
   "name": "python",
   "nbconvert_exporter": "python",
   "pygments_lexer": "ipython3",
   "version": "3.10.4"
  },
  "varInspector": {
   "cols": {
    "lenName": 16,
    "lenType": 16,
    "lenVar": 40
   },
   "kernels_config": {
    "python": {
     "delete_cmd_postfix": "",
     "delete_cmd_prefix": "del ",
     "library": "var_list.py",
     "varRefreshCmd": "print(var_dic_list())"
    },
    "r": {
     "delete_cmd_postfix": ") ",
     "delete_cmd_prefix": "rm(",
     "library": "var_list.r",
     "varRefreshCmd": "cat(var_dic_list()) "
    }
   },
   "types_to_exclude": [
    "module",
    "function",
    "builtin_function_or_method",
    "instance",
    "_Feature"
   ],
   "window_display": false
  },
  "vscode": {
   "interpreter": {
    "hash": "25221b6b9a4d399886f2cc4863e60b0fd11067ce172b33ecf50faf510e9d19c2"
   }
  }
 },
 "nbformat": 4,
 "nbformat_minor": 5
}
