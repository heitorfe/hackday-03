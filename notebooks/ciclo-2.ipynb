{
 "cells": [
  {
   "cell_type": "markdown",
   "id": "764ae29e",
   "metadata": {},
   "source": [
    "### Imports"
   ]
  },
  {
   "cell_type": "code",
   "execution_count": 1,
   "id": "cf5617da",
   "metadata": {
    "ExecuteTime": {
     "end_time": "2022-10-22T14:00:52.134466Z",
     "start_time": "2022-10-22T14:00:46.491004Z"
    }
   },
   "outputs": [],
   "source": [
    "import pandas as pd\n",
    "import numpy as np\n",
    "from sklearn import preprocessing as pp\n",
    "from matplotlib import pyplot as plt\n",
    "from sklearn.linear_model import LogisticRegression\n",
    "from sklearn.ensemble import RandomForestClassifier, ExtraTreesClassifier, IsolationForest\n",
    "from sklearn.metrics import  f1_score, precision_score, recall_score\n",
    "from sklearn.model_selection import train_test_split, StratifiedKFold, KFold\n",
    "import seaborn as sns\n",
    "import plotly.express as px\n",
    "import sweetviz as sv\n",
    "import pickle\n",
    "from boruta import BorutaPy\n",
    "from lightgbm import LGBMClassifier\n",
    "from xgboost import XGBClassifier\n",
    "from sklearn.svm import SVR\n",
    "\n",
    "pd.set_option('display.max_rows', 100)\n",
    "pd.set_option('display.max_columns', 100)"
   ]
  },
  {
   "cell_type": "markdown",
   "id": "2ed657fe",
   "metadata": {},
   "source": [
    "### Helper Functions"
   ]
  },
  {
   "cell_type": "code",
   "execution_count": 2,
   "id": "3e87d0cd",
   "metadata": {
    "ExecuteTime": {
     "end_time": "2022-10-22T14:00:52.197177Z",
     "start_time": "2022-10-22T14:00:52.167167Z"
    }
   },
   "outputs": [],
   "source": [
    "alvo='limite_adicional'\n",
    "\n",
    "def simple_model_test(model, nome):\n",
    "    #model definition\n",
    "\n",
    "    # model fit\n",
    "    model.fit(X_train, y_train)\n",
    "\n",
    "    #model predict\n",
    "    y_hat = model.predict(X_test)\n",
    "    \n",
    "    # evaluate\n",
    "    f1 = np.round(f1_score( y_test_, y_hat_ ), 2)\n",
    "    \n",
    "    print('{}\\n f1: {}'.format(model_name, f1))\n",
    "    return f1\n",
    "\n",
    "def send_model(model):\n",
    "     # model fit\n",
    "    model.fit(X_train[cols_selected], y_train)\n",
    "    pickle.dump(model, open('../parameters/model.pkl', 'wb'))\n",
    "    print('Model submited')\n",
    "    return None\n",
    "\n",
    "def target_encoding(df, column):\n",
    "    target = df.groupby(column)[alvo].mean()\n",
    "    df[column] = df[column].map(target)\n",
    "    pickle.dump(target, open(f'../parameters/{column}_encode.pkl', 'wb'))\n",
    "    print(f'Target Encode to {column}')\n",
    "    \n",
    "def frequency_encoding(df, column):\n",
    "    frequency = df.groupby(column)[alvo].count() / len(df)\n",
    "    df[column] = df[column].map(frequency)\n",
    "    pickle.dump(target, open(f'../parameters/{column}_encode.pkl', 'wb'))\n",
    "    print(f'Frequency Encode to {column}')\n",
    "    "
   ]
  },
  {
   "cell_type": "code",
   "execution_count": 3,
   "id": "cfb6259f",
   "metadata": {},
   "outputs": [],
   "source": [
    "def encodes_obrigatorios(df, teste=True):\n",
    "    num_cols = df.select_dtypes('number').drop('id_cliente', axis=1).columns\n",
    "\n",
    "\n",
    "    map_bool = {'Sim': 1, 'Não': 0}\n",
    "    map_alvo = {'Conceder': 1, 'Negar': 0}\n",
    "    string_cols = ['investe_exterior', 'pessoa_polit_exp']\n",
    "\n",
    "    df['investe_exterior'] = df['investe_exterior'].map(map_bool)\n",
    "    df['pessoa_polit_exp'] = df['pessoa_polit_exp'].map(map_bool)\n",
    "    \n",
    "    if teste==False:\n",
    "        df[alvo] = df[alvo].map(map_alvo)\n",
    "    return df"
   ]
  },
  {
   "cell_type": "markdown",
   "id": "0273a2ba",
   "metadata": {},
   "source": [
    "### Load Data "
   ]
  },
  {
   "cell_type": "code",
   "execution_count": 4,
   "id": "f186b688",
   "metadata": {
    "ExecuteTime": {
     "end_time": "2022-10-22T14:17:56.445737Z",
     "start_time": "2022-10-22T14:17:56.382399Z"
    }
   },
   "outputs": [],
   "source": [
    "path = '../data/train.csv'\n",
    "\n",
    "df_raw = pd.read_csv(path)\n",
    "df_raw=encodes_obrigatorios(df_raw, teste=False)\n",
    "\n",
    "df_test = pd.read_csv('../data/test.csv')\n",
    "df_test=encodes_obrigatorios(df_test, teste=True)"
   ]
  },
  {
   "cell_type": "markdown",
   "id": "c8eacb90",
   "metadata": {},
   "source": [
    "### Data Description"
   ]
  },
  {
   "cell_type": "code",
   "execution_count": 5,
   "id": "5ed534dd",
   "metadata": {
    "ExecuteTime": {
     "end_time": "2022-10-22T14:00:58.972502Z",
     "start_time": "2022-10-22T14:00:58.957501Z"
    }
   },
   "outputs": [],
   "source": [
    "df1 = df_raw.copy()"
   ]
  },
  {
   "cell_type": "markdown",
   "id": "eca465ae",
   "metadata": {},
   "source": [
    "#### Nulls"
   ]
  },
  {
   "cell_type": "code",
   "execution_count": 6,
   "id": "50efe28f",
   "metadata": {},
   "outputs": [
    {
     "data": {
      "text/plain": [
       "id_cliente                 0\n",
       "idade                      0\n",
       "saldo_atual                0\n",
       "divida_atual               0\n",
       "renda_anual                0\n",
       "valor_em_investimentos     0\n",
       "taxa_utilizacao_credito    0\n",
       "num_emprestimos            0\n",
       "num_contas_bancarias       0\n",
       "num_cartoes_credito        0\n",
       "dias_atraso_dt_venc        0\n",
       "num_pgtos_atrasados        0\n",
       "num_consultas_credito      0\n",
       "taxa_juros                 0\n",
       "investe_exterior           0\n",
       "pessoa_polit_exp           0\n",
       "limite_adicional           0\n",
       "dtype: int64"
      ]
     },
     "execution_count": 6,
     "metadata": {},
     "output_type": "execute_result"
    }
   ],
   "source": [
    "df1.isna().sum()"
   ]
  },
  {
   "cell_type": "markdown",
   "id": "2f18985d",
   "metadata": {},
   "source": [
    "#### Dtypes"
   ]
  },
  {
   "cell_type": "code",
   "execution_count": 7,
   "id": "b6199e91",
   "metadata": {},
   "outputs": [
    {
     "data": {
      "text/plain": [
       "id_cliente                   int64\n",
       "idade                        int64\n",
       "saldo_atual                float64\n",
       "divida_atual               float64\n",
       "renda_anual                float64\n",
       "valor_em_investimentos     float64\n",
       "taxa_utilizacao_credito    float64\n",
       "num_emprestimos              int64\n",
       "num_contas_bancarias         int64\n",
       "num_cartoes_credito          int64\n",
       "dias_atraso_dt_venc          int64\n",
       "num_pgtos_atrasados          int64\n",
       "num_consultas_credito        int64\n",
       "taxa_juros                   int64\n",
       "investe_exterior             int64\n",
       "pessoa_polit_exp             int64\n",
       "limite_adicional             int64\n",
       "dtype: object"
      ]
     },
     "execution_count": 7,
     "metadata": {},
     "output_type": "execute_result"
    }
   ],
   "source": [
    "df1.dtypes"
   ]
  },
  {
   "cell_type": "markdown",
   "id": "837a0e27",
   "metadata": {},
   "source": [
    "### Outliers inspection"
   ]
  },
  {
   "cell_type": "code",
   "execution_count": 8,
   "id": "66586afd",
   "metadata": {},
   "outputs": [
    {
     "data": {
      "text/plain": [
       "0    8917\n",
       "1     583\n",
       "Name: pessoa_polit_exp, dtype: int64"
      ]
     },
     "execution_count": 8,
     "metadata": {},
     "output_type": "execute_result"
    }
   ],
   "source": [
    "df1['pessoa_polit_exp'].value_counts()"
   ]
  },
  {
   "cell_type": "code",
   "execution_count": 9,
   "id": "4503276a",
   "metadata": {},
   "outputs": [
    {
     "data": {
      "text/plain": [
       "0    7995\n",
       "1    1505\n",
       "Name: limite_adicional, dtype: int64"
      ]
     },
     "execution_count": 9,
     "metadata": {},
     "output_type": "execute_result"
    }
   ],
   "source": [
    "df1['limite_adicional'].value_counts()"
   ]
  },
  {
   "cell_type": "code",
   "execution_count": 10,
   "id": "9a870f81",
   "metadata": {},
   "outputs": [
    {
     "data": {
      "application/vnd.jupyter.widget-view+json": {
       "model_id": "74c472c184f34a16acbc68585fa15a71",
       "version_major": 2,
       "version_minor": 0
      },
      "text/plain": [
       "                                             |          | [  0%]   00:00 -> (? left)"
      ]
     },
     "metadata": {},
     "output_type": "display_data"
    }
   ],
   "source": [
    "dashboard=sv.analyze(df1, target_feat='limite_adicional')"
   ]
  },
  {
   "cell_type": "code",
   "execution_count": 11,
   "metadata": {},
   "outputs": [
    {
     "name": "stdout",
     "output_type": "stream",
     "text": [
      "Report SWEETVIZ_REPORT.html was generated! NOTEBOOK/COLAB USERS: the web browser MAY not pop up, regardless, the report IS saved in your notebook/colab files.\n"
     ]
    }
   ],
   "source": [
    "dashboard.show_html()"
   ]
  },
  {
   "cell_type": "raw",
   "id": "8bc42fb4",
   "metadata": {},
   "source": [
    "iff=IsolationForest(n_estimators=200, n_jobs=1)\n",
    "x_iff=df1.drop('limite_adicional',axis=1)\n",
    "y_iff=df1['limite_adicional']\n",
    "x_iff['predict_outlier']=iff.fit_predict(x_iff,y_iff)\n",
    "x_iff.head()"
   ]
  },
  {
   "cell_type": "markdown",
   "id": "6768c20c",
   "metadata": {},
   "source": [
    "### Data Filtering"
   ]
  },
  {
   "cell_type": "code",
   "execution_count": 12,
   "id": "39a88c5d",
   "metadata": {
    "ExecuteTime": {
     "end_time": "2022-10-22T14:01:20.626734Z",
     "start_time": "2022-10-22T14:01:20.607739Z"
    }
   },
   "outputs": [],
   "source": [
    "df2 = df1.copy()\n",
    "#idade - baseado empiricamente\n",
    "df2.loc[df2['idade']>100, 'idade'] = df2['idade'].median()\n",
    "\n",
    "# renda anual - baseado no percentil\n",
    "limit = np.percentile(df2['renda_anual'], 0.95)\n",
    "df2.loc[df2['idade']>100, 'idade'] \n",
    "\n",
    "df2.loc[df2['taxa_juros']>100, 'taxa_juros'] = df2['taxa_juros'].median()"
   ]
  },
  {
   "cell_type": "markdown",
   "id": "40e9fc27",
   "metadata": {},
   "source": [
    "### Feature Engineering"
   ]
  },
  {
   "cell_type": "code",
   "execution_count": 13,
   "id": "0efcbddd",
   "metadata": {
    "ExecuteTime": {
     "end_time": "2022-10-22T14:01:21.031419Z",
     "start_time": "2022-10-22T14:01:21.014373Z"
    }
   },
   "outputs": [],
   "source": [
    "df3 = df2.copy()\n",
    "\n",
    "df3['negativado'] = np.where(df3['divida_atual']<df3['saldo_atual'], 0, 1)\n",
    "#df3['renda_mensal'] = np.where(df3['divida_atual']<df3['saldo_atual'], 0, 1)\n",
    "df3['divida/saldos_atuais']=df3['divida_atual']/(df3['saldo_atual']+df3['valor_em_investimentos'])\n",
    "df3['divida_atual/renda_mensal']=df3['divida_atual']/(df3['renda_anual']/12)\n",
    "df3['saldo_liquido']=df3['saldo_atual']+df3['valor_em_investimentos']-df3['divida_atual']\n",
    "df3['score_credito']=df3['saldo_liquido']*df3['taxa_utilizacao_credito']\n",
    "\n",
    "\n",
    "df3=df3.drop(['divida_atual','saldo_atual',\"valor_em_investimentos\",\"saldo_liquido\"], axis=1)"
   ]
  },
  {
   "cell_type": "code",
   "execution_count": 14,
   "id": "0477bfc6",
   "metadata": {},
   "outputs": [
    {
     "data": {
      "text/html": [
       "<div>\n",
       "<style scoped>\n",
       "    .dataframe tbody tr th:only-of-type {\n",
       "        vertical-align: middle;\n",
       "    }\n",
       "\n",
       "    .dataframe tbody tr th {\n",
       "        vertical-align: top;\n",
       "    }\n",
       "\n",
       "    .dataframe thead th {\n",
       "        text-align: right;\n",
       "    }\n",
       "</style>\n",
       "<table border=\"1\" class=\"dataframe\">\n",
       "  <thead>\n",
       "    <tr style=\"text-align: right;\">\n",
       "      <th></th>\n",
       "      <th>0</th>\n",
       "      <th>1</th>\n",
       "      <th>2</th>\n",
       "      <th>3</th>\n",
       "      <th>4</th>\n",
       "    </tr>\n",
       "  </thead>\n",
       "  <tbody>\n",
       "    <tr>\n",
       "      <th>id_cliente</th>\n",
       "      <td>1767.000000</td>\n",
       "      <td>11920.000000</td>\n",
       "      <td>8910.000000</td>\n",
       "      <td>4964.000000</td>\n",
       "      <td>10100.000000</td>\n",
       "    </tr>\n",
       "    <tr>\n",
       "      <th>idade</th>\n",
       "      <td>21.000000</td>\n",
       "      <td>40.000000</td>\n",
       "      <td>36.000000</td>\n",
       "      <td>58.000000</td>\n",
       "      <td>35.000000</td>\n",
       "    </tr>\n",
       "    <tr>\n",
       "      <th>renda_anual</th>\n",
       "      <td>24196.896360</td>\n",
       "      <td>19227.377960</td>\n",
       "      <td>42822.282230</td>\n",
       "      <td>51786.826000</td>\n",
       "      <td>44626.853460</td>\n",
       "    </tr>\n",
       "    <tr>\n",
       "      <th>taxa_utilizacao_credito</th>\n",
       "      <td>31.038763</td>\n",
       "      <td>36.917093</td>\n",
       "      <td>34.561714</td>\n",
       "      <td>31.493561</td>\n",
       "      <td>28.028887</td>\n",
       "    </tr>\n",
       "    <tr>\n",
       "      <th>num_emprestimos</th>\n",
       "      <td>6.000000</td>\n",
       "      <td>5.000000</td>\n",
       "      <td>0.000000</td>\n",
       "      <td>0.000000</td>\n",
       "      <td>2.000000</td>\n",
       "    </tr>\n",
       "    <tr>\n",
       "      <th>num_contas_bancarias</th>\n",
       "      <td>5.000000</td>\n",
       "      <td>8.000000</td>\n",
       "      <td>3.000000</td>\n",
       "      <td>3.000000</td>\n",
       "      <td>8.000000</td>\n",
       "    </tr>\n",
       "    <tr>\n",
       "      <th>num_cartoes_credito</th>\n",
       "      <td>7.000000</td>\n",
       "      <td>5.000000</td>\n",
       "      <td>6.000000</td>\n",
       "      <td>7.000000</td>\n",
       "      <td>7.000000</td>\n",
       "    </tr>\n",
       "    <tr>\n",
       "      <th>dias_atraso_dt_venc</th>\n",
       "      <td>21.000000</td>\n",
       "      <td>40.000000</td>\n",
       "      <td>26.000000</td>\n",
       "      <td>12.000000</td>\n",
       "      <td>24.000000</td>\n",
       "    </tr>\n",
       "    <tr>\n",
       "      <th>num_pgtos_atrasados</th>\n",
       "      <td>14.000000</td>\n",
       "      <td>23.000000</td>\n",
       "      <td>13.000000</td>\n",
       "      <td>7.000000</td>\n",
       "      <td>10.000000</td>\n",
       "    </tr>\n",
       "    <tr>\n",
       "      <th>num_consultas_credito</th>\n",
       "      <td>9.000000</td>\n",
       "      <td>10.000000</td>\n",
       "      <td>3.000000</td>\n",
       "      <td>2.000000</td>\n",
       "      <td>8.000000</td>\n",
       "    </tr>\n",
       "    <tr>\n",
       "      <th>taxa_juros</th>\n",
       "      <td>15.000000</td>\n",
       "      <td>18.000000</td>\n",
       "      <td>15.000000</td>\n",
       "      <td>1.000000</td>\n",
       "      <td>20.000000</td>\n",
       "    </tr>\n",
       "    <tr>\n",
       "      <th>investe_exterior</th>\n",
       "      <td>0.000000</td>\n",
       "      <td>0.000000</td>\n",
       "      <td>1.000000</td>\n",
       "      <td>1.000000</td>\n",
       "      <td>1.000000</td>\n",
       "    </tr>\n",
       "    <tr>\n",
       "      <th>pessoa_polit_exp</th>\n",
       "      <td>0.000000</td>\n",
       "      <td>0.000000</td>\n",
       "      <td>0.000000</td>\n",
       "      <td>0.000000</td>\n",
       "      <td>0.000000</td>\n",
       "    </tr>\n",
       "    <tr>\n",
       "      <th>limite_adicional</th>\n",
       "      <td>0.000000</td>\n",
       "      <td>0.000000</td>\n",
       "      <td>0.000000</td>\n",
       "      <td>0.000000</td>\n",
       "      <td>0.000000</td>\n",
       "    </tr>\n",
       "    <tr>\n",
       "      <th>negativado</th>\n",
       "      <td>1.000000</td>\n",
       "      <td>1.000000</td>\n",
       "      <td>1.000000</td>\n",
       "      <td>1.000000</td>\n",
       "      <td>1.000000</td>\n",
       "    </tr>\n",
       "    <tr>\n",
       "      <th>divida/saldos_atuais</th>\n",
       "      <td>6.737763</td>\n",
       "      <td>7.278271</td>\n",
       "      <td>1.816820</td>\n",
       "      <td>1.136718</td>\n",
       "      <td>1.583340</td>\n",
       "    </tr>\n",
       "    <tr>\n",
       "      <th>divida_atual/renda_mensal</th>\n",
       "      <td>1.278040</td>\n",
       "      <td>1.538675</td>\n",
       "      <td>0.295722</td>\n",
       "      <td>0.162910</td>\n",
       "      <td>0.239665</td>\n",
       "    </tr>\n",
       "    <tr>\n",
       "      <th>score_credito</th>\n",
       "      <td>-68116.782852</td>\n",
       "      <td>-78509.997686</td>\n",
       "      <td>-16397.646144</td>\n",
       "      <td>-2663.053498</td>\n",
       "      <td>-9203.913138</td>\n",
       "    </tr>\n",
       "  </tbody>\n",
       "</table>\n",
       "</div>"
      ],
      "text/plain": [
       "                                      0             1             2  \\\n",
       "id_cliente                  1767.000000  11920.000000   8910.000000   \n",
       "idade                         21.000000     40.000000     36.000000   \n",
       "renda_anual                24196.896360  19227.377960  42822.282230   \n",
       "taxa_utilizacao_credito       31.038763     36.917093     34.561714   \n",
       "num_emprestimos                6.000000      5.000000      0.000000   \n",
       "num_contas_bancarias           5.000000      8.000000      3.000000   \n",
       "num_cartoes_credito            7.000000      5.000000      6.000000   \n",
       "dias_atraso_dt_venc           21.000000     40.000000     26.000000   \n",
       "num_pgtos_atrasados           14.000000     23.000000     13.000000   \n",
       "num_consultas_credito          9.000000     10.000000      3.000000   \n",
       "taxa_juros                    15.000000     18.000000     15.000000   \n",
       "investe_exterior               0.000000      0.000000      1.000000   \n",
       "pessoa_polit_exp               0.000000      0.000000      0.000000   \n",
       "limite_adicional               0.000000      0.000000      0.000000   \n",
       "negativado                     1.000000      1.000000      1.000000   \n",
       "divida/saldos_atuais           6.737763      7.278271      1.816820   \n",
       "divida_atual/renda_mensal      1.278040      1.538675      0.295722   \n",
       "score_credito             -68116.782852 -78509.997686 -16397.646144   \n",
       "\n",
       "                                      3             4  \n",
       "id_cliente                  4964.000000  10100.000000  \n",
       "idade                         58.000000     35.000000  \n",
       "renda_anual                51786.826000  44626.853460  \n",
       "taxa_utilizacao_credito       31.493561     28.028887  \n",
       "num_emprestimos                0.000000      2.000000  \n",
       "num_contas_bancarias           3.000000      8.000000  \n",
       "num_cartoes_credito            7.000000      7.000000  \n",
       "dias_atraso_dt_venc           12.000000     24.000000  \n",
       "num_pgtos_atrasados            7.000000     10.000000  \n",
       "num_consultas_credito          2.000000      8.000000  \n",
       "taxa_juros                     1.000000     20.000000  \n",
       "investe_exterior               1.000000      1.000000  \n",
       "pessoa_polit_exp               0.000000      0.000000  \n",
       "limite_adicional               0.000000      0.000000  \n",
       "negativado                     1.000000      1.000000  \n",
       "divida/saldos_atuais           1.136718      1.583340  \n",
       "divida_atual/renda_mensal      0.162910      0.239665  \n",
       "score_credito              -2663.053498  -9203.913138  "
      ]
     },
     "execution_count": 14,
     "metadata": {},
     "output_type": "execute_result"
    }
   ],
   "source": [
    "df3.head().T"
   ]
  },
  {
   "cell_type": "markdown",
   "id": "a9a5c1e5",
   "metadata": {},
   "source": [
    "### Data Preparation"
   ]
  },
  {
   "cell_type": "code",
   "execution_count": 15,
   "id": "3d8596c4",
   "metadata": {
    "ExecuteTime": {
     "end_time": "2022-10-22T14:01:29.267328Z",
     "start_time": "2022-10-22T14:01:29.255367Z"
    }
   },
   "outputs": [],
   "source": [
    "df4 = df3.copy()"
   ]
  },
  {
   "cell_type": "code",
   "execution_count": 16,
   "id": "4abffa62",
   "metadata": {},
   "outputs": [],
   "source": [
    "variables_robust=['idade','taxa_juros','num_consultas_credito',\"num_pgtos_atrasados\",\"num_cartoes_credito\",\"num_contas_bancarias\"]\n",
    "num_cols = df4.select_dtypes('number').drop(['id_cliente','limite_adicional'], axis=1).columns\n",
    "\n",
    "#rs_idade=pp.RobustScaler(quantile_range=(0, 95.0))\n",
    "mms = pp.MinMaxScaler()\n",
    "\n",
    "df4[num_cols] = mms.fit_transform(df4[num_cols])\n"
   ]
  },
  {
   "cell_type": "code",
   "execution_count": 17,
   "id": "43490613",
   "metadata": {},
   "outputs": [],
   "source": [
    "def data_preparation(df, teste=True):\n",
    "    #df[variables_robust]=rs_idade.transform(df[variables_robust])\n",
    "    df[num_cols]=mms.transform(df[num_cols])\n",
    "    return df"
   ]
  },
  {
   "cell_type": "markdown",
   "id": "7cee35ca",
   "metadata": {},
   "source": [
    "### COLUMN SELECTION"
   ]
  },
  {
   "cell_type": "code",
   "execution_count": 18,
   "id": "3b180d9d",
   "metadata": {},
   "outputs": [],
   "source": [
    "df5=df4.copy()"
   ]
  },
  {
   "cell_type": "code",
   "execution_count": 19,
   "id": "4c977248",
   "metadata": {},
   "outputs": [
    {
     "name": "stdout",
     "output_type": "stream",
     "text": [
      "Iteration: \t1 / 100\n",
      "Confirmed: \t0\n",
      "Tentative: \t16\n",
      "Rejected: \t0\n",
      "Iteration: \t2 / 100\n",
      "Confirmed: \t0\n",
      "Tentative: \t16\n",
      "Rejected: \t0\n",
      "Iteration: \t3 / 100\n",
      "Confirmed: \t0\n",
      "Tentative: \t16\n",
      "Rejected: \t0\n",
      "Iteration: \t4 / 100\n",
      "Confirmed: \t0\n",
      "Tentative: \t16\n",
      "Rejected: \t0\n",
      "Iteration: \t5 / 100\n",
      "Confirmed: \t0\n",
      "Tentative: \t16\n",
      "Rejected: \t0\n",
      "Iteration: \t6 / 100\n",
      "Confirmed: \t0\n",
      "Tentative: \t16\n",
      "Rejected: \t0\n",
      "Iteration: \t7 / 100\n",
      "Confirmed: \t0\n",
      "Tentative: \t16\n",
      "Rejected: \t0\n",
      "Iteration: \t8 / 100\n",
      "Confirmed: \t6\n",
      "Tentative: \t4\n",
      "Rejected: \t6\n",
      "Iteration: \t9 / 100\n",
      "Confirmed: \t6\n",
      "Tentative: \t4\n",
      "Rejected: \t6\n",
      "Iteration: \t10 / 100\n",
      "Confirmed: \t6\n",
      "Tentative: \t4\n",
      "Rejected: \t6\n",
      "Iteration: \t11 / 100\n",
      "Confirmed: \t6\n",
      "Tentative: \t4\n",
      "Rejected: \t6\n",
      "Iteration: \t12 / 100\n",
      "Confirmed: \t6\n",
      "Tentative: \t4\n",
      "Rejected: \t6\n",
      "Iteration: \t13 / 100\n",
      "Confirmed: \t6\n",
      "Tentative: \t4\n",
      "Rejected: \t6\n",
      "Iteration: \t14 / 100\n",
      "Confirmed: \t6\n",
      "Tentative: \t4\n",
      "Rejected: \t6\n",
      "Iteration: \t15 / 100\n",
      "Confirmed: \t6\n",
      "Tentative: \t4\n",
      "Rejected: \t6\n",
      "Iteration: \t16 / 100\n",
      "Confirmed: \t6\n",
      "Tentative: \t4\n",
      "Rejected: \t6\n",
      "Iteration: \t17 / 100\n",
      "Confirmed: \t6\n",
      "Tentative: \t4\n",
      "Rejected: \t6\n",
      "Iteration: \t18 / 100\n",
      "Confirmed: \t6\n",
      "Tentative: \t4\n",
      "Rejected: \t6\n",
      "Iteration: \t19 / 100\n",
      "Confirmed: \t6\n",
      "Tentative: \t4\n",
      "Rejected: \t6\n",
      "Iteration: \t20 / 100\n",
      "Confirmed: \t6\n",
      "Tentative: \t4\n",
      "Rejected: \t6\n",
      "Iteration: \t21 / 100\n",
      "Confirmed: \t6\n",
      "Tentative: \t4\n",
      "Rejected: \t6\n",
      "Iteration: \t22 / 100\n",
      "Confirmed: \t6\n",
      "Tentative: \t3\n",
      "Rejected: \t7\n",
      "Iteration: \t23 / 100\n",
      "Confirmed: \t6\n",
      "Tentative: \t3\n",
      "Rejected: \t7\n",
      "Iteration: \t24 / 100\n",
      "Confirmed: \t6\n",
      "Tentative: \t3\n",
      "Rejected: \t7\n",
      "Iteration: \t25 / 100\n",
      "Confirmed: \t6\n",
      "Tentative: \t3\n",
      "Rejected: \t7\n",
      "Iteration: \t26 / 100\n",
      "Confirmed: \t6\n",
      "Tentative: \t3\n",
      "Rejected: \t7\n",
      "Iteration: \t27 / 100\n",
      "Confirmed: \t6\n",
      "Tentative: \t3\n",
      "Rejected: \t7\n",
      "Iteration: \t28 / 100\n",
      "Confirmed: \t6\n",
      "Tentative: \t3\n",
      "Rejected: \t7\n",
      "Iteration: \t29 / 100\n",
      "Confirmed: \t6\n",
      "Tentative: \t3\n",
      "Rejected: \t7\n",
      "Iteration: \t30 / 100\n",
      "Confirmed: \t6\n",
      "Tentative: \t3\n",
      "Rejected: \t7\n",
      "Iteration: \t31 / 100\n",
      "Confirmed: \t6\n",
      "Tentative: \t3\n",
      "Rejected: \t7\n",
      "Iteration: \t32 / 100\n",
      "Confirmed: \t6\n",
      "Tentative: \t3\n",
      "Rejected: \t7\n",
      "Iteration: \t33 / 100\n",
      "Confirmed: \t6\n",
      "Tentative: \t3\n",
      "Rejected: \t7\n",
      "Iteration: \t34 / 100\n",
      "Confirmed: \t7\n",
      "Tentative: \t2\n",
      "Rejected: \t7\n",
      "Iteration: \t35 / 100\n",
      "Confirmed: \t7\n",
      "Tentative: \t2\n",
      "Rejected: \t7\n",
      "Iteration: \t36 / 100\n",
      "Confirmed: \t7\n",
      "Tentative: \t2\n",
      "Rejected: \t7\n",
      "Iteration: \t37 / 100\n",
      "Confirmed: \t7\n",
      "Tentative: \t2\n",
      "Rejected: \t7\n",
      "Iteration: \t38 / 100\n",
      "Confirmed: \t7\n",
      "Tentative: \t2\n",
      "Rejected: \t7\n",
      "Iteration: \t39 / 100\n",
      "Confirmed: \t7\n",
      "Tentative: \t2\n",
      "Rejected: \t7\n",
      "Iteration: \t40 / 100\n",
      "Confirmed: \t7\n",
      "Tentative: \t2\n",
      "Rejected: \t7\n",
      "Iteration: \t41 / 100\n",
      "Confirmed: \t7\n",
      "Tentative: \t2\n",
      "Rejected: \t7\n",
      "Iteration: \t42 / 100\n",
      "Confirmed: \t7\n",
      "Tentative: \t2\n",
      "Rejected: \t7\n",
      "Iteration: \t43 / 100\n",
      "Confirmed: \t7\n",
      "Tentative: \t2\n",
      "Rejected: \t7\n",
      "Iteration: \t44 / 100\n",
      "Confirmed: \t7\n",
      "Tentative: \t2\n",
      "Rejected: \t7\n",
      "Iteration: \t45 / 100\n",
      "Confirmed: \t7\n",
      "Tentative: \t2\n",
      "Rejected: \t7\n",
      "Iteration: \t46 / 100\n",
      "Confirmed: \t8\n",
      "Tentative: \t1\n",
      "Rejected: \t7\n",
      "Iteration: \t47 / 100\n",
      "Confirmed: \t8\n",
      "Tentative: \t1\n",
      "Rejected: \t7\n",
      "Iteration: \t48 / 100\n",
      "Confirmed: \t8\n",
      "Tentative: \t1\n",
      "Rejected: \t7\n",
      "Iteration: \t49 / 100\n",
      "Confirmed: \t8\n",
      "Tentative: \t1\n",
      "Rejected: \t7\n",
      "Iteration: \t50 / 100\n",
      "Confirmed: \t8\n",
      "Tentative: \t1\n",
      "Rejected: \t7\n",
      "Iteration: \t51 / 100\n",
      "Confirmed: \t8\n",
      "Tentative: \t0\n",
      "Rejected: \t8\n",
      "\n",
      "\n",
      "BorutaPy finished running.\n",
      "\n",
      "Iteration: \t52 / 100\n",
      "Confirmed: \t8\n",
      "Tentative: \t0\n",
      "Rejected: \t8\n"
     ]
    },
    {
     "data": {
      "text/plain": [
       "['renda_anual',\n",
       " 'num_contas_bancarias',\n",
       " 'num_cartoes_credito',\n",
       " 'dias_atraso_dt_venc',\n",
       " 'num_pgtos_atrasados',\n",
       " 'num_consultas_credito',\n",
       " 'taxa_juros',\n",
       " 'divida/saldos_atuais']"
      ]
     },
     "execution_count": 19,
     "metadata": {},
     "output_type": "execute_result"
    }
   ],
   "source": [
    "\n",
    "\n",
    "y = df5['limite_adicional']\n",
    "X = df5.drop(['limite_adicional', 'id_cliente'], axis=1)\n",
    "\n",
    "X_train, X_test, y_train, y_test = train_test_split(X, y, train_size=0.5)\n",
    "\n",
    "# #training and test dataset for Boruta\n",
    "x_train_n = X_train.values\n",
    "y_train_n = y_train.values.ravel()\n",
    "\n",
    "#define model\n",
    "rf = RandomForestClassifier(n_jobs=-1, n_estimators=1000)\n",
    "\n",
    "#define boruta\n",
    "boruta= BorutaPy(rf, n_estimators='auto', verbose=2, random_state=41).fit(x_train_n, y_train_n)\n",
    "\n",
    "## Selected cols from boruta\n",
    "cols_selected = boruta.support_.tolist()\n",
    "\n",
    " #best features\n",
    "X_train_fs = X_train\n",
    "cols_selected_boruta = X_train_fs.iloc[:, cols_selected].columns.to_list()\n",
    "\n",
    "#not selected boruta\n",
    "cols_not_selected_boruta = list(np.setdiff1d(X_train_fs.columns , cols_selected_boruta))\n",
    "\n",
    "cols_selected_boruta"
   ]
  },
  {
   "cell_type": "markdown",
   "id": "62566d51",
   "metadata": {},
   "source": [
    "### Model Train"
   ]
  },
  {
   "cell_type": "code",
   "execution_count": 20,
   "id": "ac3e712b",
   "metadata": {
    "ExecuteTime": {
     "end_time": "2022-10-22T14:05:54.646757Z",
     "start_time": "2022-10-22T14:05:54.630763Z"
    }
   },
   "outputs": [],
   "source": [
    "X = df5[cols_selected_boruta]\n",
    "y = df5[alvo]"
   ]
  },
  {
   "cell_type": "code",
   "execution_count": 21,
   "id": "101877ca",
   "metadata": {},
   "outputs": [],
   "source": [
    "import hackday"
   ]
  },
  {
   "cell_type": "code",
   "execution_count": 22,
   "id": "e54fc5b3",
   "metadata": {
    "ExecuteTime": {
     "end_time": "2022-10-22T14:06:16.415563Z",
     "start_time": "2022-10-22T14:06:03.616681Z"
    }
   },
   "outputs": [
    {
     "name": "stderr",
     "output_type": "stream",
     "text": [
      "100%|██████████| 29/29 [00:08<00:00,  3.61it/s]\n"
     ]
    }
   ],
   "source": [
    "from lazypredict.Supervised import LazyClassifier\n",
    "from sklearn.model_selection import train_test_split\n",
    "\n",
    "\n",
    "X_train, X_test, y_train, y_test = train_test_split(X, y,test_size=.5,random_state =123, stratify=y)\n",
    "clf = LazyClassifier(verbose=0,ignore_warnings=True, custom_metric=None)\n",
    "models,predictions = clf.fit(X_train, X_test, y_train, y_test)\n"
   ]
  },
  {
   "cell_type": "code",
   "execution_count": 23,
   "id": "f3f5d0e1",
   "metadata": {},
   "outputs": [
    {
     "data": {
      "text/html": [
       "<div>\n",
       "<style scoped>\n",
       "    .dataframe tbody tr th:only-of-type {\n",
       "        vertical-align: middle;\n",
       "    }\n",
       "\n",
       "    .dataframe tbody tr th {\n",
       "        vertical-align: top;\n",
       "    }\n",
       "\n",
       "    .dataframe thead th {\n",
       "        text-align: right;\n",
       "    }\n",
       "</style>\n",
       "<table border=\"1\" class=\"dataframe\">\n",
       "  <thead>\n",
       "    <tr style=\"text-align: right;\">\n",
       "      <th></th>\n",
       "      <th>Accuracy</th>\n",
       "      <th>Balanced Accuracy</th>\n",
       "      <th>ROC AUC</th>\n",
       "      <th>F1 Score</th>\n",
       "      <th>Time Taken</th>\n",
       "    </tr>\n",
       "    <tr>\n",
       "      <th>Model</th>\n",
       "      <th></th>\n",
       "      <th></th>\n",
       "      <th></th>\n",
       "      <th></th>\n",
       "      <th></th>\n",
       "    </tr>\n",
       "  </thead>\n",
       "  <tbody>\n",
       "    <tr>\n",
       "      <th>RandomForestClassifier</th>\n",
       "      <td>0.88</td>\n",
       "      <td>0.71</td>\n",
       "      <td>0.71</td>\n",
       "      <td>0.87</td>\n",
       "      <td>0.65</td>\n",
       "    </tr>\n",
       "    <tr>\n",
       "      <th>LGBMClassifier</th>\n",
       "      <td>0.88</td>\n",
       "      <td>0.73</td>\n",
       "      <td>0.73</td>\n",
       "      <td>0.87</td>\n",
       "      <td>0.26</td>\n",
       "    </tr>\n",
       "    <tr>\n",
       "      <th>AdaBoostClassifier</th>\n",
       "      <td>0.88</td>\n",
       "      <td>0.72</td>\n",
       "      <td>0.72</td>\n",
       "      <td>0.87</td>\n",
       "      <td>0.46</td>\n",
       "    </tr>\n",
       "    <tr>\n",
       "      <th>ExtraTreesClassifier</th>\n",
       "      <td>0.88</td>\n",
       "      <td>0.70</td>\n",
       "      <td>0.70</td>\n",
       "      <td>0.87</td>\n",
       "      <td>0.57</td>\n",
       "    </tr>\n",
       "    <tr>\n",
       "      <th>XGBClassifier</th>\n",
       "      <td>0.87</td>\n",
       "      <td>0.72</td>\n",
       "      <td>0.72</td>\n",
       "      <td>0.86</td>\n",
       "      <td>0.53</td>\n",
       "    </tr>\n",
       "    <tr>\n",
       "      <th>BaggingClassifier</th>\n",
       "      <td>0.87</td>\n",
       "      <td>0.70</td>\n",
       "      <td>0.70</td>\n",
       "      <td>0.86</td>\n",
       "      <td>0.17</td>\n",
       "    </tr>\n",
       "    <tr>\n",
       "      <th>SGDClassifier</th>\n",
       "      <td>0.84</td>\n",
       "      <td>0.74</td>\n",
       "      <td>0.74</td>\n",
       "      <td>0.85</td>\n",
       "      <td>0.05</td>\n",
       "    </tr>\n",
       "    <tr>\n",
       "      <th>DecisionTreeClassifier</th>\n",
       "      <td>0.84</td>\n",
       "      <td>0.70</td>\n",
       "      <td>0.70</td>\n",
       "      <td>0.84</td>\n",
       "      <td>0.05</td>\n",
       "    </tr>\n",
       "    <tr>\n",
       "      <th>ExtraTreeClassifier</th>\n",
       "      <td>0.83</td>\n",
       "      <td>0.69</td>\n",
       "      <td>0.69</td>\n",
       "      <td>0.83</td>\n",
       "      <td>0.03</td>\n",
       "    </tr>\n",
       "    <tr>\n",
       "      <th>LogisticRegression</th>\n",
       "      <td>0.85</td>\n",
       "      <td>0.62</td>\n",
       "      <td>0.62</td>\n",
       "      <td>0.83</td>\n",
       "      <td>0.04</td>\n",
       "    </tr>\n",
       "    <tr>\n",
       "      <th>CalibratedClassifierCV</th>\n",
       "      <td>0.85</td>\n",
       "      <td>0.62</td>\n",
       "      <td>0.62</td>\n",
       "      <td>0.83</td>\n",
       "      <td>0.80</td>\n",
       "    </tr>\n",
       "    <tr>\n",
       "      <th>KNeighborsClassifier</th>\n",
       "      <td>0.84</td>\n",
       "      <td>0.64</td>\n",
       "      <td>0.64</td>\n",
       "      <td>0.83</td>\n",
       "      <td>0.65</td>\n",
       "    </tr>\n",
       "    <tr>\n",
       "      <th>Perceptron</th>\n",
       "      <td>0.85</td>\n",
       "      <td>0.61</td>\n",
       "      <td>0.61</td>\n",
       "      <td>0.82</td>\n",
       "      <td>0.03</td>\n",
       "    </tr>\n",
       "    <tr>\n",
       "      <th>LinearSVC</th>\n",
       "      <td>0.85</td>\n",
       "      <td>0.60</td>\n",
       "      <td>0.60</td>\n",
       "      <td>0.82</td>\n",
       "      <td>0.23</td>\n",
       "    </tr>\n",
       "    <tr>\n",
       "      <th>QuadraticDiscriminantAnalysis</th>\n",
       "      <td>0.79</td>\n",
       "      <td>0.80</td>\n",
       "      <td>0.80</td>\n",
       "      <td>0.81</td>\n",
       "      <td>0.03</td>\n",
       "    </tr>\n",
       "    <tr>\n",
       "      <th>GaussianNB</th>\n",
       "      <td>0.77</td>\n",
       "      <td>0.81</td>\n",
       "      <td>0.81</td>\n",
       "      <td>0.80</td>\n",
       "      <td>0.02</td>\n",
       "    </tr>\n",
       "    <tr>\n",
       "      <th>BernoulliNB</th>\n",
       "      <td>0.75</td>\n",
       "      <td>0.82</td>\n",
       "      <td>0.82</td>\n",
       "      <td>0.78</td>\n",
       "      <td>0.03</td>\n",
       "    </tr>\n",
       "    <tr>\n",
       "      <th>LinearDiscriminantAnalysis</th>\n",
       "      <td>0.84</td>\n",
       "      <td>0.51</td>\n",
       "      <td>0.51</td>\n",
       "      <td>0.78</td>\n",
       "      <td>0.03</td>\n",
       "    </tr>\n",
       "    <tr>\n",
       "      <th>SVC</th>\n",
       "      <td>0.84</td>\n",
       "      <td>0.50</td>\n",
       "      <td>0.50</td>\n",
       "      <td>0.77</td>\n",
       "      <td>1.81</td>\n",
       "    </tr>\n",
       "    <tr>\n",
       "      <th>PassiveAggressiveClassifier</th>\n",
       "      <td>0.84</td>\n",
       "      <td>0.50</td>\n",
       "      <td>0.50</td>\n",
       "      <td>0.77</td>\n",
       "      <td>0.03</td>\n",
       "    </tr>\n",
       "    <tr>\n",
       "      <th>DummyClassifier</th>\n",
       "      <td>0.84</td>\n",
       "      <td>0.50</td>\n",
       "      <td>0.50</td>\n",
       "      <td>0.77</td>\n",
       "      <td>0.03</td>\n",
       "    </tr>\n",
       "    <tr>\n",
       "      <th>RidgeClassifier</th>\n",
       "      <td>0.84</td>\n",
       "      <td>0.50</td>\n",
       "      <td>0.50</td>\n",
       "      <td>0.77</td>\n",
       "      <td>0.03</td>\n",
       "    </tr>\n",
       "    <tr>\n",
       "      <th>RidgeClassifierCV</th>\n",
       "      <td>0.84</td>\n",
       "      <td>0.50</td>\n",
       "      <td>0.50</td>\n",
       "      <td>0.77</td>\n",
       "      <td>0.03</td>\n",
       "    </tr>\n",
       "    <tr>\n",
       "      <th>NearestCentroid</th>\n",
       "      <td>0.69</td>\n",
       "      <td>0.80</td>\n",
       "      <td>0.80</td>\n",
       "      <td>0.73</td>\n",
       "      <td>0.02</td>\n",
       "    </tr>\n",
       "  </tbody>\n",
       "</table>\n",
       "</div>"
      ],
      "text/plain": [
       "                               Accuracy  Balanced Accuracy  ROC AUC  F1 Score  \\\n",
       "Model                                                                           \n",
       "RandomForestClassifier             0.88               0.71     0.71      0.87   \n",
       "LGBMClassifier                     0.88               0.73     0.73      0.87   \n",
       "AdaBoostClassifier                 0.88               0.72     0.72      0.87   \n",
       "ExtraTreesClassifier               0.88               0.70     0.70      0.87   \n",
       "XGBClassifier                      0.87               0.72     0.72      0.86   \n",
       "BaggingClassifier                  0.87               0.70     0.70      0.86   \n",
       "SGDClassifier                      0.84               0.74     0.74      0.85   \n",
       "DecisionTreeClassifier             0.84               0.70     0.70      0.84   \n",
       "ExtraTreeClassifier                0.83               0.69     0.69      0.83   \n",
       "LogisticRegression                 0.85               0.62     0.62      0.83   \n",
       "CalibratedClassifierCV             0.85               0.62     0.62      0.83   \n",
       "KNeighborsClassifier               0.84               0.64     0.64      0.83   \n",
       "Perceptron                         0.85               0.61     0.61      0.82   \n",
       "LinearSVC                          0.85               0.60     0.60      0.82   \n",
       "QuadraticDiscriminantAnalysis      0.79               0.80     0.80      0.81   \n",
       "GaussianNB                         0.77               0.81     0.81      0.80   \n",
       "BernoulliNB                        0.75               0.82     0.82      0.78   \n",
       "LinearDiscriminantAnalysis         0.84               0.51     0.51      0.78   \n",
       "SVC                                0.84               0.50     0.50      0.77   \n",
       "PassiveAggressiveClassifier        0.84               0.50     0.50      0.77   \n",
       "DummyClassifier                    0.84               0.50     0.50      0.77   \n",
       "RidgeClassifier                    0.84               0.50     0.50      0.77   \n",
       "RidgeClassifierCV                  0.84               0.50     0.50      0.77   \n",
       "NearestCentroid                    0.69               0.80     0.80      0.73   \n",
       "\n",
       "                               Time Taken  \n",
       "Model                                      \n",
       "RandomForestClassifier               0.65  \n",
       "LGBMClassifier                       0.26  \n",
       "AdaBoostClassifier                   0.46  \n",
       "ExtraTreesClassifier                 0.57  \n",
       "XGBClassifier                        0.53  \n",
       "BaggingClassifier                    0.17  \n",
       "SGDClassifier                        0.05  \n",
       "DecisionTreeClassifier               0.05  \n",
       "ExtraTreeClassifier                  0.03  \n",
       "LogisticRegression                   0.04  \n",
       "CalibratedClassifierCV               0.80  \n",
       "KNeighborsClassifier                 0.65  \n",
       "Perceptron                           0.03  \n",
       "LinearSVC                            0.23  \n",
       "QuadraticDiscriminantAnalysis        0.03  \n",
       "GaussianNB                           0.02  \n",
       "BernoulliNB                          0.03  \n",
       "LinearDiscriminantAnalysis           0.03  \n",
       "SVC                                  1.81  \n",
       "PassiveAggressiveClassifier          0.03  \n",
       "DummyClassifier                      0.03  \n",
       "RidgeClassifier                      0.03  \n",
       "RidgeClassifierCV                    0.03  \n",
       "NearestCentroid                      0.02  "
      ]
     },
     "execution_count": 23,
     "metadata": {},
     "output_type": "execute_result"
    }
   ],
   "source": [
    "models=models.sort_values('F1 Score', ascending=False)\n",
    "models"
   ]
  },
  {
   "cell_type": "code",
   "execution_count": 24,
   "id": "eb13b243",
   "metadata": {},
   "outputs": [
    {
     "data": {
      "text/plain": [
       "'RandomForestClassifier'"
      ]
     },
     "execution_count": 24,
     "metadata": {},
     "output_type": "execute_result"
    }
   ],
   "source": [
    "best_model=models.head(1).index[0]\n",
    "best_model"
   ]
  },
  {
   "cell_type": "code",
   "execution_count": 25,
   "id": "591398e6",
   "metadata": {
    "ExecuteTime": {
     "end_time": "2022-10-22T14:11:16.714575Z",
     "start_time": "2022-10-22T14:11:16.702533Z"
    }
   },
   "outputs": [
    {
     "data": {
      "text/plain": [
       "0.8797894736842106"
      ]
     },
     "execution_count": 25,
     "metadata": {},
     "output_type": "execute_result"
    }
   ],
   "source": [
    "pipe = clf.models[best_model]\n",
    "pred = pipe.predict(X_test)\n",
    "\n",
    "f1_score(y_test, pred, average='micro')"
   ]
  },
  {
   "cell_type": "code",
   "execution_count": 26,
   "id": "efed57e9",
   "metadata": {},
   "outputs": [
    {
     "name": "stdout",
     "output_type": "stream",
     "text": [
      "1/5\n",
      "2/5\n",
      "3/5\n",
      "4/5\n",
      "5/5\n",
      "LGBM\n",
      "F1 : 0.87 +/- 0.01\n",
      " Precision : 0.64 +/- 0.05\n",
      "Recall : 0.45 +/- 0.03\n",
      "\n"
     ]
    }
   ],
   "source": [
    "hackday.cv(model_name='LGBM',model=pipe, x_train=X_train, y_train=y_train)"
   ]
  },
  {
   "cell_type": "code",
   "execution_count": 29,
   "id": "5430be3a",
   "metadata": {
    "ExecuteTime": {
     "end_time": "2022-10-22T14:33:46.212615Z",
     "start_time": "2022-10-22T14:33:46.185585Z"
    }
   },
   "outputs": [
    {
     "name": "stdout",
     "output_type": "stream",
     "text": [
      "micro 0.8797894736842106\n",
      "macro 0.7423906583809967\n",
      "Not possible samples\n",
      "weighted 0.8708777603826184\n",
      "binary 0.5542544886807182\n"
     ]
    }
   ],
   "source": [
    "types_f1 = ['micro', 'macro', 'samples', 'weighted', 'binary']\n",
    "for t in types_f1:\n",
    "    try:\n",
    "        print(t,f1_score(y_test, pred, average=t))\n",
    "    except ValueError:\n",
    "        print(f'Not possible {t}')"
   ]
  },
  {
   "cell_type": "markdown",
   "id": "d89ca43a",
   "metadata": {},
   "source": [
    "### Teste"
   ]
  },
  {
   "cell_type": "code",
   "execution_count": 30,
   "id": "d067a430",
   "metadata": {
    "ExecuteTime": {
     "end_time": "2022-10-22T14:21:05.737564Z",
     "start_time": "2022-10-22T14:21:05.715567Z"
    }
   },
   "outputs": [],
   "source": [
    "X_submission=df_test.copy()\n",
    "X_submission = df_test.drop('id_cliente', axis =1)\n",
    "\n",
    "#renda anual - baseado no percentil\n",
    "X_submission.loc[X_submission['idade']>100, 'idade'] = X_submission['idade'].median()\n",
    "limit = np.percentile(X_submission['renda_anual'], 0.95)\n",
    "X_submission.loc[X_submission['idade']>100, 'idade'] \n",
    "X_submission.loc[X_submission['taxa_juros']>100, 'taxa_juros'] = X_submission['taxa_juros'].median()\n",
    "\n",
    "#Feature engineering\n",
    "X_submission['negativado'] = np.where(X_submission['divida_atual']<X_submission['saldo_atual'], 0, 1)\n",
    "X_submission['divida/saldos_atuais']=X_submission['divida_atual']/(X_submission['saldo_atual']+X_submission['valor_em_investimentos'])\n",
    "X_submission['divida_atual/renda_mensal']=X_submission['divida_atual']/(X_submission['renda_anual']/12)\n",
    "X_submission['saldo_liquido']=X_submission['saldo_atual']+X_submission['valor_em_investimentos']-X_submission['divida_atual']\n",
    "X_submission['score_credito']=X_submission['saldo_liquido']*X_submission['taxa_utilizacao_credito']\n",
    "X_submission=X_submission.drop(['divida_atual','saldo_atual',\"valor_em_investimentos\",\"saldo_liquido\"], axis=1)\n",
    "\n",
    "X_submission= data_preparation(X_submission) \n",
    "X_submission[num_cols] = mms.fit_transform(X_submission[num_cols])\n",
    "X_submission=X_submission[cols_selected_boruta]\n",
    "\n",
    "ids = df_test['id_cliente']"
   ]
  },
  {
   "cell_type": "code",
   "execution_count": 31,
   "id": "22e2ba79",
   "metadata": {
    "ExecuteTime": {
     "end_time": "2022-10-22T14:21:17.084792Z",
     "start_time": "2022-10-22T14:21:17.009446Z"
    }
   },
   "outputs": [],
   "source": [
    "pred = pipe.predict(X_submission)"
   ]
  },
  {
   "cell_type": "code",
   "execution_count": 32,
   "id": "4e06b4b0",
   "metadata": {
    "ExecuteTime": {
     "end_time": "2022-10-22T14:21:27.034249Z",
     "start_time": "2022-10-22T14:21:27.023250Z"
    }
   },
   "outputs": [],
   "source": [
    "submission = pd.DataFrame()"
   ]
  },
  {
   "cell_type": "code",
   "execution_count": 33,
   "id": "845966e8",
   "metadata": {
    "ExecuteTime": {
     "end_time": "2022-10-22T14:21:48.106434Z",
     "start_time": "2022-10-22T14:21:48.087466Z"
    }
   },
   "outputs": [],
   "source": [
    "submission['id_cliente'] = ids\n",
    "submission['limite_adicional'] = pred"
   ]
  },
  {
   "cell_type": "code",
   "execution_count": 34,
   "id": "f22e64e0",
   "metadata": {
    "ExecuteTime": {
     "end_time": "2022-10-22T14:22:57.170847Z",
     "start_time": "2022-10-22T14:22:57.157847Z"
    }
   },
   "outputs": [],
   "source": [
    "map_resposta = {0: 'Negar', 1: 'Conceder'}"
   ]
  },
  {
   "cell_type": "code",
   "execution_count": 35,
   "id": "8ebdffad",
   "metadata": {
    "ExecuteTime": {
     "end_time": "2022-10-22T14:23:14.863965Z",
     "start_time": "2022-10-22T14:23:14.855962Z"
    }
   },
   "outputs": [],
   "source": [
    "submission['limite_adicional'] = submission['limite_adicional'].map(map_resposta)"
   ]
  },
  {
   "cell_type": "code",
   "execution_count": 36,
   "id": "d8eb9260",
   "metadata": {
    "ExecuteTime": {
     "end_time": "2022-10-22T14:23:43.235414Z",
     "start_time": "2022-10-22T14:23:43.209455Z"
    }
   },
   "outputs": [],
   "source": [
    "submission.to_csv('../data/submissao.csv', index=False)"
   ]
  },
  {
   "cell_type": "code",
   "execution_count": 37,
   "id": "00145459",
   "metadata": {
    "ExecuteTime": {
     "end_time": "2022-10-22T14:24:15.975469Z",
     "start_time": "2022-10-22T14:24:15.936126Z"
    }
   },
   "outputs": [
    {
     "data": {
      "text/html": [
       "<div>\n",
       "<style scoped>\n",
       "    .dataframe tbody tr th:only-of-type {\n",
       "        vertical-align: middle;\n",
       "    }\n",
       "\n",
       "    .dataframe tbody tr th {\n",
       "        vertical-align: top;\n",
       "    }\n",
       "\n",
       "    .dataframe thead th {\n",
       "        text-align: right;\n",
       "    }\n",
       "</style>\n",
       "<table border=\"1\" class=\"dataframe\">\n",
       "  <thead>\n",
       "    <tr style=\"text-align: right;\">\n",
       "      <th></th>\n",
       "      <th>id_cliente</th>\n",
       "      <th>limite_adicional</th>\n",
       "    </tr>\n",
       "  </thead>\n",
       "  <tbody>\n",
       "    <tr>\n",
       "      <th>0</th>\n",
       "      <td>2</td>\n",
       "      <td>Conceder</td>\n",
       "    </tr>\n",
       "    <tr>\n",
       "      <th>1</th>\n",
       "      <td>5</td>\n",
       "      <td>Negar</td>\n",
       "    </tr>\n",
       "    <tr>\n",
       "      <th>2</th>\n",
       "      <td>6</td>\n",
       "      <td>Negar</td>\n",
       "    </tr>\n",
       "    <tr>\n",
       "      <th>3</th>\n",
       "      <td>8</td>\n",
       "      <td>Negar</td>\n",
       "    </tr>\n",
       "    <tr>\n",
       "      <th>4</th>\n",
       "      <td>10</td>\n",
       "      <td>Negar</td>\n",
       "    </tr>\n",
       "    <tr>\n",
       "      <th>...</th>\n",
       "      <td>...</td>\n",
       "      <td>...</td>\n",
       "    </tr>\n",
       "    <tr>\n",
       "      <th>2995</th>\n",
       "      <td>12484</td>\n",
       "      <td>Negar</td>\n",
       "    </tr>\n",
       "    <tr>\n",
       "      <th>2996</th>\n",
       "      <td>12487</td>\n",
       "      <td>Negar</td>\n",
       "    </tr>\n",
       "    <tr>\n",
       "      <th>2997</th>\n",
       "      <td>12489</td>\n",
       "      <td>Negar</td>\n",
       "    </tr>\n",
       "    <tr>\n",
       "      <th>2998</th>\n",
       "      <td>12495</td>\n",
       "      <td>Conceder</td>\n",
       "    </tr>\n",
       "    <tr>\n",
       "      <th>2999</th>\n",
       "      <td>12498</td>\n",
       "      <td>Negar</td>\n",
       "    </tr>\n",
       "  </tbody>\n",
       "</table>\n",
       "<p>3000 rows × 2 columns</p>\n",
       "</div>"
      ],
      "text/plain": [
       "      id_cliente limite_adicional\n",
       "0              2         Conceder\n",
       "1              5            Negar\n",
       "2              6            Negar\n",
       "3              8            Negar\n",
       "4             10            Negar\n",
       "...          ...              ...\n",
       "2995       12484            Negar\n",
       "2996       12487            Negar\n",
       "2997       12489            Negar\n",
       "2998       12495         Conceder\n",
       "2999       12498            Negar\n",
       "\n",
       "[3000 rows x 2 columns]"
      ]
     },
     "execution_count": 37,
     "metadata": {},
     "output_type": "execute_result"
    }
   ],
   "source": [
    "pd.read_csv('../data/submissao.csv')"
   ]
  },
  {
   "cell_type": "code",
   "execution_count": null,
   "id": "4d14be93",
   "metadata": {},
   "outputs": [],
   "source": []
  }
 ],
 "metadata": {
  "kernelspec": {
   "display_name": "Python 3",
   "language": "python",
   "name": "python3"
  },
  "language_info": {
   "codemirror_mode": {
    "name": "ipython",
    "version": 3
   },
   "file_extension": ".py",
   "mimetype": "text/x-python",
   "name": "python",
   "nbconvert_exporter": "python",
   "pygments_lexer": "ipython3",
   "version": "3.10.4"
  },
  "varInspector": {
   "cols": {
    "lenName": 16,
    "lenType": 16,
    "lenVar": 40
   },
   "kernels_config": {
    "python": {
     "delete_cmd_postfix": "",
     "delete_cmd_prefix": "del ",
     "library": "var_list.py",
     "varRefreshCmd": "print(var_dic_list())"
    },
    "r": {
     "delete_cmd_postfix": ") ",
     "delete_cmd_prefix": "rm(",
     "library": "var_list.r",
     "varRefreshCmd": "cat(var_dic_list()) "
    }
   },
   "types_to_exclude": [
    "module",
    "function",
    "builtin_function_or_method",
    "instance",
    "_Feature"
   ],
   "window_display": false
  },
  "vscode": {
   "interpreter": {
    "hash": "25221b6b9a4d399886f2cc4863e60b0fd11067ce172b33ecf50faf510e9d19c2"
   }
  }
 },
 "nbformat": 4,
 "nbformat_minor": 5
}
