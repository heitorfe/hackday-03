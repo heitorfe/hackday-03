{
 "cells": [
  {
   "cell_type": "markdown",
   "id": "764ae29e",
   "metadata": {},
   "source": [
    "### Imports"
   ]
  },
  {
   "cell_type": "markdown",
   "id": "0273a2ba",
   "metadata": {},
   "source": [
    "### Load Data "
   ]
  },
  {
   "cell_type": "code",
   "execution_count": 10,
   "id": "c727bb1a",
   "metadata": {
    "ExecuteTime": {
     "end_time": "2022-10-23T12:36:48.149149Z",
     "start_time": "2022-10-23T12:36:48.059150Z"
    }
   },
   "outputs": [],
   "source": [
    "import pandas as pd\n",
    "from lightgbm import LGBMClassifier\n",
    "from xgboost import XGBClassifier\n",
    "from sklearn.linear_model import LogisticRegression\n",
    "from sklearn.ensemble import RandomForestClassifier, ExtraTreesClassifier, IsolationForest,\\\n",
    "VotingClassifier, GradientBoostingClassifier, AdaBoostClassifier\n",
    "from catboost import CatBoostClassifier\n",
    "from sklearn.svm import SVR\n",
    "from sklearn.model_selection import train_test_split\n",
    "from sklearn.metrics import f1_score\n",
    "from matplotlib import pyplot as plt\n",
    "\n",
    "import hackday\n",
    "import fine_tuning\n",
    "alvo = 'limite_adicional'\n",
    "cols_selected  = ['taxa_juros',\n",
    " 'dias_atraso_dt_venc',\n",
    " 'num_pgtos_atrasados',\n",
    " 'num_cartoes_credito',\n",
    " 'divida/saldos_atuais',\n",
    " 'num_contas_bancarias',\n",
    " 'idade',\n",
    " 'divida_atual/renda_mensal',\n",
    " 'num_consultas_credito',\n",
    " 'taxa_utilizacao_credito',\n",
    " 'score_credito',\n",
    " 'renda_anual',\n",
    " 'num_emprestimos']\n",
    "\n",
    "# load data\n",
    "df_raw, df_test = hackday.load_data()\n",
    "\n",
    "# outlier treatment\n",
    "df = hackday.outlier_treatment(df_raw)\n",
    "\n",
    "df = hackday.feature_engineering(df)\n",
    "\n",
    "df = hackday.data_preparation_train(df)\n",
    "\n",
    "X = df[cols_selected]\n",
    "# .drop(['id_cliente', 'limite_adicional'], axis=1)\n",
    "y = df['limite_adicional']\n",
    "\n",
    "X_train, X_test, y_train, y_test = train_test_split(X, y, train_size=0.8)"
   ]
  },
  {
   "cell_type": "code",
   "execution_count": 13,
   "id": "aa34ffa4",
   "metadata": {
    "ExecuteTime": {
     "end_time": "2022-10-23T10:26:24.376911Z",
     "start_time": "2022-10-23T10:26:24.062966Z"
    }
   },
   "outputs": [],
   "source": [
    "# X_train, y_train = hackday.balance_features(X_train, y_train)"
   ]
  },
  {
   "cell_type": "code",
   "execution_count": 2,
   "id": "454d01b4",
   "metadata": {
    "ExecuteTime": {
     "end_time": "2022-10-23T12:04:54.954842Z",
     "start_time": "2022-10-23T12:04:54.936843Z"
    }
   },
   "outputs": [],
   "source": [
    "n_estimators = np.arange(100, 200, 20)\n",
    "learning_rate = np.arange(0.010, 0.025, 0.001)\n",
    "num_leaves = [28, 29, 30, 31]\n"
   ]
  },
  {
   "cell_type": "markdown",
   "id": "aec243e2",
   "metadata": {},
   "source": [
    "#### FINE TUNNING - LGBM"
   ]
  },
  {
   "cell_type": "code",
   "execution_count": 11,
   "id": "70084813",
   "metadata": {
    "ExecuteTime": {
     "end_time": "2022-10-23T12:39:44.640137Z",
     "start_time": "2022-10-23T12:36:53.169314Z"
    }
   },
   "outputs": [
    {
     "name": "stdout",
     "output_type": "stream",
     "text": [
      "Best threshold: 0.6400000000000001\n",
      "F1 : 0.8681578947368422 +/- 0.007633847212821187\n",
      "Precision : 0.6396047018555409 +/- 0.040653688399787634\n",
      "Recall : 0.41096269311205563 +/- 0.03359764258959601\n",
      "\n",
      "1\n",
      "Best threshold: 0.56\n",
      "F1 : 0.8671052631578947 +/- 0.007361368805631239\n",
      "Precision : 0.6160481274241993 +/- 0.04152455575559701\n",
      "Recall : 0.4643020980908048 +/- 0.015246018793401627\n",
      "\n",
      "2\n",
      "Best threshold: 0.51\n",
      "F1 : 0.868421052631579 +/- 0.00584008974241373\n",
      "Precision : 0.6150998342604792 +/- 0.02699908288817702\n",
      "Recall : 0.48317816906159344 +/- 0.029625437873288817\n",
      "\n",
      "3\n",
      "Best threshold: 0.6500000000000001\n",
      "F1 : 0.869342105263158 +/- 0.006507506852041189\n",
      "Precision : 0.6447994951164 +/- 0.04318854142517001\n",
      "Recall : 0.4191830263779262 +/- 0.01935732239610865\n",
      "\n",
      "4\n",
      "Best threshold: 0.51\n",
      "F1 : 0.8661842105263158 +/- 0.008441586806497597\n",
      "Precision : 0.606459750306272 +/- 0.03845884136226937\n",
      "Recall : 0.4790663158604871 +/- 0.011955031925806473\n",
      "\n",
      "5\n",
      "Best threshold: 0.6700000000000002\n",
      "F1 : 0.871842105263158 +/- 0.0068294417222952595\n",
      "Precision : 0.673888881952072 +/- 0.04346369382108081\n",
      "Recall : 0.3929400256358362 +/- 0.012635601250447834\n",
      "\n",
      "6\n",
      "Best threshold: 0.7200000000000002\n",
      "F1 : 0.8694736842105263 +/- 0.006494190883817361\n",
      "Precision : 0.643134093792097 +/- 0.04088502473639067\n",
      "Recall : 0.4249308507049855 +/- 0.021777447334721114\n",
      "\n",
      "7\n",
      "Best threshold: 0.5800000000000001\n",
      "F1 : 0.8692105263157895 +/- 0.006411014586884093\n",
      "Precision : 0.6314597498841443 +/- 0.032208640600547706\n",
      "Recall : 0.4462591917965324 +/- 0.019613079724403532\n",
      "\n",
      "8\n",
      "Best threshold: 0.5700000000000001\n",
      "F1 : 0.8693421052631578 +/- 0.007356663551839131\n",
      "Precision : 0.6358657467673349 +/- 0.042332606098398756\n",
      "Recall : 0.44051811374215744 +/- 0.015473718019367763\n",
      "\n",
      "9\n",
      "Best threshold: 0.5800000000000001\n",
      "F1 : 0.8696052631578948 +/- 0.0067272752795601125\n",
      "Precision : 0.6318095909075967 +/- 0.03488195804930437\n",
      "Recall : 0.45281319570937056 +/- 0.026603551036164713\n",
      "\n",
      "10\n",
      "Best threshold: 0.7000000000000002\n",
      "F1 : 0.8677631578947368 +/- 0.006565776289407691\n",
      "Precision : 0.6740852759906477 +/- 0.04914543263827113\n",
      "Recall : 0.3445220265803144 +/- 0.0325629706718922\n",
      "\n",
      "11\n",
      "Best threshold: 0.5700000000000001\n",
      "F1 : 0.8685526315789474 +/- 0.006879956032842807\n",
      "Precision : 0.6220076647934335 +/- 0.04118365196061583\n",
      "Recall : 0.46922687715037437 +/- 0.014462133150520477\n",
      "\n",
      "12\n",
      "Best threshold: 0.7000000000000002\n",
      "F1 : 0.8699999999999999 +/- 0.005418752705782634\n",
      "Precision : 0.6732379192924467 +/- 0.038747617067948006\n",
      "Recall : 0.3732274168521892 +/- 0.03110528967536411\n",
      "\n",
      "13\n",
      "Best threshold: 0.51\n",
      "F1 : 0.8667105263157895 +/- 0.005240080987299976\n",
      "Precision : 0.6099264103032713 +/- 0.0266514381189928\n",
      "Recall : 0.47250893881130673 +/- 0.014199521828718151\n",
      "\n",
      "14\n",
      "Best threshold: 0.5\n",
      "F1 : 0.8682894736842105 +/- 0.006411014586884115\n",
      "Precision : 0.6140993779646913 +/- 0.030014748461254254\n",
      "Recall : 0.4856473048640626 +/- 0.01699505798502147\n",
      "\n",
      "15\n",
      "Best threshold: 0.56\n",
      "F1 : 0.8701315789473684 +/- 0.005668594533825766\n",
      "Precision : 0.6291735437886949 +/- 0.028894342463447496\n",
      "Recall : 0.46675774134790526 +/- 0.026036848096509947\n",
      "\n",
      "16\n",
      "Best threshold: 0.7900000000000003\n",
      "F1 : 0.8714473684210524 +/- 0.004531361936242768\n",
      "Precision : 0.6914364375953364 +/- 0.03880315158145256\n",
      "Recall : 0.36259529110166633 +/- 0.017746121268211196\n",
      "\n",
      "17\n",
      "Best threshold: 0.51\n",
      "F1 : 0.8673684210526316 +/- 0.007473406221664713\n",
      "Precision : 0.612366755819787 +/- 0.03547719659056284\n",
      "Recall : 0.47661067260338663 +/- 0.028629732710494654\n",
      "\n",
      "18\n",
      "Best threshold: 0.5\n",
      "F1 : 0.866842105263158 +/- 0.004700150289339943\n",
      "Precision : 0.6085695546569745 +/- 0.021749406055292398\n",
      "Recall : 0.47909667408756657 +/- 0.02650857394433036\n",
      "\n",
      "19\n",
      "Best threshold: 0.51\n",
      "F1 : 0.8656578947368422 +/- 0.007710571223149283\n",
      "Precision : 0.6044583110329876 +/- 0.03517392034971687\n",
      "Recall : 0.4766140457397288 +/- 0.01728243974954914\n",
      "\n",
      "20\n",
      "Best threshold: 0.53\n",
      "F1 : 0.8684210526315791 +/- 0.006999703199089627\n",
      "Precision : 0.617749438265201 +/- 0.028420599989227854\n",
      "Recall : 0.4716791472711327 +/- 0.032621418973695165\n",
      "\n",
      "21\n",
      "Best threshold: 0.54\n",
      "F1 : 0.8672368421052632 +/- 0.007318912623775436\n",
      "Precision : 0.6169247129936812 +/- 0.03667447523349012\n",
      "Recall : 0.4593941847129461 +/- 0.011902185073234213\n",
      "\n",
      "22\n",
      "Best threshold: 0.51\n",
      "F1 : 0.868421052631579 +/- 0.004403473823863576\n",
      "Precision : 0.6176364600289564 +/- 0.02304317137900398\n",
      "Recall : 0.4749679552047493 +/- 0.02455373437703857\n",
      "\n",
      "23\n",
      "Best threshold: 0.8600000000000003\n",
      "F1 : 0.8686842105263158 +/- 0.007735230766683681\n",
      "Precision : 0.6829189821814406 +/- 0.05170732626443988\n",
      "Recall : 0.3420461445051609 +/- 0.030256599780702144\n",
      "\n",
      "24\n",
      "Best threshold: 0.8100000000000003\n",
      "F1 : 0.8690789473684211 +/- 0.0036511676119767487\n",
      "Precision : 0.6682753987364629 +/- 0.03593237945261148\n",
      "Recall : 0.36995547460028333 +/- 0.025830024949582316\n",
      "\n",
      "25\n",
      "Best threshold: 0.5\n",
      "F1 : 0.8659210526315789 +/- 0.006078320769711051\n",
      "Precision : 0.6049058969879891 +/- 0.03151060672503204\n",
      "Recall : 0.4807191526681508 +/- 0.0252531275466993\n",
      "\n",
      "26\n",
      "Best threshold: 0.6100000000000001\n",
      "F1 : 0.8703947368421053 +/- 0.007170750838651947\n",
      "Precision : 0.6476560981763473 +/- 0.03954723360466578\n",
      "Recall : 0.42491061188693247 +/- 0.035283909715303985\n",
      "\n",
      "27\n",
      "Best threshold: 0.54\n",
      "F1 : 0.8676315789473683 +/- 0.008252843042403547\n",
      "Precision : 0.6175268864305858 +/- 0.041637458101789766\n",
      "Recall : 0.4684173244282534 +/- 0.016876929393911142\n",
      "\n",
      "28\n",
      "Best threshold: 0.52\n",
      "F1 : 0.8647368421052631 +/- 0.005273017081451081\n",
      "Precision : 0.6019642426888552 +/- 0.024417467909238044\n",
      "Recall : 0.4651453821763476 +/- 0.013451692182567225\n",
      "\n",
      "29\n",
      "Best threshold: 0.54\n",
      "F1 : 0.8686842105263157 +/- 0.003960504458761158\n",
      "Precision : 0.6188627240372272 +/- 0.02334698096976085\n",
      "Recall : 0.47661067260338663 +/- 0.020077522393831305\n",
      "\n",
      "30\n",
      "Best threshold: 0.6700000000000002\n",
      "F1 : 0.8676315789473683 +/- 0.008460024950357156\n",
      "Precision : 0.6396087770658399 +/- 0.048988351143414155\n",
      "Recall : 0.4060412871888282 +/- 0.029973733949839595\n",
      "\n",
      "31\n",
      "Best threshold: 0.51\n",
      "F1 : 0.866578947368421 +/- 0.00538349277512601\n",
      "Precision : 0.6076929590017824 +/- 0.024654181618288758\n",
      "Recall : 0.4782668825473926 +/- 0.030046787516189284\n",
      "\n",
      "32\n",
      "Best threshold: 0.54\n",
      "F1 : 0.8678947368421053 +/- 0.0073425296991072265\n",
      "Precision : 0.6214998585592814 +/- 0.03184159715632229\n",
      "Recall : 0.45198340416919647 +/- 0.03684227932379479\n",
      "\n",
      "33\n",
      "Best threshold: 0.8600000000000003\n",
      "F1 : 0.8678947368421053 +/- 0.007102826092771441\n",
      "Precision : 0.6674738465583159 +/- 0.0533781281784108\n",
      "Recall : 0.3584631990825069 +/- 0.025252209739330168\n",
      "\n",
      "34\n",
      "Best threshold: 0.6200000000000001\n",
      "F1 : 0.8651315789473685 +/- 0.004538996923857997\n",
      "Precision : 0.6224931514970897 +/- 0.03300067783311304\n",
      "Recall : 0.410989678202793 +/- 0.019565541737210878\n",
      "\n",
      "35\n",
      "Best threshold: 0.5\n",
      "F1 : 0.8664473684210527 +/- 0.004383771381304632\n",
      "Precision : 0.6071312115569127 +/- 0.020795610680317725\n",
      "Recall : 0.47660392633070225 +/- 0.027075019233965786\n",
      "\n",
      "36\n",
      "Best threshold: 0.54\n",
      "F1 : 0.8694736842105263 +/- 0.005937112722462357\n",
      "Precision : 0.6220828176544424 +/- 0.027908520905786063\n",
      "Recall : 0.4766072994670445 +/- 0.01966344942094042\n",
      "\n",
      "37\n",
      "Best threshold: 0.52\n",
      "F1 : 0.867763157894737 +/- 0.005582421956735898\n",
      "Precision : 0.6135451746940902 +/- 0.02907875388214756\n",
      "Recall : 0.4798994805370033 +/- 0.016518739442359175\n",
      "\n",
      "38\n",
      "Best threshold: 0.52\n",
      "F1 : 0.8678947368421053 +/- 0.008007960028791037\n",
      "Precision : 0.6143574699651146 +/- 0.036749847150676467\n",
      "Recall : 0.4782432705929974 +/- 0.018351402490363607\n",
      "\n",
      "39\n",
      "Best threshold: 0.8900000000000003\n",
      "F1 : 0.8677631578947368 +/- 0.005780495430654958\n",
      "Precision : 0.6755590375617764 +/- 0.04512417961026247\n",
      "Recall : 0.34206638332321393 +/- 0.021516647913617345\n",
      "\n",
      "40\n",
      "Best threshold: 0.51\n",
      "F1 : 0.866578947368421 +/- 0.006274536325034914\n",
      "Precision : 0.6082689696379693 +/- 0.029163600749792618\n",
      "Recall : 0.4757775079268704 +/- 0.02273619858257924\n",
      "\n",
      "41\n",
      "Best threshold: 0.52\n",
      "F1 : 0.866842105263158 +/- 0.007093069458917692\n",
      "Precision : 0.6091569853472392 +/- 0.034520826472361106\n",
      "Recall : 0.4807124063954665 +/- 0.01904513105444432\n",
      "\n",
      "42\n",
      "Best threshold: 0.5700000000000001\n",
      "F1 : 0.8663157894736843 +/- 0.002611767531747286\n",
      "Precision : 0.6104406462892626 +/- 0.015267296286519662\n",
      "Recall : 0.46266275382850974 +/- 0.017727663660809842\n",
      "\n",
      "43\n",
      "Best threshold: 0.5\n",
      "F1 : 0.8648684210526316 +/- 0.007333091996364605\n",
      "Precision : 0.602242775642083 +/- 0.034142874035392956\n",
      "Recall : 0.4675672940700263 +/- 0.022624405222960723\n",
      "\n",
      "44\n"
     ]
    },
    {
     "name": "stdout",
     "output_type": "stream",
     "text": [
      "Best threshold: 0.5\n",
      "F1 : 0.8672368421052632 +/- 0.0067014903043404375\n",
      "Precision : 0.6106046956622063 +/- 0.03327865523739917\n",
      "Recall : 0.48153207852661406 +/- 0.01349175687502433\n",
      "\n",
      "45\n",
      "Best threshold: 0.7200000000000002\n",
      "F1 : 0.8690789473684213 +/- 0.003168840678629566\n",
      "Precision : 0.6660047764338382 +/- 0.024387870910718198\n",
      "Recall : 0.3707886392767996 +/- 0.025367935088358693\n",
      "\n",
      "46\n",
      "Best threshold: 0.5\n",
      "F1 : 0.868421052631579 +/- 0.00832178331623254\n",
      "Precision : 0.6119666463693042 +/- 0.035429160236033944\n",
      "Recall : 0.4954867435741752 +/- 0.021390535003933654\n",
      "\n",
      "47\n"
     ]
    },
    {
     "ename": "KeyboardInterrupt",
     "evalue": "",
     "output_type": "error",
     "traceback": [
      "\u001b[1;31m---------------------------------------------------------------------------\u001b[0m",
      "\u001b[1;31mKeyboardInterrupt\u001b[0m                         Traceback (most recent call last)",
      "\u001b[1;32m<ipython-input-11-832fd44da11c>\u001b[0m in \u001b[0;36m<module>\u001b[1;34m\u001b[0m\n\u001b[0;32m     21\u001b[0m \u001b[1;33m\u001b[0m\u001b[0m\n\u001b[0;32m     22\u001b[0m     \u001b[0mmodel\u001b[0m\u001b[1;33m.\u001b[0m\u001b[0mfit\u001b[0m\u001b[1;33m(\u001b[0m\u001b[0mX_train\u001b[0m\u001b[1;33m,\u001b[0m \u001b[0my_train\u001b[0m\u001b[1;33m)\u001b[0m\u001b[1;33m\u001b[0m\u001b[1;33m\u001b[0m\u001b[0m\n\u001b[1;32m---> 23\u001b[1;33m     \u001b[0mthreshold\u001b[0m \u001b[1;33m=\u001b[0m \u001b[0mhackday\u001b[0m\u001b[1;33m.\u001b[0m\u001b[0moptimal_threshold\u001b[0m\u001b[1;33m(\u001b[0m\u001b[0mmodel\u001b[0m\u001b[1;33m,\u001b[0m \u001b[0mX_test\u001b[0m\u001b[1;33m,\u001b[0m \u001b[0my_test\u001b[0m\u001b[1;33m)\u001b[0m\u001b[1;33m\u001b[0m\u001b[1;33m\u001b[0m\u001b[0m\n\u001b[0m\u001b[0;32m     24\u001b[0m     \u001b[0mf1\u001b[0m \u001b[1;33m=\u001b[0m  \u001b[0mhackday\u001b[0m\u001b[1;33m.\u001b[0m\u001b[0mcross_validation\u001b[0m\u001b[1;33m(\u001b[0m\u001b[1;34m'lgbm'\u001b[0m\u001b[1;33m,\u001b[0m \u001b[0mmodel\u001b[0m\u001b[1;33m,\u001b[0m \u001b[0mX_train\u001b[0m\u001b[1;33m,\u001b[0m \u001b[0my_train\u001b[0m\u001b[1;33m,\u001b[0m \u001b[0mthreshold\u001b[0m\u001b[1;33m=\u001b[0m\u001b[0mthreshold\u001b[0m\u001b[1;33m,\u001b[0m \u001b[0mensemble\u001b[0m\u001b[1;33m=\u001b[0m\u001b[1;32mFalse\u001b[0m\u001b[1;33m)\u001b[0m\u001b[1;33m\u001b[0m\u001b[1;33m\u001b[0m\u001b[0m\n\u001b[0;32m     25\u001b[0m \u001b[1;33m\u001b[0m\u001b[0m\n",
      "\u001b[1;32m~\\repos\\hackday-03\\notebooks\\hackday.py\u001b[0m in \u001b[0;36moptimal_threshold\u001b[1;34m(model, X_test, y_test)\u001b[0m\n\u001b[0;32m    157\u001b[0m     \u001b[0mf1_list\u001b[0m \u001b[1;33m=\u001b[0m \u001b[1;33m[\u001b[0m\u001b[1;33m]\u001b[0m\u001b[1;33m\u001b[0m\u001b[1;33m\u001b[0m\u001b[0m\n\u001b[0;32m    158\u001b[0m     \u001b[1;32mfor\u001b[0m \u001b[0mthreshold\u001b[0m \u001b[1;32min\u001b[0m \u001b[0mthresholds\u001b[0m\u001b[1;33m:\u001b[0m\u001b[1;33m\u001b[0m\u001b[1;33m\u001b[0m\u001b[0m\n\u001b[1;32m--> 159\u001b[1;33m         \u001b[0mf1_list\u001b[0m\u001b[1;33m.\u001b[0m\u001b[0mappend\u001b[0m\u001b[1;33m(\u001b[0m\u001b[0mmetrics\u001b[0m\u001b[1;33m.\u001b[0m\u001b[0mf1_score\u001b[0m\u001b[1;33m(\u001b[0m\u001b[0my_test\u001b[0m\u001b[1;33m,\u001b[0m \u001b[1;33m(\u001b[0m\u001b[0mproba\u001b[0m\u001b[1;33m>\u001b[0m\u001b[0mthreshold\u001b[0m\u001b[1;33m)\u001b[0m\u001b[1;33m.\u001b[0m\u001b[0mastype\u001b[0m\u001b[1;33m(\u001b[0m\u001b[0mint\u001b[0m\u001b[1;33m)\u001b[0m\u001b[1;33m,\u001b[0m \u001b[0maverage\u001b[0m\u001b[1;33m=\u001b[0m\u001b[1;34m'micro'\u001b[0m\u001b[1;33m)\u001b[0m\u001b[1;33m)\u001b[0m\u001b[1;33m\u001b[0m\u001b[1;33m\u001b[0m\u001b[0m\n\u001b[0m\u001b[0;32m    160\u001b[0m     \u001b[0mprint\u001b[0m\u001b[1;33m(\u001b[0m\u001b[1;34mf'Best threshold: {thresholds[np.argmax(f1_list)]}'\u001b[0m\u001b[1;33m)\u001b[0m\u001b[1;33m\u001b[0m\u001b[1;33m\u001b[0m\u001b[0m\n\u001b[0;32m    161\u001b[0m \u001b[1;33m\u001b[0m\u001b[0m\n",
      "\u001b[1;32m~\\anaconda3\\lib\\site-packages\\sklearn\\metrics\\_classification.py\u001b[0m in \u001b[0;36mf1_score\u001b[1;34m(y_true, y_pred, labels, pos_label, average, sample_weight, zero_division)\u001b[0m\n\u001b[0;32m   1134\u001b[0m     \u001b[0marray\u001b[0m\u001b[1;33m(\u001b[0m\u001b[1;33m[\u001b[0m\u001b[1;36m0.66666667\u001b[0m\u001b[1;33m,\u001b[0m \u001b[1;36m1.\u001b[0m        \u001b[1;33m,\u001b[0m \u001b[1;36m0.66666667\u001b[0m\u001b[1;33m]\u001b[0m\u001b[1;33m)\u001b[0m\u001b[1;33m\u001b[0m\u001b[1;33m\u001b[0m\u001b[0m\n\u001b[0;32m   1135\u001b[0m     \"\"\"\n\u001b[1;32m-> 1136\u001b[1;33m     return fbeta_score(\n\u001b[0m\u001b[0;32m   1137\u001b[0m         \u001b[0my_true\u001b[0m\u001b[1;33m,\u001b[0m\u001b[1;33m\u001b[0m\u001b[1;33m\u001b[0m\u001b[0m\n\u001b[0;32m   1138\u001b[0m         \u001b[0my_pred\u001b[0m\u001b[1;33m,\u001b[0m\u001b[1;33m\u001b[0m\u001b[1;33m\u001b[0m\u001b[0m\n",
      "\u001b[1;32m~\\anaconda3\\lib\\site-packages\\sklearn\\metrics\\_classification.py\u001b[0m in \u001b[0;36mfbeta_score\u001b[1;34m(y_true, y_pred, beta, labels, pos_label, average, sample_weight, zero_division)\u001b[0m\n\u001b[0;32m   1275\u001b[0m     \"\"\"\n\u001b[0;32m   1276\u001b[0m \u001b[1;33m\u001b[0m\u001b[0m\n\u001b[1;32m-> 1277\u001b[1;33m     _, _, f, _ = precision_recall_fscore_support(\n\u001b[0m\u001b[0;32m   1278\u001b[0m         \u001b[0my_true\u001b[0m\u001b[1;33m,\u001b[0m\u001b[1;33m\u001b[0m\u001b[1;33m\u001b[0m\u001b[0m\n\u001b[0;32m   1279\u001b[0m         \u001b[0my_pred\u001b[0m\u001b[1;33m,\u001b[0m\u001b[1;33m\u001b[0m\u001b[1;33m\u001b[0m\u001b[0m\n",
      "\u001b[1;32m~\\anaconda3\\lib\\site-packages\\sklearn\\metrics\\_classification.py\u001b[0m in \u001b[0;36mprecision_recall_fscore_support\u001b[1;34m(y_true, y_pred, beta, labels, pos_label, average, warn_for, sample_weight, zero_division)\u001b[0m\n\u001b[0;32m   1565\u001b[0m     \u001b[1;31m# Calculate tp_sum, pred_sum, true_sum ###\u001b[0m\u001b[1;33m\u001b[0m\u001b[1;33m\u001b[0m\u001b[1;33m\u001b[0m\u001b[0m\n\u001b[0;32m   1566\u001b[0m     \u001b[0msamplewise\u001b[0m \u001b[1;33m=\u001b[0m \u001b[0maverage\u001b[0m \u001b[1;33m==\u001b[0m \u001b[1;34m\"samples\"\u001b[0m\u001b[1;33m\u001b[0m\u001b[1;33m\u001b[0m\u001b[0m\n\u001b[1;32m-> 1567\u001b[1;33m     MCM = multilabel_confusion_matrix(\n\u001b[0m\u001b[0;32m   1568\u001b[0m         \u001b[0my_true\u001b[0m\u001b[1;33m,\u001b[0m\u001b[1;33m\u001b[0m\u001b[1;33m\u001b[0m\u001b[0m\n\u001b[0;32m   1569\u001b[0m         \u001b[0my_pred\u001b[0m\u001b[1;33m,\u001b[0m\u001b[1;33m\u001b[0m\u001b[1;33m\u001b[0m\u001b[0m\n",
      "\u001b[1;32m~\\anaconda3\\lib\\site-packages\\sklearn\\metrics\\_classification.py\u001b[0m in \u001b[0;36mmultilabel_confusion_matrix\u001b[1;34m(y_true, y_pred, sample_weight, labels, samplewise)\u001b[0m\n\u001b[0;32m    504\u001b[0m         \u001b[0mle\u001b[0m \u001b[1;33m=\u001b[0m \u001b[0mLabelEncoder\u001b[0m\u001b[1;33m(\u001b[0m\u001b[1;33m)\u001b[0m\u001b[1;33m\u001b[0m\u001b[1;33m\u001b[0m\u001b[0m\n\u001b[0;32m    505\u001b[0m         \u001b[0mle\u001b[0m\u001b[1;33m.\u001b[0m\u001b[0mfit\u001b[0m\u001b[1;33m(\u001b[0m\u001b[0mlabels\u001b[0m\u001b[1;33m)\u001b[0m\u001b[1;33m\u001b[0m\u001b[1;33m\u001b[0m\u001b[0m\n\u001b[1;32m--> 506\u001b[1;33m         \u001b[0my_true\u001b[0m \u001b[1;33m=\u001b[0m \u001b[0mle\u001b[0m\u001b[1;33m.\u001b[0m\u001b[0mtransform\u001b[0m\u001b[1;33m(\u001b[0m\u001b[0my_true\u001b[0m\u001b[1;33m)\u001b[0m\u001b[1;33m\u001b[0m\u001b[1;33m\u001b[0m\u001b[0m\n\u001b[0m\u001b[0;32m    507\u001b[0m         \u001b[0my_pred\u001b[0m \u001b[1;33m=\u001b[0m \u001b[0mle\u001b[0m\u001b[1;33m.\u001b[0m\u001b[0mtransform\u001b[0m\u001b[1;33m(\u001b[0m\u001b[0my_pred\u001b[0m\u001b[1;33m)\u001b[0m\u001b[1;33m\u001b[0m\u001b[1;33m\u001b[0m\u001b[0m\n\u001b[0;32m    508\u001b[0m         \u001b[0msorted_labels\u001b[0m \u001b[1;33m=\u001b[0m \u001b[0mle\u001b[0m\u001b[1;33m.\u001b[0m\u001b[0mclasses_\u001b[0m\u001b[1;33m\u001b[0m\u001b[1;33m\u001b[0m\u001b[0m\n",
      "\u001b[1;32m~\\anaconda3\\lib\\site-packages\\sklearn\\preprocessing\\_label.py\u001b[0m in \u001b[0;36mtransform\u001b[1;34m(self, y)\u001b[0m\n\u001b[0;32m    136\u001b[0m             \u001b[1;32mreturn\u001b[0m \u001b[0mnp\u001b[0m\u001b[1;33m.\u001b[0m\u001b[0marray\u001b[0m\u001b[1;33m(\u001b[0m\u001b[1;33m[\u001b[0m\u001b[1;33m]\u001b[0m\u001b[1;33m)\u001b[0m\u001b[1;33m\u001b[0m\u001b[1;33m\u001b[0m\u001b[0m\n\u001b[0;32m    137\u001b[0m \u001b[1;33m\u001b[0m\u001b[0m\n\u001b[1;32m--> 138\u001b[1;33m         \u001b[1;32mreturn\u001b[0m \u001b[0m_encode\u001b[0m\u001b[1;33m(\u001b[0m\u001b[0my\u001b[0m\u001b[1;33m,\u001b[0m \u001b[0muniques\u001b[0m\u001b[1;33m=\u001b[0m\u001b[0mself\u001b[0m\u001b[1;33m.\u001b[0m\u001b[0mclasses_\u001b[0m\u001b[1;33m)\u001b[0m\u001b[1;33m\u001b[0m\u001b[1;33m\u001b[0m\u001b[0m\n\u001b[0m\u001b[0;32m    139\u001b[0m \u001b[1;33m\u001b[0m\u001b[0m\n\u001b[0;32m    140\u001b[0m     \u001b[1;32mdef\u001b[0m \u001b[0minverse_transform\u001b[0m\u001b[1;33m(\u001b[0m\u001b[0mself\u001b[0m\u001b[1;33m,\u001b[0m \u001b[0my\u001b[0m\u001b[1;33m)\u001b[0m\u001b[1;33m:\u001b[0m\u001b[1;33m\u001b[0m\u001b[1;33m\u001b[0m\u001b[0m\n",
      "\u001b[1;32m~\\anaconda3\\lib\\site-packages\\sklearn\\utils\\_encode.py\u001b[0m in \u001b[0;36m_encode\u001b[1;34m(values, uniques, check_unknown)\u001b[0m\n\u001b[0;32m    227\u001b[0m     \u001b[1;32melse\u001b[0m\u001b[1;33m:\u001b[0m\u001b[1;33m\u001b[0m\u001b[1;33m\u001b[0m\u001b[0m\n\u001b[0;32m    228\u001b[0m         \u001b[1;32mif\u001b[0m \u001b[0mcheck_unknown\u001b[0m\u001b[1;33m:\u001b[0m\u001b[1;33m\u001b[0m\u001b[1;33m\u001b[0m\u001b[0m\n\u001b[1;32m--> 229\u001b[1;33m             \u001b[0mdiff\u001b[0m \u001b[1;33m=\u001b[0m \u001b[0m_check_unknown\u001b[0m\u001b[1;33m(\u001b[0m\u001b[0mvalues\u001b[0m\u001b[1;33m,\u001b[0m \u001b[0muniques\u001b[0m\u001b[1;33m)\u001b[0m\u001b[1;33m\u001b[0m\u001b[1;33m\u001b[0m\u001b[0m\n\u001b[0m\u001b[0;32m    230\u001b[0m             \u001b[1;32mif\u001b[0m \u001b[0mdiff\u001b[0m\u001b[1;33m:\u001b[0m\u001b[1;33m\u001b[0m\u001b[1;33m\u001b[0m\u001b[0m\n\u001b[0;32m    231\u001b[0m                 \u001b[1;32mraise\u001b[0m \u001b[0mValueError\u001b[0m\u001b[1;33m(\u001b[0m\u001b[1;34mf\"y contains previously unseen labels: {str(diff)}\"\u001b[0m\u001b[1;33m)\u001b[0m\u001b[1;33m\u001b[0m\u001b[1;33m\u001b[0m\u001b[0m\n",
      "\u001b[1;32m~\\anaconda3\\lib\\site-packages\\sklearn\\utils\\_encode.py\u001b[0m in \u001b[0;36m_check_unknown\u001b[1;34m(values, known_values, return_mask)\u001b[0m\n\u001b[0;32m    292\u001b[0m             \u001b[0mdiff\u001b[0m\u001b[1;33m.\u001b[0m\u001b[0mappend\u001b[0m\u001b[1;33m(\u001b[0m\u001b[0mnp\u001b[0m\u001b[1;33m.\u001b[0m\u001b[0mnan\u001b[0m\u001b[1;33m)\u001b[0m\u001b[1;33m\u001b[0m\u001b[1;33m\u001b[0m\u001b[0m\n\u001b[0;32m    293\u001b[0m     \u001b[1;32melse\u001b[0m\u001b[1;33m:\u001b[0m\u001b[1;33m\u001b[0m\u001b[1;33m\u001b[0m\u001b[0m\n\u001b[1;32m--> 294\u001b[1;33m         \u001b[0munique_values\u001b[0m \u001b[1;33m=\u001b[0m \u001b[0mnp\u001b[0m\u001b[1;33m.\u001b[0m\u001b[0munique\u001b[0m\u001b[1;33m(\u001b[0m\u001b[0mvalues\u001b[0m\u001b[1;33m)\u001b[0m\u001b[1;33m\u001b[0m\u001b[1;33m\u001b[0m\u001b[0m\n\u001b[0m\u001b[0;32m    295\u001b[0m         \u001b[0mdiff\u001b[0m \u001b[1;33m=\u001b[0m \u001b[0mnp\u001b[0m\u001b[1;33m.\u001b[0m\u001b[0msetdiff1d\u001b[0m\u001b[1;33m(\u001b[0m\u001b[0munique_values\u001b[0m\u001b[1;33m,\u001b[0m \u001b[0mknown_values\u001b[0m\u001b[1;33m,\u001b[0m \u001b[0massume_unique\u001b[0m\u001b[1;33m=\u001b[0m\u001b[1;32mTrue\u001b[0m\u001b[1;33m)\u001b[0m\u001b[1;33m\u001b[0m\u001b[1;33m\u001b[0m\u001b[0m\n\u001b[0;32m    296\u001b[0m         \u001b[1;32mif\u001b[0m \u001b[0mreturn_mask\u001b[0m\u001b[1;33m:\u001b[0m\u001b[1;33m\u001b[0m\u001b[1;33m\u001b[0m\u001b[0m\n",
      "\u001b[1;32m<__array_function__ internals>\u001b[0m in \u001b[0;36munique\u001b[1;34m(*args, **kwargs)\u001b[0m\n",
      "\u001b[1;32m~\\anaconda3\\lib\\site-packages\\numpy\\lib\\arraysetops.py\u001b[0m in \u001b[0;36munique\u001b[1;34m(ar, return_index, return_inverse, return_counts, axis)\u001b[0m\n\u001b[0;32m    260\u001b[0m     \u001b[0mar\u001b[0m \u001b[1;33m=\u001b[0m \u001b[0mnp\u001b[0m\u001b[1;33m.\u001b[0m\u001b[0masanyarray\u001b[0m\u001b[1;33m(\u001b[0m\u001b[0mar\u001b[0m\u001b[1;33m)\u001b[0m\u001b[1;33m\u001b[0m\u001b[1;33m\u001b[0m\u001b[0m\n\u001b[0;32m    261\u001b[0m     \u001b[1;32mif\u001b[0m \u001b[0maxis\u001b[0m \u001b[1;32mis\u001b[0m \u001b[1;32mNone\u001b[0m\u001b[1;33m:\u001b[0m\u001b[1;33m\u001b[0m\u001b[1;33m\u001b[0m\u001b[0m\n\u001b[1;32m--> 262\u001b[1;33m         \u001b[0mret\u001b[0m \u001b[1;33m=\u001b[0m \u001b[0m_unique1d\u001b[0m\u001b[1;33m(\u001b[0m\u001b[0mar\u001b[0m\u001b[1;33m,\u001b[0m \u001b[0mreturn_index\u001b[0m\u001b[1;33m,\u001b[0m \u001b[0mreturn_inverse\u001b[0m\u001b[1;33m,\u001b[0m \u001b[0mreturn_counts\u001b[0m\u001b[1;33m)\u001b[0m\u001b[1;33m\u001b[0m\u001b[1;33m\u001b[0m\u001b[0m\n\u001b[0m\u001b[0;32m    263\u001b[0m         \u001b[1;32mreturn\u001b[0m \u001b[0m_unpack_tuple\u001b[0m\u001b[1;33m(\u001b[0m\u001b[0mret\u001b[0m\u001b[1;33m)\u001b[0m\u001b[1;33m\u001b[0m\u001b[1;33m\u001b[0m\u001b[0m\n\u001b[0;32m    264\u001b[0m \u001b[1;33m\u001b[0m\u001b[0m\n",
      "\u001b[1;32m~\\anaconda3\\lib\\site-packages\\numpy\\lib\\arraysetops.py\u001b[0m in \u001b[0;36m_unique1d\u001b[1;34m(ar, return_index, return_inverse, return_counts)\u001b[0m\n\u001b[0;32m    313\u001b[0m     \u001b[0mFind\u001b[0m \u001b[0mthe\u001b[0m \u001b[0munique\u001b[0m \u001b[0melements\u001b[0m \u001b[0mof\u001b[0m \u001b[0man\u001b[0m \u001b[0marray\u001b[0m\u001b[1;33m,\u001b[0m \u001b[0mignoring\u001b[0m \u001b[0mshape\u001b[0m\u001b[1;33m.\u001b[0m\u001b[1;33m\u001b[0m\u001b[1;33m\u001b[0m\u001b[0m\n\u001b[0;32m    314\u001b[0m     \"\"\"\n\u001b[1;32m--> 315\u001b[1;33m     \u001b[0mar\u001b[0m \u001b[1;33m=\u001b[0m \u001b[0mnp\u001b[0m\u001b[1;33m.\u001b[0m\u001b[0masanyarray\u001b[0m\u001b[1;33m(\u001b[0m\u001b[0mar\u001b[0m\u001b[1;33m)\u001b[0m\u001b[1;33m.\u001b[0m\u001b[0mflatten\u001b[0m\u001b[1;33m(\u001b[0m\u001b[1;33m)\u001b[0m\u001b[1;33m\u001b[0m\u001b[1;33m\u001b[0m\u001b[0m\n\u001b[0m\u001b[0;32m    316\u001b[0m \u001b[1;33m\u001b[0m\u001b[0m\n\u001b[0;32m    317\u001b[0m     \u001b[0moptional_indices\u001b[0m \u001b[1;33m=\u001b[0m \u001b[0mreturn_index\u001b[0m \u001b[1;32mor\u001b[0m \u001b[0mreturn_inverse\u001b[0m\u001b[1;33m\u001b[0m\u001b[1;33m\u001b[0m\u001b[0m\n",
      "\u001b[1;31mKeyboardInterrupt\u001b[0m: "
     ]
    }
   ],
   "source": [
    "import random\n",
    "results = pd.DataFrame()\n",
    "count = 0\n",
    "for i in range(300):\n",
    "    \n",
    "    learning_rate = random.choice(np.arange(0.15, 0.2, 0.005))\n",
    "    num_leaves = random.choice(np.arange(70,90,5))\n",
    "    max_depth = random.choice(np.arange(50,150,20))\n",
    "    min_child_weight = random.choice(np.arange(0.001,0.003,0.0005))\n",
    "    n_estimators = random.choice(np.arange(50,300,50))\n",
    "    boosting_type = 'gbdt'\n",
    "#     n_estimators = random.choice(np.arange(100,200,10))\n",
    "\n",
    "\n",
    "    model = LGBMClassifier(learning_rate = learning_rate,\n",
    "                          num_leaves = num_leaves,\n",
    "                          max_depth =max_depth ,\n",
    "                         n_estimators = n_estimators,\n",
    "                          min_child_weight=min_child_weight,\n",
    "                          boosting_type= boosting_type)\n",
    "    \n",
    "    model.fit(X_train, y_train)\n",
    "    threshold = hackday.optimal_threshold(model, X_test, y_test)\n",
    "    f1 =  hackday.cross_validation('lgbm', model, X_train, y_train, threshold=threshold, ensemble=False)\n",
    "    \n",
    "    results.loc[count, 'f1'] = f1\n",
    "    results.loc[count, 'threshold'] = threshold\n",
    "    results.loc[count, 'learning_rate'] = learning_rate\n",
    "    results.loc[count, 'num_leaves'] = num_leaves\n",
    "    results.loc[count, 'n_estimators'] = n_estimators\n",
    "    results.loc[count, 'min_child_weight'] = min_child_weight\n",
    "    results.loc[count, 'max_depth'] = max_depth\n",
    "    count+=1\n",
    "    print(count)"
   ]
  },
  {
   "cell_type": "code",
   "execution_count": null,
   "id": "4f7a1882",
   "metadata": {},
   "outputs": [],
   "source": [
    "fine_tuning.tuning_rf(X_train, X_test, y_train, y_test, K=10)\n",
    "fine_tuning.tuning_ada(X_train, X_test, y_train, y_test, K=10)\n",
    "fine_tuning.tuning_lgbm(X_train, X_test, y_train, y_test, K=10)"
   ]
  },
  {
   "cell_type": "code",
   "execution_count": null,
   "id": "b720cabb",
   "metadata": {},
   "outputs": [],
   "source": []
  },
  {
   "cell_type": "code",
   "execution_count": 54,
   "id": "307b91d7",
   "metadata": {
    "ExecuteTime": {
     "end_time": "2022-10-23T11:56:13.719958Z",
     "start_time": "2022-10-23T11:56:13.701919Z"
    }
   },
   "outputs": [],
   "source": [
    "best = results.sort_values('f1', ascending=False).convert_dtypes()\n",
    "\n",
    "threshold = best.head(1)['threshold'].values[0]\n",
    "params = dict(best.iloc[0,2:])\n",
    "\n",
    "params\n",
    "params['boosting_type'] = 'gbdt'"
   ]
  },
  {
   "cell_type": "code",
   "execution_count": 4,
   "id": "293b61be",
   "metadata": {
    "ExecuteTime": {
     "end_time": "2022-10-23T12:05:21.394165Z",
     "start_time": "2022-10-23T12:05:21.386161Z"
    }
   },
   "outputs": [],
   "source": [
    "lgbm = LGBMClassifier(learning_rate    =    0.15,\n",
    "num_leaves      =     85,\n",
    "n_estimators   =     150,\n",
    "min_child_weight =   0.002,\n",
    "max_depth       =    130)"
   ]
  },
  {
   "cell_type": "code",
   "execution_count": 6,
   "id": "c046c87d",
   "metadata": {
    "ExecuteTime": {
     "end_time": "2022-10-23T12:05:53.155706Z",
     "start_time": "2022-10-23T12:05:50.466706Z"
    }
   },
   "outputs": [
    {
     "name": "stdout",
     "output_type": "stream",
     "text": [
      "F1 : 0.8711578947368421 +/- 0.00968421052631578\n",
      "Precision : 0.6203878594354401 +/- 0.043382886109450236\n",
      "Recall : 0.46784787472035794 +/- 0.022579959945370463\n",
      "\n"
     ]
    },
    {
     "data": {
      "text/plain": [
       "0.8711578947368421"
      ]
     },
     "execution_count": 6,
     "metadata": {},
     "output_type": "execute_result"
    }
   ],
   "source": [
    "hackday.cross_validation('lgbm',\n",
    "    lgbm,\n",
    "    X_train,\n",
    "    y_train,\n",
    "    threshold=0.5,\n",
    "    ensemble=False,\n",
    "    n_splits=5,)"
   ]
  },
  {
   "cell_type": "code",
   "execution_count": 65,
   "id": "e3a73303",
   "metadata": {
    "ExecuteTime": {
     "end_time": "2022-10-23T11:57:40.407266Z",
     "start_time": "2022-10-23T11:57:39.841268Z"
    }
   },
   "outputs": [
    {
     "data": {
      "text/html": [
       "<style>#sk-container-id-9 {color: black;background-color: white;}#sk-container-id-9 pre{padding: 0;}#sk-container-id-9 div.sk-toggleable {background-color: white;}#sk-container-id-9 label.sk-toggleable__label {cursor: pointer;display: block;width: 100%;margin-bottom: 0;padding: 0.3em;box-sizing: border-box;text-align: center;}#sk-container-id-9 label.sk-toggleable__label-arrow:before {content: \"▸\";float: left;margin-right: 0.25em;color: #696969;}#sk-container-id-9 label.sk-toggleable__label-arrow:hover:before {color: black;}#sk-container-id-9 div.sk-estimator:hover label.sk-toggleable__label-arrow:before {color: black;}#sk-container-id-9 div.sk-toggleable__content {max-height: 0;max-width: 0;overflow: hidden;text-align: left;background-color: #f0f8ff;}#sk-container-id-9 div.sk-toggleable__content pre {margin: 0.2em;color: black;border-radius: 0.25em;background-color: #f0f8ff;}#sk-container-id-9 input.sk-toggleable__control:checked~div.sk-toggleable__content {max-height: 200px;max-width: 100%;overflow: auto;}#sk-container-id-9 input.sk-toggleable__control:checked~label.sk-toggleable__label-arrow:before {content: \"▾\";}#sk-container-id-9 div.sk-estimator input.sk-toggleable__control:checked~label.sk-toggleable__label {background-color: #d4ebff;}#sk-container-id-9 div.sk-label input.sk-toggleable__control:checked~label.sk-toggleable__label {background-color: #d4ebff;}#sk-container-id-9 input.sk-hidden--visually {border: 0;clip: rect(1px 1px 1px 1px);clip: rect(1px, 1px, 1px, 1px);height: 1px;margin: -1px;overflow: hidden;padding: 0;position: absolute;width: 1px;}#sk-container-id-9 div.sk-estimator {font-family: monospace;background-color: #f0f8ff;border: 1px dotted black;border-radius: 0.25em;box-sizing: border-box;margin-bottom: 0.5em;}#sk-container-id-9 div.sk-estimator:hover {background-color: #d4ebff;}#sk-container-id-9 div.sk-parallel-item::after {content: \"\";width: 100%;border-bottom: 1px solid gray;flex-grow: 1;}#sk-container-id-9 div.sk-label:hover label.sk-toggleable__label {background-color: #d4ebff;}#sk-container-id-9 div.sk-serial::before {content: \"\";position: absolute;border-left: 1px solid gray;box-sizing: border-box;top: 0;bottom: 0;left: 50%;z-index: 0;}#sk-container-id-9 div.sk-serial {display: flex;flex-direction: column;align-items: center;background-color: white;padding-right: 0.2em;padding-left: 0.2em;position: relative;}#sk-container-id-9 div.sk-item {position: relative;z-index: 1;}#sk-container-id-9 div.sk-parallel {display: flex;align-items: stretch;justify-content: center;background-color: white;position: relative;}#sk-container-id-9 div.sk-item::before, #sk-container-id-9 div.sk-parallel-item::before {content: \"\";position: absolute;border-left: 1px solid gray;box-sizing: border-box;top: 0;bottom: 0;left: 50%;z-index: -1;}#sk-container-id-9 div.sk-parallel-item {display: flex;flex-direction: column;z-index: 1;position: relative;background-color: white;}#sk-container-id-9 div.sk-parallel-item:first-child::after {align-self: flex-end;width: 50%;}#sk-container-id-9 div.sk-parallel-item:last-child::after {align-self: flex-start;width: 50%;}#sk-container-id-9 div.sk-parallel-item:only-child::after {width: 0;}#sk-container-id-9 div.sk-dashed-wrapped {border: 1px dashed gray;margin: 0 0.4em 0.5em 0.4em;box-sizing: border-box;padding-bottom: 0.4em;background-color: white;}#sk-container-id-9 div.sk-label label {font-family: monospace;font-weight: bold;display: inline-block;line-height: 1.2em;}#sk-container-id-9 div.sk-label-container {text-align: center;}#sk-container-id-9 div.sk-container {/* jupyter's `normalize.less` sets `[hidden] { display: none; }` but bootstrap.min.css set `[hidden] { display: none !important; }` so we also need the `!important` here to be able to override the default hidden behavior on the sphinx rendered scikit-learn.org. See: https://github.com/scikit-learn/scikit-learn/issues/21755 */display: inline-block !important;position: relative;}#sk-container-id-9 div.sk-text-repr-fallback {display: none;}</style><div id=\"sk-container-id-9\" class=\"sk-top-container\"><div class=\"sk-text-repr-fallback\"><pre>LGBMClassifier(learning_rate=0.15, max_depth=130, min_child_weight=0.002,\n",
       "               n_estimators=150, num_leaves=85)</pre><b>In a Jupyter environment, please rerun this cell to show the HTML representation or trust the notebook. <br />On GitHub, the HTML representation is unable to render, please try loading this page with nbviewer.org.</b></div><div class=\"sk-container\" hidden><div class=\"sk-item\"><div class=\"sk-estimator sk-toggleable\"><input class=\"sk-toggleable__control sk-hidden--visually\" id=\"sk-estimator-id-9\" type=\"checkbox\" checked><label for=\"sk-estimator-id-9\" class=\"sk-toggleable__label sk-toggleable__label-arrow\">LGBMClassifier</label><div class=\"sk-toggleable__content\"><pre>LGBMClassifier(learning_rate=0.15, max_depth=130, min_child_weight=0.002,\n",
       "               n_estimators=150, num_leaves=85)</pre></div></div></div></div></div>"
      ],
      "text/plain": [
       "LGBMClassifier(learning_rate=0.15, max_depth=130, min_child_weight=0.002,\n",
       "               n_estimators=150, num_leaves=85)"
      ]
     },
     "execution_count": 65,
     "metadata": {},
     "output_type": "execute_result"
    }
   ],
   "source": [
    "lgbm.fit(X_train, y_train)"
   ]
  },
  {
   "cell_type": "code",
   "execution_count": 66,
   "id": "5f8751e0",
   "metadata": {
    "ExecuteTime": {
     "end_time": "2022-10-23T11:57:46.363759Z",
     "start_time": "2022-10-23T11:57:46.016762Z"
    }
   },
   "outputs": [
    {
     "data": {
      "image/png": "[encoded data removed]",
      "text/plain": [
       "<Figure size 432x288 with 2 Axes>"
      ]
     },
     "metadata": {
      "needs_background": "light"
     },
     "output_type": "display_data"
    }
   ],
   "source": [
    "hackday.plot_cm(lgbm, X_test, y_test)"
   ]
  },
  {
   "cell_type": "code",
   "execution_count": null,
   "id": "bf70c383",
   "metadata": {},
   "outputs": [],
   "source": [
    "# (learning_rate=0.165, num_leaves = 70.0, n_estimators = 50.0, min_child_weight = 0.0025)\n",
    "0.874316\n"
   ]
  },
  {
   "cell_type": "code",
   "execution_count": null,
   "id": "64d508d3",
   "metadata": {},
   "outputs": [],
   "source": [
    "FINE TUNING - RANDOM FOREST"
   ]
  },
  {
   "cell_type": "code",
   "execution_count": 24,
   "id": "bc7cce0c",
   "metadata": {
    "ExecuteTime": {
     "end_time": "2022-10-23T12:20:05.091122Z",
     "start_time": "2022-10-23T12:15:28.242523Z"
    }
   },
   "outputs": [
    {
     "name": "stdout",
     "output_type": "stream",
     "text": [
      "Best threshold: 0.5\n",
      "F1 : 0.8772631578947369 +/- 0.008088156931494107\n",
      "Precision : 0.6666026509313749 +/- 0.04351941819599918\n",
      "Recall : 0.4410290827740492 +/- 0.026785764702862876\n",
      "\n",
      "1\n",
      "Best threshold: 0.5\n",
      "F1 : 0.8734736842105264 +/- 0.008378841575634689\n",
      "Precision : 0.6517132171410482 +/- 0.04652810256541631\n",
      "Recall : 0.4236420581655481 +/- 0.04317694798894365\n",
      "\n",
      "2\n",
      "Best threshold: 0.5\n",
      "F1 : 0.8766315789473685 +/- 0.008510055971119028\n",
      "Precision : 0.671573810211666 +/- 0.040289883543216796\n",
      "Recall : 0.4196420581655481 +/- 0.034337355701432835\n",
      "\n",
      "3\n",
      "Best threshold: 0.5\n",
      "F1 : 0.8753684210526316 +/- 0.006475181683886137\n",
      "Precision : 0.6634233553970394 +/- 0.03258108135435894\n",
      "Recall : 0.4209574944071588 +/- 0.03430464009368148\n",
      "\n",
      "4\n",
      "Best threshold: 0.5\n",
      "F1 : 0.8783157894736842 +/- 0.0117329471941834\n",
      "Precision : 0.6742979699428298 +/- 0.060265160468645974\n",
      "Recall : 0.43975838926174504 +/- 0.034983316594916804\n",
      "\n",
      "5\n",
      "Best threshold: 0.5\n",
      "F1 : 0.8751578947368422 +/- 0.009775315171573842\n",
      "Precision : 0.657043910948425 +/- 0.048528707101219704\n",
      "Recall : 0.43166890380313205 +/- 0.028804011107107026\n",
      "\n",
      "6\n",
      "Best threshold: 0.5\n",
      "F1 : 0.875157894736842 +/- 0.008088156931494074\n",
      "Precision : 0.6540762197304254 +/- 0.04265685372998356\n",
      "Recall : 0.4396868008948546 +/- 0.024359776184407888\n",
      "\n",
      "7\n",
      "Best threshold: 0.5\n",
      "F1 : 0.875578947368421 +/- 0.008613588440201592\n",
      "Precision : 0.6610846119246339 +/- 0.04320497617514291\n",
      "Recall : 0.42899328859060404 +/- 0.03593306390711866\n",
      "\n",
      "8\n",
      "Best threshold: 0.5\n",
      "F1 : 0.8774736842105263 +/- 0.00906975125412133\n",
      "Precision : 0.6723902786995526 +/- 0.04734333235327385\n",
      "Recall : 0.4330290827740493 +/- 0.03910271264426567\n",
      "\n",
      "9\n",
      "Best threshold: 0.5\n",
      "F1 : 0.8757894736842105 +/- 0.007532018450525617\n",
      "Precision : 0.6665395231627215 +/- 0.03964787791030529\n",
      "Recall : 0.4209664429530201 +/- 0.036921721911894044\n",
      "\n",
      "10\n",
      "Best threshold: 0.5\n",
      "F1 : 0.875157894736842 +/- 0.007431310566199073\n",
      "Precision : 0.6654621826018106 +/- 0.03835625452221269\n",
      "Recall : 0.41556152125279644 +/- 0.03992534309853287\n",
      "\n",
      "11\n",
      "Best threshold: 0.5\n",
      "F1 : 0.8762105263157896 +/- 0.00797780855641956\n",
      "Precision : 0.6668248600733102 +/- 0.04001276540764086\n",
      "Recall : 0.4249843400447427 +/- 0.03197556734831175\n",
      "\n",
      "12\n",
      "Best threshold: 0.51\n",
      "F1 : 0.8762105263157896 +/- 0.01053893979855479\n",
      "Precision : 0.6784777267881148 +/- 0.05432644561067652\n",
      "Recall : 0.4048769574944071 +/- 0.04961611613000088\n",
      "\n",
      "13\n",
      "Best threshold: 0.5\n",
      "F1 : 0.8757894736842106 +/- 0.009344143587861965\n",
      "Precision : 0.6618925870458089 +/- 0.045576614798298186\n",
      "Recall : 0.4290201342281879 +/- 0.04343640752907146\n",
      "\n",
      "14\n",
      "Best threshold: 0.5\n",
      "F1 : 0.8734736842105264 +/- 0.010866095074159091\n",
      "Precision : 0.6471289719532944 +/- 0.054552134841675155\n",
      "Recall : 0.4330380313199105 +/- 0.03753875632071382\n",
      "\n",
      "15\n",
      "Best threshold: 0.5\n",
      "F1 : 0.8778947368421053 +/- 0.009152448471277523\n",
      "Precision : 0.6714365959615196 +/- 0.04521266454429846\n",
      "Recall : 0.43706487695749435 +/- 0.029175355650194502\n",
      "\n",
      "16\n",
      "Best threshold: 0.5\n",
      "F1 : 0.8745263157894737 +/- 0.008352351336790464\n",
      "Precision : 0.6560433407496008 +/- 0.038880312377966283\n",
      "Recall : 0.4236420581655481 +/- 0.04600532281910372\n",
      "\n",
      "17\n",
      "Best threshold: 0.5\n",
      "F1 : 0.8766315789473685 +/- 0.009816036401578744\n",
      "Precision : 0.6702822093014474 +/- 0.05297192651856\n",
      "Recall : 0.426317673378076 +/- 0.03613487084646895\n",
      "\n",
      "18\n",
      "Best threshold: 0.5\n",
      "F1 : 0.8743157894736843 +/- 0.007490714473539826\n",
      "Precision : 0.6599253673447222 +/- 0.042670256793696064\n",
      "Recall : 0.41691275167785236 +/- 0.02981679114505197\n",
      "\n",
      "19\n",
      "Best threshold: 0.51\n",
      "F1 : 0.8741052631578947 +/- 0.010021583356136315\n",
      "Precision : 0.6659033351312685 +/- 0.056462754179830675\n",
      "Recall : 0.4021923937360179 +/- 0.03648615262758673\n",
      "\n",
      "20\n",
      "Best threshold: 0.5\n",
      "F1 : 0.8734736842105264 +/- 0.009587618978303729\n",
      "Precision : 0.648246685615073 +/- 0.05162213260324232\n",
      "Recall : 0.4303624161073826 +/- 0.030958083836404582\n",
      "\n",
      "21\n",
      "Best threshold: 0.5\n",
      "F1 : 0.876 +/- 0.006834813928735989\n",
      "Precision : 0.6632728413082601 +/- 0.036912875817066454\n",
      "Recall : 0.43032662192393734 +/- 0.024297706301163076\n",
      "\n",
      "22\n",
      "Best threshold: 0.51\n",
      "F1 : 0.8789473684210526 +/- 0.008857130091773734\n",
      "Precision : 0.6975089896274207 +/- 0.04875301618661577\n",
      "Recall : 0.4062013422818792 +/- 0.03652036964785888\n",
      "\n",
      "23\n",
      "Best threshold: 0.5\n",
      "F1 : 0.876 +/- 0.00886713250048535\n",
      "Precision : 0.6620236381896375 +/- 0.043533436681122854\n",
      "Recall : 0.43167785234899325 +/- 0.034069642017261655\n",
      "\n",
      "24\n",
      "Best threshold: 0.52\n",
      "F1 : 0.875157894736842 +/- 0.009499380355939764\n",
      "Precision : 0.6748001123033165 +/- 0.05523174662119068\n",
      "Recall : 0.39949888143176737 +/- 0.031191740301772464\n",
      "\n",
      "25\n",
      "Best threshold: 0.5\n",
      "F1 : 0.8749473684210527 +/- 0.00802765303786849\n",
      "Precision : 0.6638074698374428 +/- 0.04592075079743869\n",
      "Recall : 0.4169306487695749 +/- 0.03397956935619725\n",
      "\n",
      "26\n",
      "Best threshold: 0.5\n",
      "F1 : 0.875578947368421 +/- 0.008561978697963322\n",
      "Precision : 0.6572608543998995 +/- 0.043933934687614994\n",
      "Recall : 0.4397046979865772 +/- 0.032260191685249316\n",
      "\n",
      "27\n",
      "Best threshold: 0.5\n",
      "F1 : 0.875157894736842 +/- 0.0051825404737225874\n",
      "Precision : 0.6636930177285855 +/- 0.02918077331147036\n",
      "Recall : 0.4182460850111857 +/- 0.026924543248360265\n",
      "\n",
      "28\n",
      "Best threshold: 0.5\n",
      "F1 : 0.876421052631579 +/- 0.007752401111377609\n",
      "Precision : 0.6667099097054296 +/- 0.044858286826820186\n",
      "Recall : 0.43166890380313194 +/- 0.03449659670896824\n",
      "\n",
      "29\n",
      "Best threshold: 0.5\n",
      "F1 : 0.8770526315789473 +/- 0.009089277113651756\n",
      "Precision : 0.6720676099949832 +/- 0.05254390598600911\n",
      "Recall : 0.42898434004474273 +/- 0.029495449689444057\n",
      "\n",
      "30\n",
      "Best threshold: 0.5\n"
     ]
    },
    {
     "ename": "KeyboardInterrupt",
     "evalue": "",
     "output_type": "error",
     "traceback": [
      "\u001b[1;31m---------------------------------------------------------------------------\u001b[0m",
      "\u001b[1;31mKeyboardInterrupt\u001b[0m                         Traceback (most recent call last)",
      "\u001b[1;32m<ipython-input-24-bb22613ec2a7>\u001b[0m in \u001b[0;36m<module>\u001b[1;34m\u001b[0m\n\u001b[0;32m     20\u001b[0m     \u001b[0mmodel\u001b[0m\u001b[1;33m.\u001b[0m\u001b[0mfit\u001b[0m\u001b[1;33m(\u001b[0m\u001b[0mX_train\u001b[0m\u001b[1;33m,\u001b[0m \u001b[0my_train\u001b[0m\u001b[1;33m)\u001b[0m\u001b[1;33m\u001b[0m\u001b[1;33m\u001b[0m\u001b[0m\n\u001b[0;32m     21\u001b[0m     \u001b[0mthreshold\u001b[0m \u001b[1;33m=\u001b[0m \u001b[0mhackday\u001b[0m\u001b[1;33m.\u001b[0m\u001b[0moptimal_threshold\u001b[0m\u001b[1;33m(\u001b[0m\u001b[0mmodel\u001b[0m\u001b[1;33m,\u001b[0m \u001b[0mX_test\u001b[0m\u001b[1;33m,\u001b[0m \u001b[0my_test\u001b[0m\u001b[1;33m)\u001b[0m\u001b[1;33m\u001b[0m\u001b[1;33m\u001b[0m\u001b[0m\n\u001b[1;32m---> 22\u001b[1;33m     \u001b[0mf1\u001b[0m \u001b[1;33m=\u001b[0m  \u001b[0mhackday\u001b[0m\u001b[1;33m.\u001b[0m\u001b[0mcross_validation\u001b[0m\u001b[1;33m(\u001b[0m\u001b[1;34m'rf'\u001b[0m\u001b[1;33m,\u001b[0m \u001b[0mmodel\u001b[0m\u001b[1;33m,\u001b[0m \u001b[0mX_train\u001b[0m\u001b[1;33m,\u001b[0m \u001b[0my_train\u001b[0m\u001b[1;33m,\u001b[0m \u001b[0mthreshold\u001b[0m\u001b[1;33m=\u001b[0m\u001b[0mthreshold\u001b[0m\u001b[1;33m,\u001b[0m \u001b[0mensemble\u001b[0m\u001b[1;33m=\u001b[0m\u001b[1;32mFalse\u001b[0m\u001b[1;33m)\u001b[0m\u001b[1;33m\u001b[0m\u001b[1;33m\u001b[0m\u001b[0m\n\u001b[0m\u001b[0;32m     23\u001b[0m \u001b[1;33m\u001b[0m\u001b[0m\n\u001b[0;32m     24\u001b[0m     \u001b[0mresults_rf\u001b[0m\u001b[1;33m.\u001b[0m\u001b[0mloc\u001b[0m\u001b[1;33m[\u001b[0m\u001b[0mcount\u001b[0m\u001b[1;33m,\u001b[0m \u001b[1;34m'f1'\u001b[0m\u001b[1;33m]\u001b[0m \u001b[1;33m=\u001b[0m \u001b[0mf1\u001b[0m\u001b[1;33m\u001b[0m\u001b[1;33m\u001b[0m\u001b[0m\n",
      "\u001b[1;32m~\\repos\\hackday-03\\notebooks\\hackday.py\u001b[0m in \u001b[0;36mcross_validation\u001b[1;34m(model_name, model, x_train, y_train, threshold, ensemble, n_splits)\u001b[0m\n\u001b[0;32m     53\u001b[0m         \u001b[0mprecision_list\u001b[0m\u001b[1;33m.\u001b[0m\u001b[0mappend\u001b[0m\u001b[1;33m(\u001b[0m\u001b[0mmetrics\u001b[0m\u001b[1;33m.\u001b[0m\u001b[0mprecision_score\u001b[0m\u001b[1;33m(\u001b[0m\u001b[0my_test_cv\u001b[0m\u001b[1;33m,\u001b[0m \u001b[0mpred\u001b[0m\u001b[1;33m)\u001b[0m\u001b[1;33m)\u001b[0m\u001b[1;33m\u001b[0m\u001b[1;33m\u001b[0m\u001b[0m\n\u001b[0;32m     54\u001b[0m         \u001b[0mrecall_list\u001b[0m\u001b[1;33m.\u001b[0m\u001b[0mappend\u001b[0m\u001b[1;33m(\u001b[0m\u001b[0mmetrics\u001b[0m\u001b[1;33m.\u001b[0m\u001b[0mrecall_score\u001b[0m\u001b[1;33m(\u001b[0m\u001b[0my_test_cv\u001b[0m\u001b[1;33m,\u001b[0m \u001b[0mpred\u001b[0m\u001b[1;33m)\u001b[0m\u001b[1;33m)\u001b[0m\u001b[1;33m\u001b[0m\u001b[1;33m\u001b[0m\u001b[0m\n\u001b[1;32m---> 55\u001b[1;33m         \u001b[0mf1_list\u001b[0m\u001b[1;33m.\u001b[0m\u001b[0mappend\u001b[0m\u001b[1;33m(\u001b[0m\u001b[0mmetrics\u001b[0m\u001b[1;33m.\u001b[0m\u001b[0mf1_score\u001b[0m\u001b[1;33m(\u001b[0m\u001b[0my_test_cv\u001b[0m\u001b[1;33m,\u001b[0m \u001b[0mpred\u001b[0m\u001b[1;33m,\u001b[0m \u001b[0maverage\u001b[0m\u001b[1;33m=\u001b[0m\u001b[1;34m'micro'\u001b[0m\u001b[1;33m)\u001b[0m\u001b[1;33m)\u001b[0m\u001b[1;33m\u001b[0m\u001b[1;33m\u001b[0m\u001b[0m\n\u001b[0m\u001b[0;32m     56\u001b[0m         \u001b[0mi\u001b[0m\u001b[1;33m+=\u001b[0m\u001b[1;36m1\u001b[0m\u001b[1;33m\u001b[0m\u001b[1;33m\u001b[0m\u001b[0m\n\u001b[0;32m     57\u001b[0m \u001b[1;33m\u001b[0m\u001b[0m\n",
      "\u001b[1;32m~\\anaconda3\\lib\\site-packages\\sklearn\\metrics\\_classification.py\u001b[0m in \u001b[0;36mf1_score\u001b[1;34m(y_true, y_pred, labels, pos_label, average, sample_weight, zero_division)\u001b[0m\n\u001b[0;32m   1134\u001b[0m     \u001b[0marray\u001b[0m\u001b[1;33m(\u001b[0m\u001b[1;33m[\u001b[0m\u001b[1;36m0.66666667\u001b[0m\u001b[1;33m,\u001b[0m \u001b[1;36m1.\u001b[0m        \u001b[1;33m,\u001b[0m \u001b[1;36m0.66666667\u001b[0m\u001b[1;33m]\u001b[0m\u001b[1;33m)\u001b[0m\u001b[1;33m\u001b[0m\u001b[1;33m\u001b[0m\u001b[0m\n\u001b[0;32m   1135\u001b[0m     \"\"\"\n\u001b[1;32m-> 1136\u001b[1;33m     return fbeta_score(\n\u001b[0m\u001b[0;32m   1137\u001b[0m         \u001b[0my_true\u001b[0m\u001b[1;33m,\u001b[0m\u001b[1;33m\u001b[0m\u001b[1;33m\u001b[0m\u001b[0m\n\u001b[0;32m   1138\u001b[0m         \u001b[0my_pred\u001b[0m\u001b[1;33m,\u001b[0m\u001b[1;33m\u001b[0m\u001b[1;33m\u001b[0m\u001b[0m\n",
      "\u001b[1;32m~\\anaconda3\\lib\\site-packages\\sklearn\\metrics\\_classification.py\u001b[0m in \u001b[0;36mfbeta_score\u001b[1;34m(y_true, y_pred, beta, labels, pos_label, average, sample_weight, zero_division)\u001b[0m\n\u001b[0;32m   1275\u001b[0m     \"\"\"\n\u001b[0;32m   1276\u001b[0m \u001b[1;33m\u001b[0m\u001b[0m\n\u001b[1;32m-> 1277\u001b[1;33m     _, _, f, _ = precision_recall_fscore_support(\n\u001b[0m\u001b[0;32m   1278\u001b[0m         \u001b[0my_true\u001b[0m\u001b[1;33m,\u001b[0m\u001b[1;33m\u001b[0m\u001b[1;33m\u001b[0m\u001b[0m\n\u001b[0;32m   1279\u001b[0m         \u001b[0my_pred\u001b[0m\u001b[1;33m,\u001b[0m\u001b[1;33m\u001b[0m\u001b[1;33m\u001b[0m\u001b[0m\n",
      "\u001b[1;32m~\\anaconda3\\lib\\site-packages\\sklearn\\metrics\\_classification.py\u001b[0m in \u001b[0;36mprecision_recall_fscore_support\u001b[1;34m(y_true, y_pred, beta, labels, pos_label, average, warn_for, sample_weight, zero_division)\u001b[0m\n\u001b[0;32m   1561\u001b[0m     \u001b[1;32mif\u001b[0m \u001b[0mbeta\u001b[0m \u001b[1;33m<\u001b[0m \u001b[1;36m0\u001b[0m\u001b[1;33m:\u001b[0m\u001b[1;33m\u001b[0m\u001b[1;33m\u001b[0m\u001b[0m\n\u001b[0;32m   1562\u001b[0m         \u001b[1;32mraise\u001b[0m \u001b[0mValueError\u001b[0m\u001b[1;33m(\u001b[0m\u001b[1;34m\"beta should be >=0 in the F-beta score\"\u001b[0m\u001b[1;33m)\u001b[0m\u001b[1;33m\u001b[0m\u001b[1;33m\u001b[0m\u001b[0m\n\u001b[1;32m-> 1563\u001b[1;33m     \u001b[0mlabels\u001b[0m \u001b[1;33m=\u001b[0m \u001b[0m_check_set_wise_labels\u001b[0m\u001b[1;33m(\u001b[0m\u001b[0my_true\u001b[0m\u001b[1;33m,\u001b[0m \u001b[0my_pred\u001b[0m\u001b[1;33m,\u001b[0m \u001b[0maverage\u001b[0m\u001b[1;33m,\u001b[0m \u001b[0mlabels\u001b[0m\u001b[1;33m,\u001b[0m \u001b[0mpos_label\u001b[0m\u001b[1;33m)\u001b[0m\u001b[1;33m\u001b[0m\u001b[1;33m\u001b[0m\u001b[0m\n\u001b[0m\u001b[0;32m   1564\u001b[0m \u001b[1;33m\u001b[0m\u001b[0m\n\u001b[0;32m   1565\u001b[0m     \u001b[1;31m# Calculate tp_sum, pred_sum, true_sum ###\u001b[0m\u001b[1;33m\u001b[0m\u001b[1;33m\u001b[0m\u001b[1;33m\u001b[0m\u001b[0m\n",
      "\u001b[1;32m~\\anaconda3\\lib\\site-packages\\sklearn\\metrics\\_classification.py\u001b[0m in \u001b[0;36m_check_set_wise_labels\u001b[1;34m(y_true, y_pred, average, labels, pos_label)\u001b[0m\n\u001b[0;32m   1362\u001b[0m         \u001b[1;32mraise\u001b[0m \u001b[0mValueError\u001b[0m\u001b[1;33m(\u001b[0m\u001b[1;34m\"average has to be one of \"\u001b[0m \u001b[1;33m+\u001b[0m \u001b[0mstr\u001b[0m\u001b[1;33m(\u001b[0m\u001b[0maverage_options\u001b[0m\u001b[1;33m)\u001b[0m\u001b[1;33m)\u001b[0m\u001b[1;33m\u001b[0m\u001b[1;33m\u001b[0m\u001b[0m\n\u001b[0;32m   1363\u001b[0m \u001b[1;33m\u001b[0m\u001b[0m\n\u001b[1;32m-> 1364\u001b[1;33m     \u001b[0my_type\u001b[0m\u001b[1;33m,\u001b[0m \u001b[0my_true\u001b[0m\u001b[1;33m,\u001b[0m \u001b[0my_pred\u001b[0m \u001b[1;33m=\u001b[0m \u001b[0m_check_targets\u001b[0m\u001b[1;33m(\u001b[0m\u001b[0my_true\u001b[0m\u001b[1;33m,\u001b[0m \u001b[0my_pred\u001b[0m\u001b[1;33m)\u001b[0m\u001b[1;33m\u001b[0m\u001b[1;33m\u001b[0m\u001b[0m\n\u001b[0m\u001b[0;32m   1365\u001b[0m     \u001b[1;31m# Convert to Python primitive type to avoid NumPy type / Python str\u001b[0m\u001b[1;33m\u001b[0m\u001b[1;33m\u001b[0m\u001b[1;33m\u001b[0m\u001b[0m\n\u001b[0;32m   1366\u001b[0m     \u001b[1;31m# comparison. See https://github.com/numpy/numpy/issues/6784\u001b[0m\u001b[1;33m\u001b[0m\u001b[1;33m\u001b[0m\u001b[1;33m\u001b[0m\u001b[0m\n",
      "\u001b[1;32m~\\anaconda3\\lib\\site-packages\\sklearn\\metrics\\_classification.py\u001b[0m in \u001b[0;36m_check_targets\u001b[1;34m(y_true, y_pred)\u001b[0m\n\u001b[0;32m     83\u001b[0m     \"\"\"\n\u001b[0;32m     84\u001b[0m     \u001b[0mcheck_consistent_length\u001b[0m\u001b[1;33m(\u001b[0m\u001b[0my_true\u001b[0m\u001b[1;33m,\u001b[0m \u001b[0my_pred\u001b[0m\u001b[1;33m)\u001b[0m\u001b[1;33m\u001b[0m\u001b[1;33m\u001b[0m\u001b[0m\n\u001b[1;32m---> 85\u001b[1;33m     \u001b[0mtype_true\u001b[0m \u001b[1;33m=\u001b[0m \u001b[0mtype_of_target\u001b[0m\u001b[1;33m(\u001b[0m\u001b[0my_true\u001b[0m\u001b[1;33m,\u001b[0m \u001b[0minput_name\u001b[0m\u001b[1;33m=\u001b[0m\u001b[1;34m\"y_true\"\u001b[0m\u001b[1;33m)\u001b[0m\u001b[1;33m\u001b[0m\u001b[1;33m\u001b[0m\u001b[0m\n\u001b[0m\u001b[0;32m     86\u001b[0m     \u001b[0mtype_pred\u001b[0m \u001b[1;33m=\u001b[0m \u001b[0mtype_of_target\u001b[0m\u001b[1;33m(\u001b[0m\u001b[0my_pred\u001b[0m\u001b[1;33m,\u001b[0m \u001b[0minput_name\u001b[0m\u001b[1;33m=\u001b[0m\u001b[1;34m\"y_pred\"\u001b[0m\u001b[1;33m)\u001b[0m\u001b[1;33m\u001b[0m\u001b[1;33m\u001b[0m\u001b[0m\n\u001b[0;32m     87\u001b[0m \u001b[1;33m\u001b[0m\u001b[0m\n",
      "\u001b[1;32m~\\anaconda3\\lib\\site-packages\\sklearn\\utils\\multiclass.py\u001b[0m in \u001b[0;36mtype_of_target\u001b[1;34m(y, input_name)\u001b[0m\n\u001b[0;32m    333\u001b[0m         \u001b[1;32mreturn\u001b[0m \u001b[1;34m\"continuous\"\u001b[0m \u001b[1;33m+\u001b[0m \u001b[0msuffix\u001b[0m\u001b[1;33m\u001b[0m\u001b[1;33m\u001b[0m\u001b[0m\n\u001b[0;32m    334\u001b[0m \u001b[1;33m\u001b[0m\u001b[0m\n\u001b[1;32m--> 335\u001b[1;33m     \u001b[1;32mif\u001b[0m \u001b[1;33m(\u001b[0m\u001b[0mlen\u001b[0m\u001b[1;33m(\u001b[0m\u001b[0mnp\u001b[0m\u001b[1;33m.\u001b[0m\u001b[0munique\u001b[0m\u001b[1;33m(\u001b[0m\u001b[0my\u001b[0m\u001b[1;33m)\u001b[0m\u001b[1;33m)\u001b[0m \u001b[1;33m>\u001b[0m \u001b[1;36m2\u001b[0m\u001b[1;33m)\u001b[0m \u001b[1;32mor\u001b[0m \u001b[1;33m(\u001b[0m\u001b[0my\u001b[0m\u001b[1;33m.\u001b[0m\u001b[0mndim\u001b[0m \u001b[1;33m>=\u001b[0m \u001b[1;36m2\u001b[0m \u001b[1;32mand\u001b[0m \u001b[0mlen\u001b[0m\u001b[1;33m(\u001b[0m\u001b[0my\u001b[0m\u001b[1;33m[\u001b[0m\u001b[1;36m0\u001b[0m\u001b[1;33m]\u001b[0m\u001b[1;33m)\u001b[0m \u001b[1;33m>\u001b[0m \u001b[1;36m1\u001b[0m\u001b[1;33m)\u001b[0m\u001b[1;33m:\u001b[0m\u001b[1;33m\u001b[0m\u001b[1;33m\u001b[0m\u001b[0m\n\u001b[0m\u001b[0;32m    336\u001b[0m         \u001b[1;32mreturn\u001b[0m \u001b[1;34m\"multiclass\"\u001b[0m \u001b[1;33m+\u001b[0m \u001b[0msuffix\u001b[0m  \u001b[1;31m# [1, 2, 3] or [[1., 2., 3]] or [[1, 2]]\u001b[0m\u001b[1;33m\u001b[0m\u001b[1;33m\u001b[0m\u001b[0m\n\u001b[0;32m    337\u001b[0m     \u001b[1;32melse\u001b[0m\u001b[1;33m:\u001b[0m\u001b[1;33m\u001b[0m\u001b[1;33m\u001b[0m\u001b[0m\n",
      "\u001b[1;32m<__array_function__ internals>\u001b[0m in \u001b[0;36munique\u001b[1;34m(*args, **kwargs)\u001b[0m\n",
      "\u001b[1;32m~\\anaconda3\\lib\\site-packages\\numpy\\lib\\arraysetops.py\u001b[0m in \u001b[0;36munique\u001b[1;34m(ar, return_index, return_inverse, return_counts, axis)\u001b[0m\n\u001b[0;32m    260\u001b[0m     \u001b[0mar\u001b[0m \u001b[1;33m=\u001b[0m \u001b[0mnp\u001b[0m\u001b[1;33m.\u001b[0m\u001b[0masanyarray\u001b[0m\u001b[1;33m(\u001b[0m\u001b[0mar\u001b[0m\u001b[1;33m)\u001b[0m\u001b[1;33m\u001b[0m\u001b[1;33m\u001b[0m\u001b[0m\n\u001b[0;32m    261\u001b[0m     \u001b[1;32mif\u001b[0m \u001b[0maxis\u001b[0m \u001b[1;32mis\u001b[0m \u001b[1;32mNone\u001b[0m\u001b[1;33m:\u001b[0m\u001b[1;33m\u001b[0m\u001b[1;33m\u001b[0m\u001b[0m\n\u001b[1;32m--> 262\u001b[1;33m         \u001b[0mret\u001b[0m \u001b[1;33m=\u001b[0m \u001b[0m_unique1d\u001b[0m\u001b[1;33m(\u001b[0m\u001b[0mar\u001b[0m\u001b[1;33m,\u001b[0m \u001b[0mreturn_index\u001b[0m\u001b[1;33m,\u001b[0m \u001b[0mreturn_inverse\u001b[0m\u001b[1;33m,\u001b[0m \u001b[0mreturn_counts\u001b[0m\u001b[1;33m)\u001b[0m\u001b[1;33m\u001b[0m\u001b[1;33m\u001b[0m\u001b[0m\n\u001b[0m\u001b[0;32m    263\u001b[0m         \u001b[1;32mreturn\u001b[0m \u001b[0m_unpack_tuple\u001b[0m\u001b[1;33m(\u001b[0m\u001b[0mret\u001b[0m\u001b[1;33m)\u001b[0m\u001b[1;33m\u001b[0m\u001b[1;33m\u001b[0m\u001b[0m\n\u001b[0;32m    264\u001b[0m \u001b[1;33m\u001b[0m\u001b[0m\n",
      "\u001b[1;32m~\\anaconda3\\lib\\site-packages\\numpy\\lib\\arraysetops.py\u001b[0m in \u001b[0;36m_unique1d\u001b[1;34m(ar, return_index, return_inverse, return_counts)\u001b[0m\n\u001b[0;32m    321\u001b[0m         \u001b[0maux\u001b[0m \u001b[1;33m=\u001b[0m \u001b[0mar\u001b[0m\u001b[1;33m[\u001b[0m\u001b[0mperm\u001b[0m\u001b[1;33m]\u001b[0m\u001b[1;33m\u001b[0m\u001b[1;33m\u001b[0m\u001b[0m\n\u001b[0;32m    322\u001b[0m     \u001b[1;32melse\u001b[0m\u001b[1;33m:\u001b[0m\u001b[1;33m\u001b[0m\u001b[1;33m\u001b[0m\u001b[0m\n\u001b[1;32m--> 323\u001b[1;33m         \u001b[0mar\u001b[0m\u001b[1;33m.\u001b[0m\u001b[0msort\u001b[0m\u001b[1;33m(\u001b[0m\u001b[1;33m)\u001b[0m\u001b[1;33m\u001b[0m\u001b[1;33m\u001b[0m\u001b[0m\n\u001b[0m\u001b[0;32m    324\u001b[0m         \u001b[0maux\u001b[0m \u001b[1;33m=\u001b[0m \u001b[0mar\u001b[0m\u001b[1;33m\u001b[0m\u001b[1;33m\u001b[0m\u001b[0m\n\u001b[0;32m    325\u001b[0m     \u001b[0mmask\u001b[0m \u001b[1;33m=\u001b[0m \u001b[0mnp\u001b[0m\u001b[1;33m.\u001b[0m\u001b[0mempty\u001b[0m\u001b[1;33m(\u001b[0m\u001b[0maux\u001b[0m\u001b[1;33m.\u001b[0m\u001b[0mshape\u001b[0m\u001b[1;33m,\u001b[0m \u001b[0mdtype\u001b[0m\u001b[1;33m=\u001b[0m\u001b[0mnp\u001b[0m\u001b[1;33m.\u001b[0m\u001b[0mbool_\u001b[0m\u001b[1;33m)\u001b[0m\u001b[1;33m\u001b[0m\u001b[1;33m\u001b[0m\u001b[0m\n",
      "\u001b[1;31mKeyboardInterrupt\u001b[0m: "
     ]
    }
   ],
   "source": [
    "import random\n",
    "results_rf = pd.DataFrame()\n",
    "count = 0\n",
    "\n",
    "for i in range(300):\n",
    "    \n",
    "    max_depth = random.choice(np.arange(70,100,20))\n",
    "    min_samples_split = random.choice([2,3,4,5])\n",
    "    min_child_weight = random.choice(np.arange(0.001,0.003,0.0005))\n",
    "    min_samples_leaf = random.choice([1,2,3])\n",
    "    n_estimators = random.choice(np.arange(200,300,50))\n",
    "#     n_estimators = random.choice(np.arange(100,200,10))\n",
    "\n",
    "\n",
    "    model = RandomForestClassifier(n_estimators = n_estimators,\n",
    "                          max_depth =max_depth ,\n",
    "                          min_samples_leaf=min_samples_leaf,\n",
    "                          min_samples_split=min_samples_split)\n",
    "    \n",
    "    model.fit(X_train, y_train)\n",
    "    threshold = hackday.optimal_threshold(model, X_test, y_test)\n",
    "    f1 =  hackday.cross_validation('rf', model, X_train, y_train, threshold=threshold, ensemble=False)\n",
    "    \n",
    "    results_rf.loc[count, 'f1'] = f1\n",
    "    results_rf.loc[count, 'threshold'] = threshold\n",
    "    results_rf.loc[count, 'n_estimators'] = n_estimators\n",
    "    results_rf.loc[count, 'max_depth'] = max_depth\n",
    "    results_rf.loc[count, 'min_samples_leaf'] = min_samples_leaf\n",
    "    results_rf.loc[count, 'min_samples_split'] = min_samples_split\n",
    "    \n",
    "    count+=1\n",
    "    print(count)"
   ]
  },
  {
   "cell_type": "code",
   "execution_count": 15,
   "id": "f94d29a3",
   "metadata": {
    "ExecuteTime": {
     "end_time": "2022-10-23T12:11:55.415545Z",
     "start_time": "2022-10-23T12:11:55.390508Z"
    }
   },
   "outputs": [
    {
     "data": {
      "text/html": [
       "<div>\n",
       "<style scoped>\n",
       "    .dataframe tbody tr th:only-of-type {\n",
       "        vertical-align: middle;\n",
       "    }\n",
       "\n",
       "    .dataframe tbody tr th {\n",
       "        vertical-align: top;\n",
       "    }\n",
       "\n",
       "    .dataframe thead th {\n",
       "        text-align: right;\n",
       "    }\n",
       "</style>\n",
       "<table border=\"1\" class=\"dataframe\">\n",
       "  <thead>\n",
       "    <tr style=\"text-align: right;\">\n",
       "      <th></th>\n",
       "      <th>f1</th>\n",
       "      <th>threshold</th>\n",
       "      <th>max_depth</th>\n",
       "      <th>num_leaves</th>\n",
       "      <th>n_estimators</th>\n",
       "      <th>min_child_weight</th>\n",
       "    </tr>\n",
       "  </thead>\n",
       "  <tbody>\n",
       "    <tr>\n",
       "      <th>1</th>\n",
       "      <td>0.880211</td>\n",
       "      <td>0.5</td>\n",
       "      <td>70.0</td>\n",
       "      <td>70.0</td>\n",
       "      <td>250.0</td>\n",
       "      <td>0.0010</td>\n",
       "    </tr>\n",
       "    <tr>\n",
       "      <th>4</th>\n",
       "      <td>0.878737</td>\n",
       "      <td>0.5</td>\n",
       "      <td>90.0</td>\n",
       "      <td>70.0</td>\n",
       "      <td>250.0</td>\n",
       "      <td>0.0015</td>\n",
       "    </tr>\n",
       "    <tr>\n",
       "      <th>3</th>\n",
       "      <td>0.877474</td>\n",
       "      <td>0.5</td>\n",
       "      <td>70.0</td>\n",
       "      <td>70.0</td>\n",
       "      <td>250.0</td>\n",
       "      <td>0.0025</td>\n",
       "    </tr>\n",
       "    <tr>\n",
       "      <th>0</th>\n",
       "      <td>0.876632</td>\n",
       "      <td>0.5</td>\n",
       "      <td>90.0</td>\n",
       "      <td>70.0</td>\n",
       "      <td>200.0</td>\n",
       "      <td>0.0020</td>\n",
       "    </tr>\n",
       "    <tr>\n",
       "      <th>10</th>\n",
       "      <td>0.876211</td>\n",
       "      <td>0.5</td>\n",
       "      <td>90.0</td>\n",
       "      <td>70.0</td>\n",
       "      <td>250.0</td>\n",
       "      <td>0.0025</td>\n",
       "    </tr>\n",
       "  </tbody>\n",
       "</table>\n",
       "</div>"
      ],
      "text/plain": [
       "          f1  threshold  max_depth  num_leaves  n_estimators  min_child_weight\n",
       "1   0.880211        0.5       70.0        70.0         250.0            0.0010\n",
       "4   0.878737        0.5       90.0        70.0         250.0            0.0015\n",
       "3   0.877474        0.5       70.0        70.0         250.0            0.0025\n",
       "0   0.876632        0.5       90.0        70.0         200.0            0.0020\n",
       "10  0.876211        0.5       90.0        70.0         250.0            0.0025"
      ]
     },
     "execution_count": 15,
     "metadata": {},
     "output_type": "execute_result"
    }
   ],
   "source": [
    "results_rf.sort_values('f1', ascending=False).head(5)"
   ]
  },
  {
   "cell_type": "code",
   "execution_count": 8,
   "id": "e5569598",
   "metadata": {
    "ExecuteTime": {
     "end_time": "2022-10-23T12:30:19.372592Z",
     "start_time": "2022-10-23T12:29:36.300219Z"
    }
   },
   "outputs": [
    {
     "name": "stdout",
     "output_type": "stream",
     "text": [
      "Best threshold: 0.5\n",
      "F1 : 0.8717894736842104 +/- 0.006603952480571831\n",
      "Precision : 0.6433387508751381 +/- 0.03432057116839266\n",
      "Recall : 0.4533625730994152 +/- 0.027133179540222915\n",
      "\n",
      "1\n",
      "Best threshold: 0.5\n",
      "F1 : 0.8701052631578948 +/- 0.005008579896155941\n",
      "Precision : 0.6318730487522959 +/- 0.02771062086490139\n",
      "Recall : 0.45862573099415205 +/- 0.018269589885161773\n",
      "\n",
      "2\n",
      "Best threshold: 0.5\n",
      "F1 : 0.8688421052631579 +/- 0.0076661648235929\n",
      "Precision : 0.6290829559110191 +/- 0.036852678696208244\n",
      "Recall : 0.4467922256621947 +/- 0.03870179828376315\n",
      "\n",
      "3\n",
      "Best threshold: 0.5\n",
      "F1 : 0.8646315789473684 +/- 0.005750105382630628\n",
      "Precision : 0.6012872805463905 +/- 0.02125898416440056\n",
      "Recall : 0.4611971104231166 +/- 0.046917291762236885\n",
      "\n",
      "4\n",
      "Best threshold: 0.5\n",
      "F1 : 0.8707368421052631 +/- 0.00721340703116285\n",
      "Precision : 0.6396916742277567 +/- 0.0369654021725883\n",
      "Recall : 0.44680082559339523 +/- 0.019488427033372415\n",
      "\n",
      "5\n",
      "Best threshold: 0.5\n",
      "F1 : 0.8682105263157893 +/- 0.005465581046630432\n",
      "Precision : 0.6216919130906963 +/- 0.023349165103052433\n",
      "Recall : 0.45468696250429996 +/- 0.02678531926523992\n",
      "\n",
      "6\n",
      "Best threshold: 0.5\n",
      "F1 : 0.872421052631579 +/- 0.007775235921102878\n",
      "Precision : 0.6536576677167949 +/- 0.043884542140456353\n",
      "Recall : 0.44287925696594427 +/- 0.04451951561997071\n",
      "\n",
      "7\n",
      "Best threshold: 0.5\n",
      "F1 : 0.8692631578947367 +/- 0.006223892841724001\n",
      "Precision : 0.627764878352011 +/- 0.02265422395517775\n",
      "Recall : 0.45208978328173377 +/- 0.050423424458574145\n",
      "\n",
      "8\n",
      "Best threshold: 0.5\n",
      "F1 : 0.8732631578947367 +/- 0.005350848432479495\n",
      "Precision : 0.6636393788837237 +/- 0.029856665843876\n",
      "Recall : 0.42708978328173375 +/- 0.030545408469173065\n",
      "\n",
      "9\n",
      "Best threshold: 0.5\n",
      "F1 : 0.8705263157894738 +/- 0.005156820511122474\n",
      "Precision : 0.6430721026333239 +/- 0.042825501775701116\n",
      "Recall : 0.4454334365325077 +/- 0.03418827989398531\n",
      "\n",
      "10\n"
     ]
    }
   ],
   "source": [
    "import random\n",
    "results_ada = pd.DataFrame()\n",
    "count = 0\n",
    "\n",
    "for i in range(10):\n",
    "    \n",
    "    learning_rate = random.choice(np.arange(1.0,1.5,0.005))\n",
    "    n_estimators = random.choice(np.arange(50,300,50))\n",
    "    algorithm = random.choice(['SAMME', 'SAMME.R'])\n",
    "#     n_estimators = random.choice(np.arange(100,200,10))\n",
    "\n",
    "    model = AdaBoostClassifier(\n",
    "    n_estimators=n_estimators,\n",
    "    learning_rate=learning_rate,\n",
    "    algorithm=algorithm,\n",
    "    random_state=42,)\n",
    "    \n",
    "    model.fit(X_train, y_train)\n",
    "    threshold = hackday.optimal_threshold(model, X_test, y_test)\n",
    "    f1 =  hackday.cross_validation('ada', model, X_train, y_train, threshold=threshold, ensemble=False)\n",
    "    \n",
    "    results_ada.loc[count, 'f1'] = f1\n",
    "    results_ada.loc[count, 'threshold'] = threshold\n",
    "    results_ada.loc[count, 'n_estimators'] = n_estimators\n",
    "    results_ada.loc[count, 'learning_rate'] = learning_rate\n",
    "    results_ada.loc[count, 'algorithm'] = algorithm\n",
    "    \n",
    "    count+=1\n",
    "    print(count)\n",
    "return results_ada.sort_values('f1', ascending=False)"
   ]
  },
  {
   "cell_type": "code",
   "execution_count": 9,
   "id": "6124174e",
   "metadata": {
    "ExecuteTime": {
     "end_time": "2022-10-23T12:33:29.150191Z",
     "start_time": "2022-10-23T12:33:29.115149Z"
    }
   },
   "outputs": [
    {
     "data": {
      "text/html": [
       "<div>\n",
       "<style scoped>\n",
       "    .dataframe tbody tr th:only-of-type {\n",
       "        vertical-align: middle;\n",
       "    }\n",
       "\n",
       "    .dataframe tbody tr th {\n",
       "        vertical-align: top;\n",
       "    }\n",
       "\n",
       "    .dataframe thead th {\n",
       "        text-align: right;\n",
       "    }\n",
       "</style>\n",
       "<table border=\"1\" class=\"dataframe\">\n",
       "  <thead>\n",
       "    <tr style=\"text-align: right;\">\n",
       "      <th></th>\n",
       "      <th>f1</th>\n",
       "      <th>threshold</th>\n",
       "      <th>n_estimators</th>\n",
       "      <th>learning_rate</th>\n",
       "      <th>algorithm</th>\n",
       "    </tr>\n",
       "  </thead>\n",
       "  <tbody>\n",
       "    <tr>\n",
       "      <th>8</th>\n",
       "      <td>0.873263</td>\n",
       "      <td>0.5</td>\n",
       "      <td>250.0</td>\n",
       "      <td>1.045</td>\n",
       "      <td>SAMME</td>\n",
       "    </tr>\n",
       "    <tr>\n",
       "      <th>6</th>\n",
       "      <td>0.872421</td>\n",
       "      <td>0.5</td>\n",
       "      <td>100.0</td>\n",
       "      <td>1.070</td>\n",
       "      <td>SAMME</td>\n",
       "    </tr>\n",
       "    <tr>\n",
       "      <th>0</th>\n",
       "      <td>0.871789</td>\n",
       "      <td>0.5</td>\n",
       "      <td>250.0</td>\n",
       "      <td>1.025</td>\n",
       "      <td>SAMME</td>\n",
       "    </tr>\n",
       "    <tr>\n",
       "      <th>4</th>\n",
       "      <td>0.870737</td>\n",
       "      <td>0.5</td>\n",
       "      <td>50.0</td>\n",
       "      <td>1.460</td>\n",
       "      <td>SAMME</td>\n",
       "    </tr>\n",
       "    <tr>\n",
       "      <th>9</th>\n",
       "      <td>0.870526</td>\n",
       "      <td>0.5</td>\n",
       "      <td>50.0</td>\n",
       "      <td>1.080</td>\n",
       "      <td>SAMME</td>\n",
       "    </tr>\n",
       "    <tr>\n",
       "      <th>1</th>\n",
       "      <td>0.870105</td>\n",
       "      <td>0.5</td>\n",
       "      <td>50.0</td>\n",
       "      <td>1.325</td>\n",
       "      <td>SAMME</td>\n",
       "    </tr>\n",
       "    <tr>\n",
       "      <th>7</th>\n",
       "      <td>0.869263</td>\n",
       "      <td>0.5</td>\n",
       "      <td>50.0</td>\n",
       "      <td>1.200</td>\n",
       "      <td>SAMME.R</td>\n",
       "    </tr>\n",
       "    <tr>\n",
       "      <th>2</th>\n",
       "      <td>0.868842</td>\n",
       "      <td>0.5</td>\n",
       "      <td>250.0</td>\n",
       "      <td>1.285</td>\n",
       "      <td>SAMME</td>\n",
       "    </tr>\n",
       "    <tr>\n",
       "      <th>5</th>\n",
       "      <td>0.868211</td>\n",
       "      <td>0.5</td>\n",
       "      <td>200.0</td>\n",
       "      <td>1.285</td>\n",
       "      <td>SAMME</td>\n",
       "    </tr>\n",
       "    <tr>\n",
       "      <th>3</th>\n",
       "      <td>0.864632</td>\n",
       "      <td>0.5</td>\n",
       "      <td>100.0</td>\n",
       "      <td>1.320</td>\n",
       "      <td>SAMME.R</td>\n",
       "    </tr>\n",
       "  </tbody>\n",
       "</table>\n",
       "</div>"
      ],
      "text/plain": [
       "         f1  threshold  n_estimators  learning_rate algorithm\n",
       "8  0.873263        0.5         250.0          1.045     SAMME\n",
       "6  0.872421        0.5         100.0          1.070     SAMME\n",
       "0  0.871789        0.5         250.0          1.025     SAMME\n",
       "4  0.870737        0.5          50.0          1.460     SAMME\n",
       "9  0.870526        0.5          50.0          1.080     SAMME\n",
       "1  0.870105        0.5          50.0          1.325     SAMME\n",
       "7  0.869263        0.5          50.0          1.200   SAMME.R\n",
       "2  0.868842        0.5         250.0          1.285     SAMME\n",
       "5  0.868211        0.5         200.0          1.285     SAMME\n",
       "3  0.864632        0.5         100.0          1.320   SAMME.R"
      ]
     },
     "execution_count": 9,
     "metadata": {},
     "output_type": "execute_result"
    }
   ],
   "source": [
    "results_ada.sort_values('f1', ascending=False)"
   ]
  },
  {
   "cell_type": "code",
   "execution_count": 15,
   "id": "657772cc",
   "metadata": {
    "ExecuteTime": {
     "end_time": "2022-10-23T10:26:34.837828Z",
     "start_time": "2022-10-23T10:26:34.326824Z"
    }
   },
   "outputs": [
    {
     "data": {
      "text/html": [
       "<style>#sk-container-id-2 {color: black;background-color: white;}#sk-container-id-2 pre{padding: 0;}#sk-container-id-2 div.sk-toggleable {background-color: white;}#sk-container-id-2 label.sk-toggleable__label {cursor: pointer;display: block;width: 100%;margin-bottom: 0;padding: 0.3em;box-sizing: border-box;text-align: center;}#sk-container-id-2 label.sk-toggleable__label-arrow:before {content: \"▸\";float: left;margin-right: 0.25em;color: #696969;}#sk-container-id-2 label.sk-toggleable__label-arrow:hover:before {color: black;}#sk-container-id-2 div.sk-estimator:hover label.sk-toggleable__label-arrow:before {color: black;}#sk-container-id-2 div.sk-toggleable__content {max-height: 0;max-width: 0;overflow: hidden;text-align: left;background-color: #f0f8ff;}#sk-container-id-2 div.sk-toggleable__content pre {margin: 0.2em;color: black;border-radius: 0.25em;background-color: #f0f8ff;}#sk-container-id-2 input.sk-toggleable__control:checked~div.sk-toggleable__content {max-height: 200px;max-width: 100%;overflow: auto;}#sk-container-id-2 input.sk-toggleable__control:checked~label.sk-toggleable__label-arrow:before {content: \"▾\";}#sk-container-id-2 div.sk-estimator input.sk-toggleable__control:checked~label.sk-toggleable__label {background-color: #d4ebff;}#sk-container-id-2 div.sk-label input.sk-toggleable__control:checked~label.sk-toggleable__label {background-color: #d4ebff;}#sk-container-id-2 input.sk-hidden--visually {border: 0;clip: rect(1px 1px 1px 1px);clip: rect(1px, 1px, 1px, 1px);height: 1px;margin: -1px;overflow: hidden;padding: 0;position: absolute;width: 1px;}#sk-container-id-2 div.sk-estimator {font-family: monospace;background-color: #f0f8ff;border: 1px dotted black;border-radius: 0.25em;box-sizing: border-box;margin-bottom: 0.5em;}#sk-container-id-2 div.sk-estimator:hover {background-color: #d4ebff;}#sk-container-id-2 div.sk-parallel-item::after {content: \"\";width: 100%;border-bottom: 1px solid gray;flex-grow: 1;}#sk-container-id-2 div.sk-label:hover label.sk-toggleable__label {background-color: #d4ebff;}#sk-container-id-2 div.sk-serial::before {content: \"\";position: absolute;border-left: 1px solid gray;box-sizing: border-box;top: 0;bottom: 0;left: 50%;z-index: 0;}#sk-container-id-2 div.sk-serial {display: flex;flex-direction: column;align-items: center;background-color: white;padding-right: 0.2em;padding-left: 0.2em;position: relative;}#sk-container-id-2 div.sk-item {position: relative;z-index: 1;}#sk-container-id-2 div.sk-parallel {display: flex;align-items: stretch;justify-content: center;background-color: white;position: relative;}#sk-container-id-2 div.sk-item::before, #sk-container-id-2 div.sk-parallel-item::before {content: \"\";position: absolute;border-left: 1px solid gray;box-sizing: border-box;top: 0;bottom: 0;left: 50%;z-index: -1;}#sk-container-id-2 div.sk-parallel-item {display: flex;flex-direction: column;z-index: 1;position: relative;background-color: white;}#sk-container-id-2 div.sk-parallel-item:first-child::after {align-self: flex-end;width: 50%;}#sk-container-id-2 div.sk-parallel-item:last-child::after {align-self: flex-start;width: 50%;}#sk-container-id-2 div.sk-parallel-item:only-child::after {width: 0;}#sk-container-id-2 div.sk-dashed-wrapped {border: 1px dashed gray;margin: 0 0.4em 0.5em 0.4em;box-sizing: border-box;padding-bottom: 0.4em;background-color: white;}#sk-container-id-2 div.sk-label label {font-family: monospace;font-weight: bold;display: inline-block;line-height: 1.2em;}#sk-container-id-2 div.sk-label-container {text-align: center;}#sk-container-id-2 div.sk-container {/* jupyter's `normalize.less` sets `[hidden] { display: none; }` but bootstrap.min.css set `[hidden] { display: none !important; }` so we also need the `!important` here to be able to override the default hidden behavior on the sphinx rendered scikit-learn.org. See: https://github.com/scikit-learn/scikit-learn/issues/21755 */display: inline-block !important;position: relative;}#sk-container-id-2 div.sk-text-repr-fallback {display: none;}</style><div id=\"sk-container-id-2\" class=\"sk-top-container\"><div class=\"sk-text-repr-fallback\"><pre>LGBMClassifier(learning_rate=0.018, n_estimators=150, num_leaves=30)</pre><b>In a Jupyter environment, please rerun this cell to show the HTML representation or trust the notebook. <br />On GitHub, the HTML representation is unable to render, please try loading this page with nbviewer.org.</b></div><div class=\"sk-container\" hidden><div class=\"sk-item\"><div class=\"sk-estimator sk-toggleable\"><input class=\"sk-toggleable__control sk-hidden--visually\" id=\"sk-estimator-id-2\" type=\"checkbox\" checked><label for=\"sk-estimator-id-2\" class=\"sk-toggleable__label sk-toggleable__label-arrow\">LGBMClassifier</label><div class=\"sk-toggleable__content\"><pre>LGBMClassifier(learning_rate=0.018, n_estimators=150, num_leaves=30)</pre></div></div></div></div></div>"
      ],
      "text/plain": [
       "LGBMClassifier(learning_rate=0.018, n_estimators=150, num_leaves=30)"
      ]
     },
     "execution_count": 15,
     "metadata": {},
     "output_type": "execute_result"
    }
   ],
   "source": [
    "\n",
    "rf.fit(X_train, y_train)"
   ]
  },
  {
   "cell_type": "code",
   "execution_count": 68,
   "id": "18be2112",
   "metadata": {
    "ExecuteTime": {
     "end_time": "2022-10-23T11:59:52.654695Z",
     "start_time": "2022-10-23T11:59:51.941695Z"
    }
   },
   "outputs": [
    {
     "name": "stdout",
     "output_type": "stream",
     "text": [
      "Congratulations! Submission created!\n"
     ]
    }
   ],
   "source": [
    "\n",
    "lgbm.fit(X_train, y_train)\n",
    "\n",
    "# generate test dataset \n",
    "_, df_test = hackday.load_data()\n",
    "df_test = hackday.outlier_treatment(df_test)\n",
    "df_test = hackday.feature_engineering(df_test)\n",
    "df_test = hackday.data_preparation_test(df_test)\n",
    "\n",
    "all_cols = df_test.drop('id_cliente', axis=1).columns\n",
    "\n",
    "hackday.generate_submission(df_test ,lgbm, cols_selected=cols_selected)"
   ]
  },
  {
   "cell_type": "code",
   "execution_count": 69,
   "id": "37b478be",
   "metadata": {
    "ExecuteTime": {
     "end_time": "2022-10-23T11:59:58.208838Z",
     "start_time": "2022-10-23T11:59:57.927795Z"
    }
   },
   "outputs": [
    {
     "data": {
      "image/png": "[encoded data removed]",
      "text/plain": [
       "<Figure size 432x288 with 2 Axes>"
      ]
     },
     "metadata": {
      "needs_background": "light"
     },
     "output_type": "display_data"
    }
   ],
   "source": [
    "hackday.plot_cm(lgbm, X_test, y_test)"
   ]
  },
  {
   "cell_type": "code",
   "execution_count": 29,
   "id": "da524f30",
   "metadata": {
    "ExecuteTime": {
     "end_time": "2022-10-23T10:37:31.824466Z",
     "start_time": "2022-10-23T10:37:31.799471Z"
    }
   },
   "outputs": [],
   "source": []
  },
  {
   "cell_type": "code",
   "execution_count": 71,
   "id": "f24d3d0c",
   "metadata": {
    "ExecuteTime": {
     "end_time": "2022-10-23T12:00:09.321615Z",
     "start_time": "2022-10-23T12:00:09.298573Z"
    }
   },
   "outputs": [
    {
     "data": {
      "text/plain": [
       "Negar       0.893\n",
       "Conceder    0.107\n",
       "Name: limite_adicional, dtype: float64"
      ]
     },
     "execution_count": 71,
     "metadata": {},
     "output_type": "execute_result"
    }
   ],
   "source": [
    "pd.read_csv('../data/submission.csv')['limite_adicional'].value_counts(normalize=True)"
   ]
  },
  {
   "cell_type": "code",
   "execution_count": null,
   "id": "5b0e2b3e",
   "metadata": {},
   "outputs": [],
   "source": []
  },
  {
   "cell_type": "code",
   "execution_count": 42,
   "id": "b5179046",
   "metadata": {
    "ExecuteTime": {
     "end_time": "2022-10-23T10:51:53.918783Z",
     "start_time": "2022-10-23T10:51:53.617158Z"
    }
   },
   "outputs": [
    {
     "ename": "FileNotFoundError",
     "evalue": "[Errno 2] No such file or directory: '../data/submission.csv'",
     "output_type": "error",
     "traceback": [
      "\u001b[1;31m---------------------------------------------------------------------------\u001b[0m",
      "\u001b[1;31mFileNotFoundError\u001b[0m                         Traceback (most recent call last)",
      "\u001b[1;32m<ipython-input-42-39d29b9dbba8>\u001b[0m in \u001b[0;36m<module>\u001b[1;34m\u001b[0m\n\u001b[1;32m----> 1\u001b[1;33m \u001b[0mpd\u001b[0m\u001b[1;33m.\u001b[0m\u001b[0mread_csv\u001b[0m\u001b[1;33m(\u001b[0m\u001b[1;34m'../data/submission.csv'\u001b[0m\u001b[1;33m)\u001b[0m\u001b[1;33m[\u001b[0m\u001b[1;34m'limite_adicional'\u001b[0m\u001b[1;33m]\u001b[0m\u001b[1;33m.\u001b[0m\u001b[0mvalue_counts\u001b[0m\u001b[1;33m(\u001b[0m\u001b[0mnormalize\u001b[0m\u001b[1;33m=\u001b[0m\u001b[1;32mTrue\u001b[0m\u001b[1;33m)\u001b[0m\u001b[1;33m\u001b[0m\u001b[1;33m\u001b[0m\u001b[0m\n\u001b[0m",
      "\u001b[1;32m~\\anaconda3\\lib\\site-packages\\pandas\\util\\_decorators.py\u001b[0m in \u001b[0;36mwrapper\u001b[1;34m(*args, **kwargs)\u001b[0m\n\u001b[0;32m    309\u001b[0m                     \u001b[0mstacklevel\u001b[0m\u001b[1;33m=\u001b[0m\u001b[0mstacklevel\u001b[0m\u001b[1;33m,\u001b[0m\u001b[1;33m\u001b[0m\u001b[1;33m\u001b[0m\u001b[0m\n\u001b[0;32m    310\u001b[0m                 )\n\u001b[1;32m--> 311\u001b[1;33m             \u001b[1;32mreturn\u001b[0m \u001b[0mfunc\u001b[0m\u001b[1;33m(\u001b[0m\u001b[1;33m*\u001b[0m\u001b[0margs\u001b[0m\u001b[1;33m,\u001b[0m \u001b[1;33m**\u001b[0m\u001b[0mkwargs\u001b[0m\u001b[1;33m)\u001b[0m\u001b[1;33m\u001b[0m\u001b[1;33m\u001b[0m\u001b[0m\n\u001b[0m\u001b[0;32m    312\u001b[0m \u001b[1;33m\u001b[0m\u001b[0m\n\u001b[0;32m    313\u001b[0m         \u001b[1;32mreturn\u001b[0m \u001b[0mwrapper\u001b[0m\u001b[1;33m\u001b[0m\u001b[1;33m\u001b[0m\u001b[0m\n",
      "\u001b[1;32m~\\anaconda3\\lib\\site-packages\\pandas\\io\\parsers\\readers.py\u001b[0m in \u001b[0;36mread_csv\u001b[1;34m(filepath_or_buffer, sep, delimiter, header, names, index_col, usecols, squeeze, prefix, mangle_dupe_cols, dtype, engine, converters, true_values, false_values, skipinitialspace, skiprows, skipfooter, nrows, na_values, keep_default_na, na_filter, verbose, skip_blank_lines, parse_dates, infer_datetime_format, keep_date_col, date_parser, dayfirst, cache_dates, iterator, chunksize, compression, thousands, decimal, lineterminator, quotechar, quoting, doublequote, escapechar, comment, encoding, encoding_errors, dialect, error_bad_lines, warn_bad_lines, on_bad_lines, delim_whitespace, low_memory, memory_map, float_precision, storage_options)\u001b[0m\n\u001b[0;32m    678\u001b[0m     \u001b[0mkwds\u001b[0m\u001b[1;33m.\u001b[0m\u001b[0mupdate\u001b[0m\u001b[1;33m(\u001b[0m\u001b[0mkwds_defaults\u001b[0m\u001b[1;33m)\u001b[0m\u001b[1;33m\u001b[0m\u001b[1;33m\u001b[0m\u001b[0m\n\u001b[0;32m    679\u001b[0m \u001b[1;33m\u001b[0m\u001b[0m\n\u001b[1;32m--> 680\u001b[1;33m     \u001b[1;32mreturn\u001b[0m \u001b[0m_read\u001b[0m\u001b[1;33m(\u001b[0m\u001b[0mfilepath_or_buffer\u001b[0m\u001b[1;33m,\u001b[0m \u001b[0mkwds\u001b[0m\u001b[1;33m)\u001b[0m\u001b[1;33m\u001b[0m\u001b[1;33m\u001b[0m\u001b[0m\n\u001b[0m\u001b[0;32m    681\u001b[0m \u001b[1;33m\u001b[0m\u001b[0m\n\u001b[0;32m    682\u001b[0m \u001b[1;33m\u001b[0m\u001b[0m\n",
      "\u001b[1;32m~\\anaconda3\\lib\\site-packages\\pandas\\io\\parsers\\readers.py\u001b[0m in \u001b[0;36m_read\u001b[1;34m(filepath_or_buffer, kwds)\u001b[0m\n\u001b[0;32m    573\u001b[0m \u001b[1;33m\u001b[0m\u001b[0m\n\u001b[0;32m    574\u001b[0m     \u001b[1;31m# Create the parser.\u001b[0m\u001b[1;33m\u001b[0m\u001b[1;33m\u001b[0m\u001b[1;33m\u001b[0m\u001b[0m\n\u001b[1;32m--> 575\u001b[1;33m     \u001b[0mparser\u001b[0m \u001b[1;33m=\u001b[0m \u001b[0mTextFileReader\u001b[0m\u001b[1;33m(\u001b[0m\u001b[0mfilepath_or_buffer\u001b[0m\u001b[1;33m,\u001b[0m \u001b[1;33m**\u001b[0m\u001b[0mkwds\u001b[0m\u001b[1;33m)\u001b[0m\u001b[1;33m\u001b[0m\u001b[1;33m\u001b[0m\u001b[0m\n\u001b[0m\u001b[0;32m    576\u001b[0m \u001b[1;33m\u001b[0m\u001b[0m\n\u001b[0;32m    577\u001b[0m     \u001b[1;32mif\u001b[0m \u001b[0mchunksize\u001b[0m \u001b[1;32mor\u001b[0m \u001b[0miterator\u001b[0m\u001b[1;33m:\u001b[0m\u001b[1;33m\u001b[0m\u001b[1;33m\u001b[0m\u001b[0m\n",
      "\u001b[1;32m~\\anaconda3\\lib\\site-packages\\pandas\\io\\parsers\\readers.py\u001b[0m in \u001b[0;36m__init__\u001b[1;34m(self, f, engine, **kwds)\u001b[0m\n\u001b[0;32m    931\u001b[0m \u001b[1;33m\u001b[0m\u001b[0m\n\u001b[0;32m    932\u001b[0m         \u001b[0mself\u001b[0m\u001b[1;33m.\u001b[0m\u001b[0mhandles\u001b[0m\u001b[1;33m:\u001b[0m \u001b[0mIOHandles\u001b[0m \u001b[1;33m|\u001b[0m \u001b[1;32mNone\u001b[0m \u001b[1;33m=\u001b[0m \u001b[1;32mNone\u001b[0m\u001b[1;33m\u001b[0m\u001b[1;33m\u001b[0m\u001b[0m\n\u001b[1;32m--> 933\u001b[1;33m         \u001b[0mself\u001b[0m\u001b[1;33m.\u001b[0m\u001b[0m_engine\u001b[0m \u001b[1;33m=\u001b[0m \u001b[0mself\u001b[0m\u001b[1;33m.\u001b[0m\u001b[0m_make_engine\u001b[0m\u001b[1;33m(\u001b[0m\u001b[0mf\u001b[0m\u001b[1;33m,\u001b[0m \u001b[0mself\u001b[0m\u001b[1;33m.\u001b[0m\u001b[0mengine\u001b[0m\u001b[1;33m)\u001b[0m\u001b[1;33m\u001b[0m\u001b[1;33m\u001b[0m\u001b[0m\n\u001b[0m\u001b[0;32m    934\u001b[0m \u001b[1;33m\u001b[0m\u001b[0m\n\u001b[0;32m    935\u001b[0m     \u001b[1;32mdef\u001b[0m \u001b[0mclose\u001b[0m\u001b[1;33m(\u001b[0m\u001b[0mself\u001b[0m\u001b[1;33m)\u001b[0m\u001b[1;33m:\u001b[0m\u001b[1;33m\u001b[0m\u001b[1;33m\u001b[0m\u001b[0m\n",
      "\u001b[1;32m~\\anaconda3\\lib\\site-packages\\pandas\\io\\parsers\\readers.py\u001b[0m in \u001b[0;36m_make_engine\u001b[1;34m(self, f, engine)\u001b[0m\n\u001b[0;32m   1215\u001b[0m             \u001b[1;31m# \"Union[str, PathLike[str], ReadCsvBuffer[bytes], ReadCsvBuffer[str]]\"\u001b[0m\u001b[1;33m\u001b[0m\u001b[1;33m\u001b[0m\u001b[1;33m\u001b[0m\u001b[0m\n\u001b[0;32m   1216\u001b[0m             \u001b[1;31m# , \"str\", \"bool\", \"Any\", \"Any\", \"Any\", \"Any\", \"Any\"\u001b[0m\u001b[1;33m\u001b[0m\u001b[1;33m\u001b[0m\u001b[1;33m\u001b[0m\u001b[0m\n\u001b[1;32m-> 1217\u001b[1;33m             self.handles = get_handle(  # type: ignore[call-overload]\n\u001b[0m\u001b[0;32m   1218\u001b[0m                 \u001b[0mf\u001b[0m\u001b[1;33m,\u001b[0m\u001b[1;33m\u001b[0m\u001b[1;33m\u001b[0m\u001b[0m\n\u001b[0;32m   1219\u001b[0m                 \u001b[0mmode\u001b[0m\u001b[1;33m,\u001b[0m\u001b[1;33m\u001b[0m\u001b[1;33m\u001b[0m\u001b[0m\n",
      "\u001b[1;32m~\\anaconda3\\lib\\site-packages\\pandas\\io\\common.py\u001b[0m in \u001b[0;36mget_handle\u001b[1;34m(path_or_buf, mode, encoding, compression, memory_map, is_text, errors, storage_options)\u001b[0m\n\u001b[0;32m    787\u001b[0m         \u001b[1;32mif\u001b[0m \u001b[0mioargs\u001b[0m\u001b[1;33m.\u001b[0m\u001b[0mencoding\u001b[0m \u001b[1;32mand\u001b[0m \u001b[1;34m\"b\"\u001b[0m \u001b[1;32mnot\u001b[0m \u001b[1;32min\u001b[0m \u001b[0mioargs\u001b[0m\u001b[1;33m.\u001b[0m\u001b[0mmode\u001b[0m\u001b[1;33m:\u001b[0m\u001b[1;33m\u001b[0m\u001b[1;33m\u001b[0m\u001b[0m\n\u001b[0;32m    788\u001b[0m             \u001b[1;31m# Encoding\u001b[0m\u001b[1;33m\u001b[0m\u001b[1;33m\u001b[0m\u001b[1;33m\u001b[0m\u001b[0m\n\u001b[1;32m--> 789\u001b[1;33m             handle = open(\n\u001b[0m\u001b[0;32m    790\u001b[0m                 \u001b[0mhandle\u001b[0m\u001b[1;33m,\u001b[0m\u001b[1;33m\u001b[0m\u001b[1;33m\u001b[0m\u001b[0m\n\u001b[0;32m    791\u001b[0m                 \u001b[0mioargs\u001b[0m\u001b[1;33m.\u001b[0m\u001b[0mmode\u001b[0m\u001b[1;33m,\u001b[0m\u001b[1;33m\u001b[0m\u001b[1;33m\u001b[0m\u001b[0m\n",
      "\u001b[1;31mFileNotFoundError\u001b[0m: [Errno 2] No such file or directory: '../data/submission.csv'"
     ]
    }
   ],
   "source": [
    "pd.read_csv('../data/submission.csv')['limite_adicional'].value_counts(normalize=True)"
   ]
  },
  {
   "cell_type": "code",
   "execution_count": 31,
   "id": "9468bfa3",
   "metadata": {
    "ExecuteTime": {
     "end_time": "2022-10-22T21:00:37.960142Z",
     "start_time": "2022-10-22T21:00:37.947146Z"
    }
   },
   "outputs": [
    {
     "data": {
      "text/plain": [
       "0.15842105263157893"
      ]
     },
     "execution_count": 31,
     "metadata": {},
     "output_type": "execute_result"
    }
   ],
   "source": [
    "df_raw['limite_adicional'].mean()"
   ]
  },
  {
   "cell_type": "markdown",
   "id": "a01772f9",
   "metadata": {},
   "source": [
    "### Column Selection"
   ]
  },
  {
   "cell_type": "code",
   "execution_count": 34,
   "id": "8d628e5f",
   "metadata": {
    "ExecuteTime": {
     "end_time": "2022-10-22T23:23:41.852973Z",
     "start_time": "2022-10-22T23:23:41.127977Z"
    }
   },
   "outputs": [
    {
     "data": {
      "text/html": [
       "<style>#sk-container-id-3 {color: black;background-color: white;}#sk-container-id-3 pre{padding: 0;}#sk-container-id-3 div.sk-toggleable {background-color: white;}#sk-container-id-3 label.sk-toggleable__label {cursor: pointer;display: block;width: 100%;margin-bottom: 0;padding: 0.3em;box-sizing: border-box;text-align: center;}#sk-container-id-3 label.sk-toggleable__label-arrow:before {content: \"▸\";float: left;margin-right: 0.25em;color: #696969;}#sk-container-id-3 label.sk-toggleable__label-arrow:hover:before {color: black;}#sk-container-id-3 div.sk-estimator:hover label.sk-toggleable__label-arrow:before {color: black;}#sk-container-id-3 div.sk-toggleable__content {max-height: 0;max-width: 0;overflow: hidden;text-align: left;background-color: #f0f8ff;}#sk-container-id-3 div.sk-toggleable__content pre {margin: 0.2em;color: black;border-radius: 0.25em;background-color: #f0f8ff;}#sk-container-id-3 input.sk-toggleable__control:checked~div.sk-toggleable__content {max-height: 200px;max-width: 100%;overflow: auto;}#sk-container-id-3 input.sk-toggleable__control:checked~label.sk-toggleable__label-arrow:before {content: \"▾\";}#sk-container-id-3 div.sk-estimator input.sk-toggleable__control:checked~label.sk-toggleable__label {background-color: #d4ebff;}#sk-container-id-3 div.sk-label input.sk-toggleable__control:checked~label.sk-toggleable__label {background-color: #d4ebff;}#sk-container-id-3 input.sk-hidden--visually {border: 0;clip: rect(1px 1px 1px 1px);clip: rect(1px, 1px, 1px, 1px);height: 1px;margin: -1px;overflow: hidden;padding: 0;position: absolute;width: 1px;}#sk-container-id-3 div.sk-estimator {font-family: monospace;background-color: #f0f8ff;border: 1px dotted black;border-radius: 0.25em;box-sizing: border-box;margin-bottom: 0.5em;}#sk-container-id-3 div.sk-estimator:hover {background-color: #d4ebff;}#sk-container-id-3 div.sk-parallel-item::after {content: \"\";width: 100%;border-bottom: 1px solid gray;flex-grow: 1;}#sk-container-id-3 div.sk-label:hover label.sk-toggleable__label {background-color: #d4ebff;}#sk-container-id-3 div.sk-serial::before {content: \"\";position: absolute;border-left: 1px solid gray;box-sizing: border-box;top: 0;bottom: 0;left: 50%;z-index: 0;}#sk-container-id-3 div.sk-serial {display: flex;flex-direction: column;align-items: center;background-color: white;padding-right: 0.2em;padding-left: 0.2em;position: relative;}#sk-container-id-3 div.sk-item {position: relative;z-index: 1;}#sk-container-id-3 div.sk-parallel {display: flex;align-items: stretch;justify-content: center;background-color: white;position: relative;}#sk-container-id-3 div.sk-item::before, #sk-container-id-3 div.sk-parallel-item::before {content: \"\";position: absolute;border-left: 1px solid gray;box-sizing: border-box;top: 0;bottom: 0;left: 50%;z-index: -1;}#sk-container-id-3 div.sk-parallel-item {display: flex;flex-direction: column;z-index: 1;position: relative;background-color: white;}#sk-container-id-3 div.sk-parallel-item:first-child::after {align-self: flex-end;width: 50%;}#sk-container-id-3 div.sk-parallel-item:last-child::after {align-self: flex-start;width: 50%;}#sk-container-id-3 div.sk-parallel-item:only-child::after {width: 0;}#sk-container-id-3 div.sk-dashed-wrapped {border: 1px dashed gray;margin: 0 0.4em 0.5em 0.4em;box-sizing: border-box;padding-bottom: 0.4em;background-color: white;}#sk-container-id-3 div.sk-label label {font-family: monospace;font-weight: bold;display: inline-block;line-height: 1.2em;}#sk-container-id-3 div.sk-label-container {text-align: center;}#sk-container-id-3 div.sk-container {/* jupyter's `normalize.less` sets `[hidden] { display: none; }` but bootstrap.min.css set `[hidden] { display: none !important; }` so we also need the `!important` here to be able to override the default hidden behavior on the sphinx rendered scikit-learn.org. See: https://github.com/scikit-learn/scikit-learn/issues/21755 */display: inline-block !important;position: relative;}#sk-container-id-3 div.sk-text-repr-fallback {display: none;}</style><div id=\"sk-container-id-3\" class=\"sk-top-container\"><div class=\"sk-text-repr-fallback\"><pre>ExtraTreesClassifier(n_estimators=250, n_jobs=-1, random_state=3)</pre><b>In a Jupyter environment, please rerun this cell to show the HTML representation or trust the notebook. <br />On GitHub, the HTML representation is unable to render, please try loading this page with nbviewer.org.</b></div><div class=\"sk-container\" hidden><div class=\"sk-item\"><div class=\"sk-estimator sk-toggleable\"><input class=\"sk-toggleable__control sk-hidden--visually\" id=\"sk-estimator-id-6\" type=\"checkbox\" checked><label for=\"sk-estimator-id-6\" class=\"sk-toggleable__label sk-toggleable__label-arrow\">ExtraTreesClassifier</label><div class=\"sk-toggleable__content\"><pre>ExtraTreesClassifier(n_estimators=250, n_jobs=-1, random_state=3)</pre></div></div></div></div></div>"
      ],
      "text/plain": [
       "ExtraTreesClassifier(n_estimators=250, n_jobs=-1, random_state=3)"
      ]
     },
     "execution_count": 34,
     "metadata": {},
     "output_type": "execute_result"
    }
   ],
   "source": [
    "forest = ExtraTreesClassifier(n_estimators=250, random_state=3, n_jobs=-1)\n",
    "\n",
    "\n",
    "#data preparation\n",
    "x_train_n = X_train.copy()\n",
    "y_train_n = y_train.values\n",
    "forest.fit(x_train_n, y_train_n)"
   ]
  },
  {
   "cell_type": "code",
   "execution_count": 37,
   "id": "9dffc152",
   "metadata": {
    "ExecuteTime": {
     "end_time": "2022-10-22T23:24:46.230397Z",
     "start_time": "2022-10-22T23:24:45.889867Z"
    }
   },
   "outputs": [
    {
     "name": "stdout",
     "output_type": "stream",
     "text": [
      "Feature ranking:\n",
      "                     feature  importance\n",
      "0                 taxa_juros        0.17\n",
      "0        dias_atraso_dt_venc        0.13\n",
      "0        num_pgtos_atrasados        0.08\n",
      "0        num_cartoes_credito        0.07\n",
      "0       divida/saldos_atuais        0.07\n",
      "0       num_contas_bancarias        0.06\n",
      "0                      idade        0.06\n",
      "0  divida_atual/renda_mensal        0.06\n",
      "0      num_consultas_credito        0.05\n",
      "0    taxa_utilizacao_credito        0.05\n",
      "0              score_credito        0.05\n",
      "0                renda_anual        0.05\n",
      "0            num_emprestimos        0.05\n",
      "0                 negativado        0.02\n",
      "0           investe_exterior        0.01\n",
      "0           pessoa_polit_exp        0.01\n"
     ]
    },
    {
     "data": {
      "image/png": "[encoded data removed]",
      "text/plain": [
       "<Figure size 432x288 with 1 Axes>"
      ]
     },
     "metadata": {
      "needs_background": "light"
     },
     "output_type": "display_data"
    }
   ],
   "source": [
    "importances = forest.feature_importances_\n",
    "std = np.std([tree.feature_importances_ for tree in forest.estimators_], axis=0)\n",
    "indices = np.argsort(importances)[::-1]\n",
    "\n",
    "#print the feature ranking\n",
    "print('Feature ranking:')\n",
    "df = pd.DataFrame()\n",
    "for i, j in zip(x_train_n, forest.feature_importances_):\n",
    "    aux = pd.DataFrame({'feature':i, 'importance': j},index=[0])\n",
    "    df = pd.concat([df,aux],axis=0)\n",
    "    \n",
    "print(df.sort_values('importance', ascending=False))\n",
    "\n",
    "#Plot the impurity-based feature importances of the forest\n",
    "plt.figure()\n",
    "plt.title('Feature Importances')\n",
    "plt.bar(range(x_train_n.shape[1]),importances[indices], color='r', yerr=std[indices], align='center')\n",
    "plt.xticks(range(x_train_n.shape[1]),indices)\n",
    "plt.xlim([-1, x_train_n.shape[1]])\n",
    "plt.show();\n"
   ]
  },
  {
   "cell_type": "code",
   "execution_count": 45,
   "id": "6d821724",
   "metadata": {
    "ExecuteTime": {
     "end_time": "2022-10-22T23:26:36.901603Z",
     "start_time": "2022-10-22T23:26:36.889835Z"
    }
   },
   "outputs": [],
   "source": [
    "cols_selected = df.sort_values('importance', ascending = False)['feature'][:-3].tolist()"
   ]
  },
  {
   "cell_type": "markdown",
   "id": "d89ca43a",
   "metadata": {},
   "source": [
    "### Teste"
   ]
  },
  {
   "cell_type": "code",
   "execution_count": 31,
   "id": "22e2ba79",
   "metadata": {
    "ExecuteTime": {
     "end_time": "2022-10-22T14:21:17.084792Z",
     "start_time": "2022-10-22T14:21:17.009446Z"
    }
   },
   "outputs": [],
   "source": [
    "pred = pipe.predict(X_submission)"
   ]
  },
  {
   "cell_type": "code",
   "execution_count": 32,
   "id": "4e06b4b0",
   "metadata": {
    "ExecuteTime": {
     "end_time": "2022-10-22T14:21:27.034249Z",
     "start_time": "2022-10-22T14:21:27.023250Z"
    }
   },
   "outputs": [],
   "source": [
    "submission = pd.DataFrame()"
   ]
  },
  {
   "cell_type": "code",
   "execution_count": 33,
   "id": "845966e8",
   "metadata": {
    "ExecuteTime": {
     "end_time": "2022-10-22T14:21:48.106434Z",
     "start_time": "2022-10-22T14:21:48.087466Z"
    }
   },
   "outputs": [],
   "source": [
    "submission['id_cliente'] = ids\n",
    "submission['limite_adicional'] = pred"
   ]
  },
  {
   "cell_type": "code",
   "execution_count": 34,
   "id": "f22e64e0",
   "metadata": {
    "ExecuteTime": {
     "end_time": "2022-10-22T14:22:57.170847Z",
     "start_time": "2022-10-22T14:22:57.157847Z"
    }
   },
   "outputs": [],
   "source": [
    "map_resposta = {0: 'Negar', 1: 'Conceder'}"
   ]
  },
  {
   "cell_type": "code",
   "execution_count": 35,
   "id": "8ebdffad",
   "metadata": {
    "ExecuteTime": {
     "end_time": "2022-10-22T14:23:14.863965Z",
     "start_time": "2022-10-22T14:23:14.855962Z"
    }
   },
   "outputs": [],
   "source": [
    "submission['limite_adicional'] = submission['limite_adicional'].map(map_resposta)"
   ]
  },
  {
   "cell_type": "code",
   "execution_count": 36,
   "id": "d8eb9260",
   "metadata": {
    "ExecuteTime": {
     "end_time": "2022-10-22T14:23:43.235414Z",
     "start_time": "2022-10-22T14:23:43.209455Z"
    }
   },
   "outputs": [],
   "source": [
    "submission.to_csv('../data/submissao.csv', index=False)"
   ]
  },
  {
   "cell_type": "code",
   "execution_count": 37,
   "id": "00145459",
   "metadata": {
    "ExecuteTime": {
     "end_time": "2022-10-22T14:24:15.975469Z",
     "start_time": "2022-10-22T14:24:15.936126Z"
    }
   },
   "outputs": [
    {
     "data": {
      "text/html": [
       "<div>\n",
       "<style scoped>\n",
       "    .dataframe tbody tr th:only-of-type {\n",
       "        vertical-align: middle;\n",
       "    }\n",
       "\n",
       "    .dataframe tbody tr th {\n",
       "        vertical-align: top;\n",
       "    }\n",
       "\n",
       "    .dataframe thead th {\n",
       "        text-align: right;\n",
       "    }\n",
       "</style>\n",
       "<table border=\"1\" class=\"dataframe\">\n",
       "  <thead>\n",
       "    <tr style=\"text-align: right;\">\n",
       "      <th></th>\n",
       "      <th>id_cliente</th>\n",
       "      <th>limite_adicional</th>\n",
       "    </tr>\n",
       "  </thead>\n",
       "  <tbody>\n",
       "    <tr>\n",
       "      <th>0</th>\n",
       "      <td>2</td>\n",
       "      <td>Conceder</td>\n",
       "    </tr>\n",
       "    <tr>\n",
       "      <th>1</th>\n",
       "      <td>5</td>\n",
       "      <td>Negar</td>\n",
       "    </tr>\n",
       "    <tr>\n",
       "      <th>2</th>\n",
       "      <td>6</td>\n",
       "      <td>Negar</td>\n",
       "    </tr>\n",
       "    <tr>\n",
       "      <th>3</th>\n",
       "      <td>8</td>\n",
       "      <td>Negar</td>\n",
       "    </tr>\n",
       "    <tr>\n",
       "      <th>4</th>\n",
       "      <td>10</td>\n",
       "      <td>Negar</td>\n",
       "    </tr>\n",
       "    <tr>\n",
       "      <th>...</th>\n",
       "      <td>...</td>\n",
       "      <td>...</td>\n",
       "    </tr>\n",
       "    <tr>\n",
       "      <th>2995</th>\n",
       "      <td>12484</td>\n",
       "      <td>Negar</td>\n",
       "    </tr>\n",
       "    <tr>\n",
       "      <th>2996</th>\n",
       "      <td>12487</td>\n",
       "      <td>Negar</td>\n",
       "    </tr>\n",
       "    <tr>\n",
       "      <th>2997</th>\n",
       "      <td>12489</td>\n",
       "      <td>Negar</td>\n",
       "    </tr>\n",
       "    <tr>\n",
       "      <th>2998</th>\n",
       "      <td>12495</td>\n",
       "      <td>Conceder</td>\n",
       "    </tr>\n",
       "    <tr>\n",
       "      <th>2999</th>\n",
       "      <td>12498</td>\n",
       "      <td>Negar</td>\n",
       "    </tr>\n",
       "  </tbody>\n",
       "</table>\n",
       "<p>3000 rows × 2 columns</p>\n",
       "</div>"
      ],
      "text/plain": [
       "      id_cliente limite_adicional\n",
       "0              2         Conceder\n",
       "1              5            Negar\n",
       "2              6            Negar\n",
       "3              8            Negar\n",
       "4             10            Negar\n",
       "...          ...              ...\n",
       "2995       12484            Negar\n",
       "2996       12487            Negar\n",
       "2997       12489            Negar\n",
       "2998       12495         Conceder\n",
       "2999       12498            Negar\n",
       "\n",
       "[3000 rows x 2 columns]"
      ]
     },
     "execution_count": 37,
     "metadata": {},
     "output_type": "execute_result"
    }
   ],
   "source": [
    "pd.read_csv('../data/submissao.csv')"
   ]
  },
  {
   "cell_type": "code",
   "execution_count": null,
   "id": "4d14be93",
   "metadata": {},
   "outputs": [],
   "source": []
  }
 ],
 "metadata": {
  "kernelspec": {
   "display_name": "Python 3",
   "language": "python",
   "name": "python3"
  },
  "language_info": {
   "codemirror_mode": {
    "name": "ipython",
    "version": 3
   },
   "file_extension": ".py",
   "mimetype": "text/x-python",
   "name": "python",
   "nbconvert_exporter": "python",
   "pygments_lexer": "ipython3",
   "version": "3.8.8"
  },
  "varInspector": {
   "cols": {
    "lenName": 16,
    "lenType": 16,
    "lenVar": 40
   },
   "kernels_config": {
    "python": {
     "delete_cmd_postfix": "",
     "delete_cmd_prefix": "del ",
     "library": "var_list.py",
     "varRefreshCmd": "print(var_dic_list())"
    },
    "r": {
     "delete_cmd_postfix": ") ",
     "delete_cmd_prefix": "rm(",
     "library": "var_list.r",
     "varRefreshCmd": "cat(var_dic_list()) "
    }
   },
   "types_to_exclude": [
    "module",
    "function",
    "builtin_function_or_method",
    "instance",
    "_Feature"
   ],
   "window_display": false
  },
  "vscode": {
   "interpreter": {
    "hash": "25221b6b9a4d399886f2cc4863e60b0fd11067ce172b33ecf50faf510e9d19c2"
   }
  }
 },
 "nbformat": 4,
 "nbformat_minor": 5
}
