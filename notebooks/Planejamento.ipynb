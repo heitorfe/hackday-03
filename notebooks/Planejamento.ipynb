{
 "cells": [
  {
   "cell_type": "markdown",
   "id": "c50b1c6b",
   "metadata": {},
   "source": [
    "## Planejamento"
   ]
  },
  {
   "cell_type": "markdown",
   "id": "d3d34c54",
   "metadata": {},
   "source": [
    "* Ciclo 1 - Rodar de qualquer jeito e enviar submissão\n",
    "* Ciclo 2 - Entender melhor os dados (Sweet-Viz) \n",
    "* Ciclo 3 - Limpeza de dados (null, etc)\n",
    "* Ciclo 4 - 1º Feature Engineering\n",
    "...\n",
    " "
   ]
  },
  {
   "cell_type": "code",
   "execution_count": null,
   "id": "b94fa1f6",
   "metadata": {},
   "outputs": [],
   "source": []
  }
 ],
 "metadata": {
  "kernelspec": {
   "display_name": "Python 3",
   "language": "python",
   "name": "python3"
  },
  "language_info": {
   "codemirror_mode": {
    "name": "ipython",
    "version": 3
   },
   "file_extension": ".py",
   "mimetype": "text/x-python",
   "name": "python",
   "nbconvert_exporter": "python",
   "pygments_lexer": "ipython3",
   "version": "3.8.8"
  },
  "varInspector": {
   "cols": {
    "lenName": 16,
    "lenType": 16,
    "lenVar": 40
   },
   "kernels_config": {
    "python": {
     "delete_cmd_postfix": "",
     "delete_cmd_prefix": "del ",
     "library": "var_list.py",
     "varRefreshCmd": "print(var_dic_list())"
    },
    "r": {
     "delete_cmd_postfix": ") ",
     "delete_cmd_prefix": "rm(",
     "library": "var_list.r",
     "varRefreshCmd": "cat(var_dic_list()) "
    }
   },
   "types_to_exclude": [
    "module",
    "function",
    "builtin_function_or_method",
    "instance",
    "_Feature"
   ],
   "window_display": false
  }
 },
 "nbformat": 4,
 "nbformat_minor": 5
}
