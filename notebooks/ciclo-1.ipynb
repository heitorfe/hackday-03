{
 "cells": [
  {
   "cell_type": "markdown",
   "id": "1778241f",
   "metadata": {},
   "source": [
    "### Imports"
   ]
  },
  {
   "cell_type": "code",
   "execution_count": 96,
   "id": "47ee49aa",
   "metadata": {
    "ExecuteTime": {
     "end_time": "2022-10-22T13:40:39.028196Z",
     "start_time": "2022-10-22T13:40:39.016236Z"
    }
   },
   "outputs": [],
   "source": [
    "import pandas as pd\n",
    "import numpy as np\n",
    "from sklearn import preprocessing as pp\n",
    "from matplotlib import pyplot as plt\n",
    "from sklearn.linear_model import LogisticRegression\n",
    "from sklearn.ensemble import RandomForestClassifier, ExtraTreesClassifier\n",
    "from sklearn.neighbors import KNeighborsClassifier\n",
    "from sklearn.metrics import  f1_score, precision_score, recall_score\n",
    "from sklearn.model_selection import train_test_split, StratifiedKFold, KFold\n",
    "import seaborn as sns\n",
    "import plotly.express as px\n",
    "import sweetviz as sv\n",
    "import pickle\n",
    "from boruta import BorutaPy\n",
    "from lightgbm import LGBMClassifier\n",
    "from xgboost import XGBClassifier\n",
    "from sklearn.svm import SVR\n",
    "\n",
    "pd.set_option('display.max_rows', 100)\n",
    "pd.set_option('display.max_columns', 100)"
   ]
  },
  {
   "cell_type": "markdown",
   "id": "5d0b2e29",
   "metadata": {},
   "source": [
    "### Helper Functions"
   ]
  },
  {
   "cell_type": "code",
   "execution_count": 9,
   "id": "643c2683",
   "metadata": {
    "ExecuteTime": {
     "end_time": "2022-10-22T13:21:36.092901Z",
     "start_time": "2022-10-22T13:21:36.030900Z"
    }
   },
   "outputs": [],
   "source": [
    "def simple_model_test(model, nome):\n",
    "    #model definition\n",
    "\n",
    "    # model fit\n",
    "    model.fit(X_train, y_train)\n",
    "\n",
    "    #model predict\n",
    "    y_hat = model.predict(X_test)\n",
    "    \n",
    "    # evaluate\n",
    "    f1 = np.round(f1_score( y_test_, y_hat_ ), 2)\n",
    "    \n",
    "    print('{}\\n f1: {}'.format(model_name, f1))\n",
    "    return f1\n",
    "\n",
    "def send_model(model):\n",
    "     # model fit\n",
    "    model.fit(X_train[cols_selected], y_train)\n",
    "    pickle.dump(model, open('../parameters/model.pkl', 'wb'))\n",
    "    print('Model submited')\n",
    "    return None\n",
    "\n",
    "def target_encoding(df, column):\n",
    "    target = df.groupby(column)[alvo].mean()\n",
    "    df[column] = df[column].map(target)\n",
    "    pickle.dump(target, open(f'../parameters/{column}_encode.pkl', 'wb'))\n",
    "    print(f'Target Encode to {column}')\n",
    "    \n",
    "def frequency_encoding(df, column):\n",
    "    frequency = df.groupby(column)[alvo].count() / len(df)\n",
    "    df[column] = df[column].map(frequency)\n",
    "    pickle.dump(target, open(f'../parameters/{column}_encode.pkl', 'wb'))\n",
    "    print(f'Frequency Encode to {column}')"
   ]
  },
  {
   "cell_type": "markdown",
   "id": "bc4a2e2d",
   "metadata": {},
   "source": [
    "### Load Data "
   ]
  },
  {
   "cell_type": "code",
   "execution_count": 92,
   "id": "b28babef",
   "metadata": {
    "ExecuteTime": {
     "end_time": "2022-10-22T13:39:17.514503Z",
     "start_time": "2022-10-22T13:39:17.456004Z"
    }
   },
   "outputs": [],
   "source": [
    "path = '../data/train.csv'\n",
    "\n",
    "df_raw = pd.read_csv(path)\n",
    "test = pd.read_csv('../data/test.csv')"
   ]
  },
  {
   "cell_type": "markdown",
   "id": "a6891a9e",
   "metadata": {},
   "source": [
    "### Data Description"
   ]
  },
  {
   "cell_type": "code",
   "execution_count": 11,
   "id": "f35a5d8a",
   "metadata": {
    "ExecuteTime": {
     "end_time": "2022-10-22T13:21:43.286794Z",
     "start_time": "2022-10-22T13:21:43.278794Z"
    }
   },
   "outputs": [],
   "source": [
    "df1 = df_raw.copy()"
   ]
  },
  {
   "cell_type": "code",
   "execution_count": 12,
   "id": "80d329de",
   "metadata": {
    "ExecuteTime": {
     "end_time": "2022-10-22T13:21:49.875112Z",
     "start_time": "2022-10-22T13:21:49.862112Z"
    }
   },
   "outputs": [
    {
     "data": {
      "text/plain": [
       "(9500, 17)"
      ]
     },
     "execution_count": 12,
     "metadata": {},
     "output_type": "execute_result"
    }
   ],
   "source": [
    "df1.shape"
   ]
  },
  {
   "cell_type": "code",
   "execution_count": 34,
   "id": "74f3f949",
   "metadata": {
    "ExecuteTime": {
     "end_time": "2022-10-22T13:22:16.686283Z",
     "start_time": "2022-10-22T13:22:16.674268Z"
    }
   },
   "outputs": [
    {
     "data": {
      "text/html": [
       "<div>\n",
       "<style scoped>\n",
       "    .dataframe tbody tr th:only-of-type {\n",
       "        vertical-align: middle;\n",
       "    }\n",
       "\n",
       "    .dataframe tbody tr th {\n",
       "        vertical-align: top;\n",
       "    }\n",
       "\n",
       "    .dataframe thead th {\n",
       "        text-align: right;\n",
       "    }\n",
       "</style>\n",
       "<table border=\"1\" class=\"dataframe\">\n",
       "  <thead>\n",
       "    <tr style=\"text-align: right;\">\n",
       "      <th></th>\n",
       "      <th>8161</th>\n",
       "    </tr>\n",
       "  </thead>\n",
       "  <tbody>\n",
       "    <tr>\n",
       "      <th>id_cliente</th>\n",
       "      <td>4750</td>\n",
       "    </tr>\n",
       "    <tr>\n",
       "      <th>idade</th>\n",
       "      <td>24</td>\n",
       "    </tr>\n",
       "    <tr>\n",
       "      <th>saldo_atual</th>\n",
       "      <td>283.093834</td>\n",
       "    </tr>\n",
       "    <tr>\n",
       "      <th>divida_atual</th>\n",
       "      <td>2918.12</td>\n",
       "    </tr>\n",
       "    <tr>\n",
       "      <th>renda_anual</th>\n",
       "      <td>19834.94968</td>\n",
       "    </tr>\n",
       "    <tr>\n",
       "      <th>valor_em_investimentos</th>\n",
       "      <td>70.811855</td>\n",
       "    </tr>\n",
       "    <tr>\n",
       "      <th>taxa_utilizacao_credito</th>\n",
       "      <td>36.54257</td>\n",
       "    </tr>\n",
       "    <tr>\n",
       "      <th>num_emprestimos</th>\n",
       "      <td>6</td>\n",
       "    </tr>\n",
       "    <tr>\n",
       "      <th>num_contas_bancarias</th>\n",
       "      <td>6</td>\n",
       "    </tr>\n",
       "    <tr>\n",
       "      <th>num_cartoes_credito</th>\n",
       "      <td>7</td>\n",
       "    </tr>\n",
       "    <tr>\n",
       "      <th>dias_atraso_dt_venc</th>\n",
       "      <td>30</td>\n",
       "    </tr>\n",
       "    <tr>\n",
       "      <th>num_pgtos_atrasados</th>\n",
       "      <td>14</td>\n",
       "    </tr>\n",
       "    <tr>\n",
       "      <th>num_consultas_credito</th>\n",
       "      <td>11</td>\n",
       "    </tr>\n",
       "    <tr>\n",
       "      <th>taxa_juros</th>\n",
       "      <td>22</td>\n",
       "    </tr>\n",
       "    <tr>\n",
       "      <th>investe_exterior</th>\n",
       "      <td>Não</td>\n",
       "    </tr>\n",
       "    <tr>\n",
       "      <th>pessoa_polit_exp</th>\n",
       "      <td>Não</td>\n",
       "    </tr>\n",
       "    <tr>\n",
       "      <th>limite_adicional</th>\n",
       "      <td>Negar</td>\n",
       "    </tr>\n",
       "  </tbody>\n",
       "</table>\n",
       "</div>"
      ],
      "text/plain": [
       "                                8161\n",
       "id_cliente                      4750\n",
       "idade                             24\n",
       "saldo_atual               283.093834\n",
       "divida_atual                 2918.12\n",
       "renda_anual              19834.94968\n",
       "valor_em_investimentos     70.811855\n",
       "taxa_utilizacao_credito     36.54257\n",
       "num_emprestimos                    6\n",
       "num_contas_bancarias               6\n",
       "num_cartoes_credito                7\n",
       "dias_atraso_dt_venc               30\n",
       "num_pgtos_atrasados               14\n",
       "num_consultas_credito             11\n",
       "taxa_juros                        22\n",
       "investe_exterior                 Não\n",
       "pessoa_polit_exp                 Não\n",
       "limite_adicional               Negar"
      ]
     },
     "execution_count": 34,
     "metadata": {},
     "output_type": "execute_result"
    }
   ],
   "source": [
    "df1.sample().T"
   ]
  },
  {
   "cell_type": "code",
   "execution_count": 35,
   "id": "7100ee2b",
   "metadata": {
    "ExecuteTime": {
     "end_time": "2022-10-22T13:23:00.451549Z",
     "start_time": "2022-10-22T13:23:00.439552Z"
    }
   },
   "outputs": [],
   "source": [
    "# set target\n",
    "alvo = 'limite_adicional'"
   ]
  },
  {
   "cell_type": "markdown",
   "id": "003f30ef",
   "metadata": {},
   "source": [
    "#### Nulls"
   ]
  },
  {
   "cell_type": "code",
   "execution_count": 36,
   "id": "3184cfbc",
   "metadata": {
    "ExecuteTime": {
     "end_time": "2022-10-22T13:23:07.717666Z",
     "start_time": "2022-10-22T13:23:07.687633Z"
    }
   },
   "outputs": [
    {
     "data": {
      "text/plain": [
       "id_cliente                 0\n",
       "idade                      0\n",
       "saldo_atual                0\n",
       "divida_atual               0\n",
       "renda_anual                0\n",
       "valor_em_investimentos     0\n",
       "taxa_utilizacao_credito    0\n",
       "num_emprestimos            0\n",
       "num_contas_bancarias       0\n",
       "num_cartoes_credito        0\n",
       "dias_atraso_dt_venc        0\n",
       "num_pgtos_atrasados        0\n",
       "num_consultas_credito      0\n",
       "taxa_juros                 0\n",
       "investe_exterior           0\n",
       "pessoa_polit_exp           0\n",
       "limite_adicional           0\n",
       "dtype: int64"
      ]
     },
     "execution_count": 36,
     "metadata": {},
     "output_type": "execute_result"
    }
   ],
   "source": [
    "df1.isna().sum()"
   ]
  },
  {
   "cell_type": "markdown",
   "id": "c546e619",
   "metadata": {},
   "source": [
    "#### Dtypes"
   ]
  },
  {
   "cell_type": "code",
   "execution_count": 37,
   "id": "bbc6d955",
   "metadata": {
    "ExecuteTime": {
     "end_time": "2022-10-22T13:23:24.041964Z",
     "start_time": "2022-10-22T13:23:24.023963Z"
    }
   },
   "outputs": [
    {
     "data": {
      "text/plain": [
       "id_cliente                   int64\n",
       "idade                        int64\n",
       "saldo_atual                float64\n",
       "divida_atual               float64\n",
       "renda_anual                float64\n",
       "valor_em_investimentos     float64\n",
       "taxa_utilizacao_credito    float64\n",
       "num_emprestimos              int64\n",
       "num_contas_bancarias         int64\n",
       "num_cartoes_credito          int64\n",
       "dias_atraso_dt_venc          int64\n",
       "num_pgtos_atrasados          int64\n",
       "num_consultas_credito        int64\n",
       "taxa_juros                   int64\n",
       "investe_exterior            object\n",
       "pessoa_polit_exp            object\n",
       "limite_adicional            object\n",
       "dtype: object"
      ]
     },
     "execution_count": 37,
     "metadata": {},
     "output_type": "execute_result"
    }
   ],
   "source": [
    "df1.dtypes"
   ]
  },
  {
   "cell_type": "markdown",
   "id": "a9e0fe32",
   "metadata": {},
   "source": [
    "### Data Filtering"
   ]
  },
  {
   "cell_type": "code",
   "execution_count": 38,
   "id": "e8ea9a97",
   "metadata": {
    "ExecuteTime": {
     "end_time": "2022-10-22T13:24:08.284467Z",
     "start_time": "2022-10-22T13:24:08.271512Z"
    }
   },
   "outputs": [],
   "source": [
    "df2 = df1.copy()"
   ]
  },
  {
   "cell_type": "code",
   "execution_count": null,
   "id": "f3fe5b0d",
   "metadata": {},
   "outputs": [],
   "source": []
  },
  {
   "cell_type": "markdown",
   "id": "1d2f14b1",
   "metadata": {},
   "source": [
    "### Feature Engineering"
   ]
  },
  {
   "cell_type": "code",
   "execution_count": 39,
   "id": "06ab371c",
   "metadata": {
    "ExecuteTime": {
     "end_time": "2022-10-22T13:24:13.130874Z",
     "start_time": "2022-10-22T13:24:13.118838Z"
    }
   },
   "outputs": [],
   "source": [
    "df3 = df2.copy()"
   ]
  },
  {
   "cell_type": "code",
   "execution_count": null,
   "id": "8ad56bc3",
   "metadata": {},
   "outputs": [],
   "source": []
  },
  {
   "cell_type": "markdown",
   "id": "878e4cde",
   "metadata": {},
   "source": [
    "### Colum Selection"
   ]
  },
  {
   "cell_type": "code",
   "execution_count": 40,
   "id": "e5d38fcf",
   "metadata": {
    "ExecuteTime": {
     "end_time": "2022-10-22T13:24:15.696462Z",
     "start_time": "2022-10-22T13:24:15.678463Z"
    }
   },
   "outputs": [],
   "source": [
    "df4 = df3.copy()"
   ]
  },
  {
   "cell_type": "code",
   "execution_count": null,
   "id": "31deb92a",
   "metadata": {},
   "outputs": [],
   "source": []
  },
  {
   "cell_type": "markdown",
   "id": "f7d80898",
   "metadata": {},
   "source": [
    "### Data Preparation"
   ]
  },
  {
   "cell_type": "code",
   "execution_count": 86,
   "id": "b45fcdec",
   "metadata": {
    "ExecuteTime": {
     "end_time": "2022-10-22T13:38:39.440356Z",
     "start_time": "2022-10-22T13:38:39.423359Z"
    }
   },
   "outputs": [],
   "source": [
    "df5 = df4.copy()"
   ]
  },
  {
   "cell_type": "code",
   "execution_count": 87,
   "id": "5e1b0acb",
   "metadata": {
    "ExecuteTime": {
     "end_time": "2022-10-22T13:38:39.781713Z",
     "start_time": "2022-10-22T13:38:39.774715Z"
    }
   },
   "outputs": [],
   "source": [
    "num_columns = df5.select_dtypes('number').drop('id_cliente', axis=1).columns"
   ]
  },
  {
   "cell_type": "code",
   "execution_count": 88,
   "id": "95ba39a6",
   "metadata": {
    "ExecuteTime": {
     "end_time": "2022-10-22T13:38:40.190060Z",
     "start_time": "2022-10-22T13:38:40.162055Z"
    }
   },
   "outputs": [],
   "source": [
    "mms = pp.MinMaxScaler()\n",
    "\n",
    "df5[num_columns] = mms.fit_transform(df5[num_columns])\n",
    "\n",
    "bool_map = {'Sim': 1, 'Não': 0}\n",
    "target_map = {'Negar': 0, 'Conceder': 1}\n",
    "\n",
    "df5['investe_exterior'] = df5['investe_exterior'].map(bool_map)\n",
    "df5['pessoa_polit_exp'] = df5['pessoa_polit_exp'].map(bool_map)\n",
    "df5[alvo] = df5[alvo].map(target_map)"
   ]
  },
  {
   "cell_type": "code",
   "execution_count": 95,
   "id": "fae8de89",
   "metadata": {
    "ExecuteTime": {
     "end_time": "2022-10-22T13:39:47.409459Z",
     "start_time": "2022-10-22T13:39:47.398457Z"
    }
   },
   "outputs": [
    {
     "data": {
      "text/plain": [
       "0    7995\n",
       "1    1505\n",
       "Name: limite_adicional, dtype: int64"
      ]
     },
     "execution_count": 95,
     "metadata": {},
     "output_type": "execute_result"
    }
   ],
   "source": [
    "df5['limite_adicional'].value_counts()"
   ]
  },
  {
   "cell_type": "markdown",
   "id": "e0205889",
   "metadata": {},
   "source": [
    "### Model Train"
   ]
  },
  {
   "cell_type": "code",
   "execution_count": 102,
   "id": "f0542737",
   "metadata": {
    "ExecuteTime": {
     "end_time": "2022-10-22T13:43:29.296098Z",
     "start_time": "2022-10-22T13:43:29.271098Z"
    }
   },
   "outputs": [
    {
     "ename": "NameError",
     "evalue": "name 'X' is not defined",
     "output_type": "error",
     "traceback": [
      "\u001b[1;31m---------------------------------------------------------------------------\u001b[0m",
      "\u001b[1;31mNameError\u001b[0m                                 Traceback (most recent call last)",
      "\u001b[1;32m<ipython-input-102-9a0964f73d82>\u001b[0m in \u001b[0;36m<module>\u001b[1;34m\u001b[0m\n\u001b[0;32m      1\u001b[0m \u001b[1;31m# train test split\u001b[0m\u001b[1;33m\u001b[0m\u001b[1;33m\u001b[0m\u001b[1;33m\u001b[0m\u001b[0m\n\u001b[1;32m----> 2\u001b[1;33m \u001b[0mX_train\u001b[0m\u001b[1;33m,\u001b[0m \u001b[0mX_test\u001b[0m\u001b[1;33m,\u001b[0m \u001b[0my_train\u001b[0m\u001b[1;33m,\u001b[0m \u001b[0my_test\u001b[0m \u001b[1;33m=\u001b[0m \u001b[0mtrain_test_split\u001b[0m\u001b[1;33m(\u001b[0m\u001b[0mX\u001b[0m\u001b[1;33m,\u001b[0m \u001b[0my\u001b[0m\u001b[1;33m,\u001b[0m \u001b[0mtrain_size\u001b[0m\u001b[1;33m=\u001b[0m\u001b[1;36m0.8\u001b[0m\u001b[1;33m)\u001b[0m\u001b[1;33m\u001b[0m\u001b[1;33m\u001b[0m\u001b[0m\n\u001b[0m",
      "\u001b[1;31mNameError\u001b[0m: name 'X' is not defined"
     ]
    }
   ],
   "source": [
    "# train test split\n",
    "X_train, X_test, y_train, y_test = train_test_split(X, y, train_size=0.8)"
   ]
  },
  {
   "cell_type": "code",
   "execution_count": 100,
   "id": "d0218a5d",
   "metadata": {
    "ExecuteTime": {
     "end_time": "2022-10-22T13:42:23.421449Z",
     "start_time": "2022-10-22T13:42:23.407440Z"
    }
   },
   "outputs": [],
   "source": [
    "knn = KNeighborsClassifier()\n",
    "lgbm = LGBMClassifier()\n",
    "rf = RandomForestClassifier()\n",
    "lg = LogisticRegression()\n",
    "xgb = XGBClassifier()\n",
    "et = ExtraTreesClassifier()\n",
    "\n",
    "models = [knn, lgbm, rf, lg, xgb, et]"
   ]
  },
  {
   "cell_type": "code",
   "execution_count": 101,
   "id": "708a41e9",
   "metadata": {
    "ExecuteTime": {
     "end_time": "2022-10-22T13:42:38.982734Z",
     "start_time": "2022-10-22T13:42:38.952744Z"
    }
   },
   "outputs": [
    {
     "ename": "NameError",
     "evalue": "name 'X_train' is not defined",
     "output_type": "error",
     "traceback": [
      "\u001b[1;31m---------------------------------------------------------------------------\u001b[0m",
      "\u001b[1;31mNameError\u001b[0m                                 Traceback (most recent call last)",
      "\u001b[1;32m<ipython-input-101-3123c0328e0a>\u001b[0m in \u001b[0;36m<module>\u001b[1;34m\u001b[0m\n\u001b[0;32m      1\u001b[0m \u001b[1;32mfor\u001b[0m \u001b[0mmodel\u001b[0m \u001b[1;32min\u001b[0m \u001b[0mmodels\u001b[0m\u001b[1;33m:\u001b[0m\u001b[1;33m\u001b[0m\u001b[1;33m\u001b[0m\u001b[0m\n\u001b[1;32m----> 2\u001b[1;33m     \u001b[0msimple_model_test\u001b[0m\u001b[1;33m(\u001b[0m\u001b[0mmodel\u001b[0m\u001b[1;33m,\u001b[0m \u001b[1;34m'model'\u001b[0m\u001b[1;33m)\u001b[0m\u001b[1;33m\u001b[0m\u001b[1;33m\u001b[0m\u001b[0m\n\u001b[0m",
      "\u001b[1;32m<ipython-input-9-ab769b3e27ed>\u001b[0m in \u001b[0;36msimple_model_test\u001b[1;34m(model, nome)\u001b[0m\n\u001b[0;32m      3\u001b[0m \u001b[1;33m\u001b[0m\u001b[0m\n\u001b[0;32m      4\u001b[0m     \u001b[1;31m# model fit\u001b[0m\u001b[1;33m\u001b[0m\u001b[1;33m\u001b[0m\u001b[1;33m\u001b[0m\u001b[0m\n\u001b[1;32m----> 5\u001b[1;33m     \u001b[0mmodel\u001b[0m\u001b[1;33m.\u001b[0m\u001b[0mfit\u001b[0m\u001b[1;33m(\u001b[0m\u001b[0mX_train\u001b[0m\u001b[1;33m,\u001b[0m \u001b[0my_train\u001b[0m\u001b[1;33m)\u001b[0m\u001b[1;33m\u001b[0m\u001b[1;33m\u001b[0m\u001b[0m\n\u001b[0m\u001b[0;32m      6\u001b[0m \u001b[1;33m\u001b[0m\u001b[0m\n\u001b[0;32m      7\u001b[0m     \u001b[1;31m#model predict\u001b[0m\u001b[1;33m\u001b[0m\u001b[1;33m\u001b[0m\u001b[1;33m\u001b[0m\u001b[0m\n",
      "\u001b[1;31mNameError\u001b[0m: name 'X_train' is not defined"
     ]
    }
   ],
   "source": [
    "for model in models:\n",
    "    simple_model_test(model, 'model')"
   ]
  },
  {
   "cell_type": "code",
   "execution_count": null,
   "id": "ff722c96",
   "metadata": {},
   "outputs": [],
   "source": [
    "X = df5.drop(alvo, axis =1)\n",
    "y = df5[alvo]"
   ]
  },
  {
   "cell_type": "code",
   "execution_count": null,
   "id": "5643453c",
   "metadata": {},
   "outputs": [],
   "source": [
    "X_train, X_test, y_train, y_test = train_test_split(X, y, train_size=0.8)"
   ]
  },
  {
   "cell_type": "code",
   "execution_count": null,
   "id": "b1e3122e",
   "metadata": {},
   "outputs": [],
   "source": [
    "lgbm = LGBMRegressor"
   ]
  }
 ],
 "metadata": {
  "kernelspec": {
   "display_name": "Python 3",
   "language": "python",
   "name": "python3"
  },
  "language_info": {
   "codemirror_mode": {
    "name": "ipython",
    "version": 3
   },
   "file_extension": ".py",
   "mimetype": "text/x-python",
   "name": "python",
   "nbconvert_exporter": "python",
   "pygments_lexer": "ipython3",
   "version": "3.8.8"
  },
  "varInspector": {
   "cols": {
    "lenName": 16,
    "lenType": 16,
    "lenVar": 40
   },
   "kernels_config": {
    "python": {
     "delete_cmd_postfix": "",
     "delete_cmd_prefix": "del ",
     "library": "var_list.py",
     "varRefreshCmd": "print(var_dic_list())"
    },
    "r": {
     "delete_cmd_postfix": ") ",
     "delete_cmd_prefix": "rm(",
     "library": "var_list.r",
     "varRefreshCmd": "cat(var_dic_list()) "
    }
   },
   "types_to_exclude": [
    "module",
    "function",
    "builtin_function_or_method",
    "instance",
    "_Feature"
   ],
   "window_display": false
  }
 },
 "nbformat": 4,
 "nbformat_minor": 5
}
